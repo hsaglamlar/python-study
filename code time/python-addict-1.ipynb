{
 "cells": [
  {
   "cell_type": "markdown",
   "source": [],
   "metadata": {}
  },
  {
   "cell_type": "markdown",
   "source": [
    "A palindrome is a number that is the same when reversed, 2770772 for example. A palindrome can often be formed by adding a number to it's reverse: 641 + 146 = 787 (a palindrome). Using 78 as the seed, it takes 4 steps to produce a palindrome:\r\n",
    "78 + 87 = 165\r\n",
    "165 + 561 = 726\r\n",
    "726 + 627 = 1353\r\n",
    "1353 + 3531 = 4884 (a palindrome)\r\n",
    "About 97% of integers less than 10,000 produce palindromes in less than 25 steps. A few, like 196 and 879, may never form palindromes.\r\n",
    "Make a function that takes a palindrome as it's an argument and returns the smallest seed integer that will produce that palindrome, along with the number of steps required:\r\n",
    "pal_seq(palindrome) = (seed, steps)\r\n",
    "pal_seq(4884) ➞ (69, 4)\r\n",
    "pal_seq(1) ➞ (1, 0)\r\n",
    "pal_seq(11) ➞ (10, 1) --> 10 + 01 = 11\r\n",
    "pal_seq(3113) ➞ (199, 3)\r\n",
    "pal_seq(8836886388) ➞ (177, 15)\r\n",
    "Notes\r\n",
    "The sequence always terminates when the first palindrome is produced. If the seed is a palindrome, the sequence has 0 steps."
   ],
   "metadata": {}
  },
  {
   "cell_type": "code",
   "execution_count": null,
   "source": [
    "num = 4884\r\n",
    "seed = 1\r\n",
    "check = True\r\n",
    "while check:\r\n",
    "    count = seed    \r\n",
    "    step = 0\r\n",
    "    while count < num:\r\n",
    "        count = count + int(str(count)[::-1])\r\n",
    "        step += 1\r\n",
    "        if count == num:\r\n",
    "            check = False\r\n",
    "            break\r\n",
    "    if check : seed += 1\r\n",
    "    \r\n",
    "print(f\"seed : {seed} in {step} steps\")"
   ],
   "outputs": [],
   "metadata": {}
  },
  {
   "cell_type": "markdown",
   "source": [
    "Eğer bir sayının kendisi hariç tam bölenleri toplamı sayıdan büyükse o sayıya zengin sayı diyoruz. Örneğin 12 nin bölenleri 1,2,3,4,6 nın toplamı 16>12 olduğu için zengin sayıdır. En küçük tek zengin sayı nedir?"
   ],
   "metadata": {}
  },
  {
   "cell_type": "code",
   "execution_count": null,
   "source": [
    "zengin_liste=[]\r\n",
    "for i in range(2,1000):\r\n",
    "    sum = 0\r\n",
    "    for j in range(1,i):\r\n",
    "        if i%j == 0:\r\n",
    "            sum +=j\r\n",
    "    if sum > i and i%2:\r\n",
    "        zengin_liste.append([sum,i])\r\n",
    "print(\"En küçük zengin tek sayı :\", zengin_liste[0][1])"
   ],
   "outputs": [],
   "metadata": {}
  },
  {
   "cell_type": "markdown",
   "source": [
    "1'den 500'e kadar olan sayılardan mükemmel sayı olanları ekrana yazdırın. Bunun için bir sayının mükemmel olup olmadığını dönen bir tane fonksiyon yazın.\r\n",
    "Bir sayının bölenlerinin toplamı kendine eşitse bu sayı mükemmel bir sayıdır. Örnek olarak 6 mükemmel bir sayıdır (1 + 2 + 3 = 6)."
   ],
   "metadata": {}
  },
  {
   "cell_type": "code",
   "execution_count": null,
   "source": [
    "mukemmel=[]\r\n",
    "for i in range(2,500):\r\n",
    "    sum = 0\r\n",
    "    for j in range(1,i):\r\n",
    "        if i%j == 0:\r\n",
    "            sum +=j\r\n",
    "    if sum == i:\r\n",
    "        mukemmel.append(i)\r\n",
    "print(mukemmel)\r\n",
    "#[6, 28, 496]"
   ],
   "outputs": [],
   "metadata": {}
  },
  {
   "cell_type": "markdown",
   "source": [],
   "metadata": {}
  },
  {
   "cell_type": "markdown",
   "source": [
    "Pascal üçgeninin ilk n satırını yazdıran bir Python fonksiyonu yazın. \r\n",
    "Not : Pascal üçgeni, ilk olarak Blaise Pascal tarafından hayal edilen aritmetik ve geometrik bir şekildir.\r\n",
    "Örnek Pascal üçgeni:\r\n",
    "Her sayı üstte birbirine eklediği iki sayıdır\r\n",
    "Public link to this file\r\n",
    "https://slack-files.com/T022H615A9H-F029R0Q3ZT9-3fda8a3c6c\r\n",
    "\r\n",
    "<img src=\"image (1).png\">\r\n"
   ],
   "metadata": {}
  },
  {
   "cell_type": "code",
   "execution_count": null,
   "source": [
    "#Dustin çözüm\r\n",
    "kac = int(input('Kac satir? > '))\r\n",
    "baslangic = [1]\r\n",
    "result = [[1, 1]]\r\n",
    "say, n, s, k, b = 0, 0, 0, 1, 1\r\n",
    "while say <= kac - 3:\r\n",
    "    n, k = 0, 1\r\n",
    "    yeni = []\r\n",
    "    for i in range(b):\r\n",
    "        asama = result[s][n] + result[s][k]\r\n",
    "        yeni.append(asama)\r\n",
    "        n += 1\r\n",
    "        k += 1\r\n",
    "    yeni.append(1)\r\n",
    "    yeni.insert(0, 1)\r\n",
    "    result.append(yeni)\r\n",
    "    say += 1\r\n",
    "    b += 1\r\n",
    "    s += 1\r\n",
    "result.insert(0, baslangic)\r\n",
    "print(result)"
   ],
   "outputs": [],
   "metadata": {}
  },
  {
   "cell_type": "markdown",
   "source": [
    "A palindrome is a number that is the same when reversed, 2770772 for example. A palindrome can often be formed by adding a number to it's reverse: 641 + 146 = 787 (a palindrome). Using 78 as the seed, it takes 4 steps to produce a palindrome:\r\n",
    "78 + 87 = 165\r\n",
    "165 + 561 = 726\r\n",
    "726 + 627 = 1353\r\n",
    "1353 + 3531 = 4884 (a palindrome)\r\n",
    "About 97% of integers less than 10,000 produce palindromes in less than 25 steps. A few, like 196 and 879, may never form palindromes.\r\n",
    "Make a function that takes a palindrome as it's an argument and returns the smallest seed integer that will produce that palindrome, along with the number of steps required:\r\n",
    "pal_seq(palindrome) = (seed, steps)\r\n",
    "pal_seq(4884) ➞ (69, 4)\r\n",
    "pal_seq(1) ➞ (1, 0)\r\n",
    "pal_seq(11) ➞ (10, 1) --> 10 + 01 = 11\r\n",
    "pal_seq(3113) ➞ (199, 3)\r\n",
    "pal_seq(8836886388) ➞ (177, 15)\r\n",
    "Notes\r\n",
    "The sequence always terminates when the first palindrome is produced. If the seed is a palindrome, the sequence has 0 steps."
   ],
   "metadata": {}
  },
  {
   "cell_type": "code",
   "execution_count": null,
   "source": [
    "num = 4884\r\n",
    "seed = 1\r\n",
    "check = True\r\n",
    "while check:\r\n",
    "    count = seed\r\n",
    "    step = 0\r\n",
    "    while count < num:\r\n",
    "        count = count + int(str(count)[::-1])\r\n",
    "        step += 1\r\n",
    "        if count == num:\r\n",
    "            check = False\r\n",
    "            break\r\n",
    "    seed += 1\r\n",
    "\r\n",
    "print(f\"seed : {seed} in {step} steps\")"
   ],
   "outputs": [],
   "metadata": {}
  },
  {
   "cell_type": "markdown",
   "source": [
    "Verilen bir boş olmayan demetler listesinden her bir demetteki son elemana göre artan düzende sıralanmış bir liste elde etmek için bir Python programı yazın.\r\n",
    "Örnek Liste : [(2, 5), (1, 2), (4, 4), (2, 3), (2, 1)]\r\n",
    "Beklenen Sonuç : [(2, 1), (1 , 2), (2, 3), (4, 4), (2, 5)]"
   ],
   "metadata": {}
  },
  {
   "cell_type": "code",
   "execution_count": null,
   "source": [
    "#adsum çözüm\r\n",
    "liste = [(2, 5), (1, 2), (4, 4), (2, 3), (2, 1)]\r\n",
    "liste.sort(key=lambda x : x[1])\r\n",
    "print(liste)\r\n",
    "\r\n",
    "#Dustin çözüm\r\n",
    "liste = [(2, 5), (1, 2), (4, 4), (2, 3), (2, 1)]\r\n",
    "new = []\r\n",
    "newest = []\r\n",
    "for k, v in liste:\r\n",
    "    new.append((v, k))\r\n",
    "new.sort()\r\n",
    "for k, v in new:\r\n",
    "    newest.append((v, k))\r\n",
    "print(newest)"
   ],
   "outputs": [],
   "metadata": {}
  },
  {
   "cell_type": "markdown",
   "source": [
    "0., 4. ve 5. elemanları çıkardıktan sonra belirtilen listeyi yazdıracak bir Python programı yazın. \r\n",
    "Örnek Liste : ['Kırmızı', 'Yeşil', 'Beyaz', 'Siyah', 'Pembe', 'Sarı']\r\n",
    "Beklenen Çıktı : ['Yeşil', 'Beyaz', 'Siyah']"
   ],
   "metadata": {}
  },
  {
   "cell_type": "code",
   "execution_count": 6,
   "source": [
    "liste = ['Kırmızı', 'Yeşil', 'Beyaz', 'Siyah', 'Pembe', 'Sarı']\r\n",
    "\r\n",
    "del liste[4], liste[3], liste[0]\r\n",
    "print(liste)"
   ],
   "outputs": [
    {
     "output_type": "stream",
     "name": "stdout",
     "text": [
      "['Yeşil', 'Beyaz', 'Sarı']\n"
     ]
    }
   ],
   "metadata": {}
  },
  {
   "cell_type": "markdown",
   "source": [
    "Sayısal kök , bir sayıdaki tüm rakamların özyinelemeli toplamıdır.\r\n",
    "Verilen n, rakamlarının toplamını alın n. Bu değerin birden fazla hanesi varsa, tek haneli bir sayı üretilene kadar bu şekilde düşürmeye devam edin. Girdi, negatif olmayan bir tam sayı olacaktır.\r\n",
    "Örnekler\r\n",
    "    16  -->  1 + 6 = 7\r\n",
    "   942  -->  9 + 4 + 2 = 15  -->  1 + 5 = 6\r\n",
    "132189  -->  1 + 3 + 2 + 1 + 8 + 9 = 24  -->  2 + 4 = 6\r\n",
    "493193  -->  4 + 9 + 3 + 1 + 9 + 3 = 29  -->  2 + 9 = 11  -->  1 + 1 = 2"
   ],
   "metadata": {}
  },
  {
   "cell_type": "code",
   "execution_count": 2,
   "source": [
    "#Dustin çözümü\r\n",
    "def sayisal_kok(x):\r\n",
    "    x = str(x)\r\n",
    "    uzunluk = len(x)\r\n",
    "    while uzunluk > 1:\r\n",
    "        toplam = 0\r\n",
    "        for i in str(x):\r\n",
    "            toplam += int(i)\r\n",
    "            x = toplam\r\n",
    "        uzunluk = len(str(toplam))\r\n",
    "    return toplam\r\n",
    "\r\n",
    "sayisal_kok(493193)"
   ],
   "outputs": [
    {
     "output_type": "execute_result",
     "data": {
      "text/plain": [
       "2"
      ]
     },
     "metadata": {},
     "execution_count": 2
    }
   ],
   "metadata": {}
  },
  {
   "cell_type": "markdown",
   "source": [
    "Write a Python program to rearrange positive and negative numbers in a given array using Lambda. \r\n",
    "Sample Output:\r\n",
    "Original arrays:\r\n",
    "[-1, 2, -3, 5, 7, 8, 9, -10]\r\n",
    "Rearrange positive and negative numbers of the said array:\r\n",
    "[2, 5, 7, 8, 9, -10, -3, -1] (edited) "
   ],
   "metadata": {}
  },
  {
   "cell_type": "code",
   "execution_count": null,
   "source": [
    "#Dustin çözümü\r\n",
    "liste = [-1, 2, -3, 5, 7, 8, 9, -10]\r\n",
    "list1 = list(filter(lambda x : x > 0, liste))\r\n",
    "list2 = list(sorted(list(filter(lambda x : x < 0, liste))))\r\n",
    "list1.extend(list2)\r\n",
    "print(list1)"
   ],
   "outputs": [],
   "metadata": {}
  },
  {
   "cell_type": "markdown",
   "source": [
    "Problem :\r\n",
    "Given a collection of distinct integers, return all possible permutations.\r\n",
    "Example:\r\n",
    "Input:\r\n",
    "[1,2,3]\r\n",
    "Output:\r\n",
    "[\r\n",
    "  [1,2,3],\r\n",
    "  [1,3,2],\r\n",
    "  [2,1,3],\r\n",
    "  [2,3,1],\r\n",
    "  [3,1,2],\r\n",
    "  [3,2,1]\r\n",
    "]"
   ],
   "metadata": {}
  },
  {
   "cell_type": "code",
   "execution_count": 1,
   "source": [
    "#Dustin'inin çözümü\r\n",
    "import random\r\n",
    "a = [1, 2, 3, 4]\r\n",
    "uzunluk = len(a)\r\n",
    "fact = 1\r\n",
    "liste = []\r\n",
    "son = []\r\n",
    "for i in range(1, uzunluk + 1):\r\n",
    "    fact *= i\r\n",
    "while True:\r\n",
    "    x = random.choice(a)\r\n",
    "    if x not in liste:\r\n",
    "        liste.append(x)\r\n",
    "    if len(liste) == uzunluk:\r\n",
    "        if liste not in son:\r\n",
    "            son.append(liste)\r\n",
    "            liste = []\r\n",
    "            if len(son) == fact:\r\n",
    "                break\r\n",
    "        else:\r\n",
    "            liste = []\r\n",
    "son.sort()\r\n",
    "for i in son:\r\n",
    "    print(i)"
   ],
   "outputs": [
    {
     "output_type": "stream",
     "name": "stdout",
     "text": [
      "[1, 2, 3, 4]\n",
      "[1, 2, 4, 3]\n",
      "[1, 3, 2, 4]\n",
      "[1, 3, 4, 2]\n",
      "[1, 4, 2, 3]\n",
      "[1, 4, 3, 2]\n",
      "[2, 1, 3, 4]\n",
      "[2, 1, 4, 3]\n",
      "[2, 3, 1, 4]\n",
      "[2, 3, 4, 1]\n",
      "[2, 4, 1, 3]\n",
      "[2, 4, 3, 1]\n",
      "[3, 1, 2, 4]\n",
      "[3, 1, 4, 2]\n",
      "[3, 2, 1, 4]\n",
      "[3, 2, 4, 1]\n",
      "[3, 4, 1, 2]\n",
      "[3, 4, 2, 1]\n",
      "[4, 1, 2, 3]\n",
      "[4, 1, 3, 2]\n",
      "[4, 2, 1, 3]\n",
      "[4, 2, 3, 1]\n",
      "[4, 3, 1, 2]\n",
      "[4, 3, 2, 1]\n"
     ]
    }
   ],
   "metadata": {}
  },
  {
   "cell_type": "code",
   "execution_count": null,
   "source": [],
   "outputs": [],
   "metadata": {}
  },
  {
   "cell_type": "markdown",
   "source": [
    "Given an N by N matrix, rotate it by 90 degrees clockwise. For example, given the following matrix:\r\n",
    "[[1, 2, 3],\r\n",
    "[4, 5, 6],\r\n",
    "[7, 8, 9]]\r\n",
    "You should return:\r\n",
    "[[7, 4, 1],\r\n",
    "[8, 5, 2],\r\n",
    "[9, 6, 3]]\r\n",
    "\r\n",
    "https://slack-files.com/T022H615A9H-F029R0Q3ZT9-9a4f597a5b"
   ],
   "metadata": {}
  },
  {
   "cell_type": "code",
   "execution_count": null,
   "source": [
    "# Function to rotate the matrix\r\n",
    "# 90 degree clockwise\r\n",
    "def rotate90Clockwise(A):\r\n",
    "    N = len(A[0])\r\n",
    "    for i in range(N // 2):\r\n",
    "        for j in range(i, N - i - 1):\r\n",
    "            temp = A[i][j]\r\n",
    "            A[i][j] = A[N - 1 - j][i]\r\n",
    "            A[N - 1 - j][i] = A[N - 1 - i][N - 1 - j]\r\n",
    "            A[N - 1 - i][N - 1 - j] = A[j][N - 1 - i]\r\n",
    "            A[j][N - 1 - i] = temp\r\n",
    " \r\n",
    "# Function to print the matrix\r\n",
    "def printMatrix(A):\r\n",
    "    N = len(A[0])\r\n",
    "    for i in range(N):\r\n",
    "        print(A[i])\r\n",
    " \r\n",
    "# Driver code\r\n",
    "A = [[1, 2, 3, 4],\r\n",
    "     [5, 6, 7, 8],\r\n",
    "     [9, 10, 11, 12],\r\n",
    "     [13, 14, 15, 16]]\r\n",
    "rotate90Clockwise(A)\r\n",
    "printMatrix(A)\r\n",
    " \r\n",
    "# This code was contributed\r\n",
    "# by pk_tautolo\r\n"
   ],
   "outputs": [],
   "metadata": {}
  },
  {
   "cell_type": "markdown",
   "source": [
    "Given a string containing just the characters '(', ')', '{', '}', '[' and ']',\r\n",
    "determine if the input string is valid.\r\n",
    "An input string is valid if:\r\n",
    "Open brackets must be closed by the same type of brackets.\r\n",
    "Open brackets must be closed in the correct order.\r\n",
    "Note that an empty string is also considered valid.\r\n",
    "Example 1:\r\n",
    "Input: \"()\"\r\n",
    "Output: True\r\n",
    "Example 2:\r\n",
    "Input: \"()[]{}\"\r\n",
    "Output: True\r\n",
    "Example 3:\r\n",
    "Input: \"(]\"\r\n",
    "Output: False\r\n",
    "Example 4:\r\n",
    "Input: \"([)]\"\r\n",
    "Output: False\r\n",
    "Example 5:\r\n",
    "Input: \"{[]}\"\r\n",
    "Output: True "
   ],
   "metadata": {}
  },
  {
   "cell_type": "code",
   "execution_count": null,
   "source": [
    "def find_valid(string_tocheck=\"{[]}()\"):\r\n",
    "    item_list = list(string_tocheck)\r\n",
    "    ends={\"{\":\"}\", \"(\":\")\", \"[\":\"]\"}\r\n",
    "    closed_list = []\r\n",
    "    for item in item_list:\r\n",
    "        if len(closed_list)==0 and ends.get(item):\r\n",
    "            closed_list.append(ends[item])\r\n",
    "            continue\r\n",
    "        \r\n",
    "        if len(closed_list)>0 and item == closed_list[-1] :\r\n",
    "            closed_list.pop()\r\n",
    "        elif ends.get(item):\r\n",
    "            closed_list.append(ends[item])\r\n",
    "        else:\r\n",
    "            return False\r\n",
    "    \r\n",
    "    if len(closed_list)>0:\r\n",
    "        return False\r\n",
    "    else:\r\n",
    "        return True\r\n",
    "\r\n",
    "print(find_valid(\"(){}[[()]]\"))\r\n"
   ],
   "outputs": [],
   "metadata": {}
  },
  {
   "cell_type": "markdown",
   "source": [
    "Joseph hocanın çözümü:"
   ],
   "metadata": {}
  },
  {
   "cell_type": "code",
   "execution_count": null,
   "source": [
    "def isValid(text_check):\r\n",
    "    while \"()\" in text_check or \"[]\" in text_check or \"{}\" in text_check:\r\n",
    "        text_check = text_check.replace(\"()\", \"\").replace(\"[]\", \"\").replace(\"{}\", \"\")\r\n",
    "    return text_check == \"\"\r\n",
    "\r\n",
    "x = \"([{({})}]({}))\"\r\n",
    "isValid(x)"
   ],
   "outputs": [],
   "metadata": {}
  },
  {
   "cell_type": "markdown",
   "source": [
    "Collatz dizisi uzunluğunu bulunuz.Collatz dizisinde bir sonraki sayıyı bulma kuralı şöyledir:\r\n",
    "ni çift sayıysa: ni+1=ni/2\r\n",
    "ni tek sayıysa: ni+1=3ni+1\r\n",
    "ni=1ise dur.\r\n",
    "Söz gelişi, 13 ile başlayan bir dizi aşağıdaki gibi olur.\r\n",
    "13, 40, 20, 10, 5, 16, 8, 4, 2, 1"
   ],
   "metadata": {}
  },
  {
   "cell_type": "code",
   "execution_count": 1,
   "source": [
    "num = int( input(\"please enter the number:\") )\r\n",
    "collatz_list = [num]\r\n",
    "\r\n",
    "while num != 1:\r\n",
    "    if num % 2:\r\n",
    "        num = 3*num + 1\r\n",
    "    else:\r\n",
    "        num = num // 2\r\n",
    "    collatz_list.append(num)\r\n",
    "\r\n",
    "print(*collatz_list)\r\n"
   ],
   "outputs": [
    {
     "output_type": "stream",
     "name": "stdout",
     "text": [
      "33 100 50 25 76 38 19 58 29 88 44 22 11 34 17 52 26 13 40 20 10 5 16 8 4 2 1\n"
     ]
    }
   ],
   "metadata": {}
  },
  {
   "cell_type": "markdown",
   "source": [
    "Imagine you took all the numbers between 0 and n and concatenated them together into a long string. How many digits are there between 0 and n? Write a function that can calculate this.\r\n",
    "There are 0 digits between 0 and 1, there are 9 digits between 0 and 10 and there are 189 digits between 0 and 100.\r\n",
    "Examples digits(1) ➞ 0\r\n",
    "digits(10) ➞ 9\r\n",
    "digits(100) ➞ 189\r\n",
    "digits(2020) ➞ 6969\r\n",
    "Notes The numbers are going to be rather big so creating that string won't be practical.\r\n",
    "(Eğer fonksiyonlar bitmediyse kullanıcadan input alarak da çözebilirsiniz)"
   ],
   "metadata": {}
  },
  {
   "cell_type": "code",
   "execution_count": null,
   "source": [
    "def digits(n):\r\n",
    "    lentgth_digits = 0\r\n",
    "    if n<=1:\r\n",
    "        lentgth_digits = 1\r\n",
    "    else:\r\n",
    "        for i in range(n):\r\n",
    "            lentgth_digits += len(str(i))        \r\n",
    "        \r\n",
    "    return lentgth_digits -1\r\n",
    "\r\n",
    "print(digits(100))\r\n"
   ],
   "outputs": [],
   "metadata": {}
  },
  {
   "cell_type": "markdown",
   "source": [
    "Python Functions ufak bi giriş yapalım\r\n",
    "Note: Built-in Functions kullanmayalım\r\n",
    "Write a Python function to find the Max of three numbers."
   ],
   "metadata": {}
  },
  {
   "cell_type": "code",
   "execution_count": null,
   "source": [
    "num_list = [2, 25, -96]\r\n",
    "\r\n",
    "max_num = num_list[0]\r\n",
    "for i in num_list:\r\n",
    "    if i > max_num:\r\n",
    "        max_num = i\r\n",
    "print(max_num)"
   ],
   "outputs": [],
   "metadata": {}
  },
  {
   "cell_type": "markdown",
   "source": [
    "Write a Python program which iterates the integers from 1 to 50. For multiples of three print \"Fizz\" instead of the number and for the multiples of five print \"Buzz\". For numbers which are multiples of both three and five print \"FizzBuzz\".\r\n",
    "Sample Output :\r\n",
    "fizzbuzz\r\n",
    "1\r\n",
    "2\r\n",
    "fizz\r\n",
    "4\r\n",
    "buzz (edited) "
   ],
   "metadata": {}
  },
  {
   "cell_type": "code",
   "execution_count": null,
   "source": [
    "n = 50\r\n",
    "for i in range(1,n+1):\r\n",
    "    if not i % 15:\r\n",
    "       print(\"FizzBuzz\")\r\n",
    "    elif not i % 5:\r\n",
    "        print(\"Buzz\")\r\n",
    "    elif not i % 3:\r\n",
    "        print(\"Fizz\")\r\n",
    "    else:\r\n",
    "        print(i)\r\n"
   ],
   "outputs": [],
   "metadata": {}
  },
  {
   "cell_type": "markdown",
   "source": [
    "Given a signed 32-bit integer x, return x with its digits reversed. If reversing x causes the value to go outside the signed 32-bit integer range [-2^31, 2^31 - 1], then return 0.\r\n",
    "Assume the environment does not allow you to store 64-bit integers (signed or unsigned).\r\n",
    "Example 1:\r\n",
    "Input: x = 123\r\n",
    "Output: 321\r\n",
    " \r\n",
    "Example 2:\r\n",
    "Input: x = -123\r\n",
    "Output: -321\r\n",
    " \r\n",
    "Example 3:\r\n",
    "Input: x = 120\r\n",
    "Output: 21\r\n",
    " \r\n",
    "Example 4:\r\n",
    "Input: x = 0\r\n",
    "Output: 0\r\n",
    "Constraints:\r\n",
    "-2^31 <= x <= 2^31 - 1"
   ],
   "metadata": {}
  },
  {
   "cell_type": "code",
   "execution_count": null,
   "source": [
    "num = int(input(\"please enter the number\"))\r\n",
    "\r\n",
    "sign_num = (num <= 0)*-2 + 1\r\n",
    "\r\n",
    "num_rev = int(str(abs(num))[::-1]) * sign_num\r\n",
    "\r\n",
    "if (num_rev < -2**31) or (num_rev > (2**31 + 1)):\r\n",
    "    num_rev = 0\r\n",
    "\r\n",
    "print(\"Original number :\", num)\r\n",
    "print(\"Reversed number :\", num_rev)"
   ],
   "outputs": [],
   "metadata": {}
  },
  {
   "cell_type": "markdown",
   "source": [
    "Write a Python program to construct the triangle pattern, using a nested for loop.\r\n"
   ],
   "metadata": {}
  },
  {
   "cell_type": "code",
   "execution_count": null,
   "source": [
    "n = 5\r\n",
    "triangle_list = list(range(1, n+1))\r\n",
    "triangle_list.extend(range(n-1, 0, -1))\r\n",
    "\r\n",
    "for i in triangle_list:\r\n",
    "    print(\"*\"*i)"
   ],
   "outputs": [],
   "metadata": {}
  },
  {
   "cell_type": "markdown",
   "source": [
    "Arkadaşlar Selam;\r\n",
    "Döngüler ve liste metotlarını kullanarak çözebileceğiniz bir soru geliyor. Her arkadaşın biraz gayretle çözebileceği nitelikte bir soru. Şimdiden hepinize kolay gelsin.\r\n",
    "num = [48, 10, 11, 21, 36, 5, 6, 52, 28, 29,\r\n",
    "       53, 54, 45, 19, 20, 47, 55, 39, 41, 7,\r\n",
    "       9, 17, 26, 27, 42, 22, 37, 51, 46, 18,\r\n",
    "       44, 30, 34, 13, 15, 35, 33, 16, 50, 24]\r\n",
    "Elemanları ardışık sayılardan oluşan karışık halde bir liste veriliyor. Listenin en küçük elemanı ile en büyük elemanı arasında yer alan, ancak listede gösterilmeyen eksik sayılardan çift olanları çıktı veren python kodu yazınız.\r\n",
    "Beklenen Çıktı:\r\n",
    "8\r\n",
    "12\r\n",
    "14\r\n",
    "32\r\n",
    "38\r\n",
    "40"
   ],
   "metadata": {}
  },
  {
   "cell_type": "code",
   "execution_count": null,
   "source": [
    "num = [48, 10, 11, 21, 36, 5, 6, 52, 28, 29, 53, 54, 45, 19, 20, 47, 55, 39, 41, 7, 9, 17, 26, 27, 42, 22, 37, 51, 46, 18, 44, 30, 34, 13, 15, 35, 33, 16, 50, 24]\r\n",
    "max_num = max(num)\r\n",
    "min_num = min(num)\r\n",
    "\r\n",
    "for i in range(min_num,max_num + 1):\r\n",
    "    if (not i%2) and (not (i in num)):\r\n",
    "        print(i)\r\n",
    "\r\n",
    "\r\n"
   ],
   "outputs": [],
   "metadata": {}
  },
  {
   "cell_type": "markdown",
   "source": [
    "Interview'larda Google, Facebook, Microsoft firmalarınca kullanılan bir soru. Biriken su birim miktarını bulmaca.\r\n",
    "--\r\n",
    "orjinal metin :\r\n",
    "Given an array of non-negative integers representing an elevation map as shown below where the width of each bar is 1, compute how much water will be trapped on terrain after raining. To clarify further, the black boxes represents terrain and its height, and the blue boxes represents the water that could be trapped on the terrain.\r\n",
    "Lütfen bir iki sonra thread olarak çözümleri paylaşalım. Mevcut müfredat dahilinde çözelim...\r\n",
    "\r\n",
    "https://itfundamentals009.slack.com/files/U023HR1QH35/F029C4E28BW/image.png\r\n",
    "\r\n",
    "<img src=\"image (2).png\" height=300>\r\n"
   ],
   "metadata": {}
  },
  {
   "cell_type": "code",
   "execution_count": null,
   "source": [
    "terrain = [0,1,0,2,1,0,1,3,2,1,2,1]\r\n",
    "\r\n",
    "total_water = 0\r\n",
    "for width in range(2,len(terrain) -1):\r\n",
    "    for i in range(len(terrain) - width):\r\n",
    "        chunk = terrain[i:i+width+1]\r\n",
    "        if all(element < chunk[0] for element in chunk[1:-1]) and all(element < chunk[-1] for element in chunk[1:-1]):\r\n",
    "            height = min(chunk[0],chunk[-1]) - max(chunk[1:-1])\r\n",
    "            total_water += (width-1)*height\r\n",
    "\r\n",
    "print(total_water)"
   ],
   "outputs": [],
   "metadata": {}
  },
  {
   "cell_type": "markdown",
   "source": [
    "Bir markete gittiniz. Markette her ürünün bir kod numarası var.\r\n",
    "1 : Domates 2 : Soğan 3 : Biber 4 : Yumurta 5 : Elma 6 : Armut ... vs. şeklinde.\r\n",
    "Kullanıcıya almak istediği ürünü sorunuz ve kod numarası ile seçim yaptırınız. Çıkış için \"q\" opsiyonunu sununuz. Kullanıcının her ürün seçimi sonrası \" .... domates sepete eklendi\" gibi bir dönüt veriniz. Kullanıcı ürün almaya devam ettikçe ürünleri bir listede toplayınız, almaktan vazgeçtiği durumda teşekkür edip, aldığı toplam ürünleri çıktı veren bir kod yazınız.\r\n",
    "Beklenen Çıktı:\r\n",
    "Teşekkür Ederiz...\r\n",
    "Sepetinizde Bulunan Ürünler: elma, armut, yumurta ... vs.\r\n",
    "Kolay Gelsin Arkadaşlar... (edited) "
   ],
   "metadata": {}
  },
  {
   "cell_type": "code",
   "execution_count": null,
   "source": [
    "print(\"Lütfen almak istediğiniz ürününün kodunu giriniz. Çıkmak için q giriniz.\")\r\n",
    "print(\"1 : Domates 2 : Soğan 3 : Biber 4 : Yumurta 5 : Elma 6 : Armut\")\r\n",
    "urunler = {1 : \"Domates\", 2 : \"Soğan\", 3 : \"Biber\", 4 : \"Yumurta\", 5 : \"Elma\", 6 : \"Armut\"}\r\n",
    "\r\n",
    "siparis = input().lower()\r\n",
    "sepet = []\r\n",
    "while siparis != \"q\":\r\n",
    "    siparis = int(siparis)\r\n",
    "    if siparis > 6 or siparis < 1 :\r\n",
    "        print(\"Yanlış giriş, tekrar giriniz.\")\r\n",
    "        continue\r\n",
    "    sepet.append(urunler[siparis])\r\n",
    "    print(f\"{urunler[siparis]} sepetinize eklendi.\")\r\n",
    "    siparis = input().lower()\r\n",
    "\r\n",
    "print(\"Teşekür ederiz.\")\r\n",
    "print(\"Sepetinizde bulunan ürünler:\", *set(sepet))\r\n",
    "\r\n",
    "\r\n",
    "    "
   ],
   "outputs": [],
   "metadata": {}
  },
  {
   "cell_type": "markdown",
   "source": [
    "ask : Create a program that will play the “cows and bulls” game with the user. The game works like this:\r\n",
    "Randomly generate a 4-digit number. Ask the user to guess a 4-digit number. For every digit that the user guessed correctly in the correct place, they have a “cow”. For every digit the user guessed correctly in the wrong place is a “bull.” Every time the user makes a guess, tell them how many “cows” and “bulls” they have. Once the user guesses the correct number, the game is over. Keep track of the number of guesses the user makes throughout teh game and tell the user at the end.\r\n",
    "Say the number generated by the computer is 1038. An example interaction could look like this:\r\n",
    "  Welcome to the Cows and Bulls Game! \r\n",
    "  Enter a number: \r\n",
    "  >>> 1234\r\n",
    "  2 cows, 0 bulls\r\n",
    "  >>> 1256\r\n",
    "  1 cow, 1 bull\r\n",
    "  ..."
   ],
   "metadata": {}
  },
  {
   "cell_type": "code",
   "execution_count": null,
   "source": [
    "number = list(\"1038\")\r\n",
    "cow, bull = 0, 0\r\n",
    "while cow < len(number) :\r\n",
    "    guess = list(input(\"Enter a 4 digit guess:\"))\r\n",
    "    cow, bull = 0, 0\r\n",
    "    for i, ind in zip(number,range(len(number))):\r\n",
    "        if i in guess:\r\n",
    "            if ind==guess.index(i):\r\n",
    "                cow += 1\r\n",
    "            else:\r\n",
    "                bull += 1\r\n",
    "    print(\"\".join(guess), \" has \", cow, \"cow\", bull, \"bull\")"
   ],
   "outputs": [],
   "metadata": {}
  },
  {
   "cell_type": "markdown",
   "source": [
    "Merhabalar arkadaşlar, maşallah diyeyim baya bi soru paylaşılıyor:smiley: Paylaşan, çözen herkesin emeğine sağlık:clap:Tüm arkadaşlara çözümlere katılmalarını tavsiye ederim:wink: Buyrunuz, kolay gelsin:woman-raising-hand:\r\n",
    "Given a string of words, you need to find the highest scoring word.\r\n",
    "Each letter of a word scores points according to its position in the alphabet: a = 1, b = 2, c = 3 etc.\r\n",
    "You need to return the highest scoring word as a string.\r\n",
    "If two words score the same, return the word that appears earliest in the original string.\r\n",
    "All letters will be lowercase and all inputs will be valid.\r\n",
    "Examples:\r\n",
    "'man i need a taxi up to ubud' ---> 'taxi'\r\n",
    "'what time are we climbing up the volcano' ----> 'volcano'\r\n",
    "'take me to semynak' ---> 'semynak'\r\n",
    "'aa b'  --->  'aa'\r\n",
    "'b aa'  --->  'b'\r\n",
    "'bb d'  --- > 'bb'\r\n",
    "'d bb'  ---> 'd'\r\n",
    "\"aaa b\"  -->  \"aaa\""
   ],
   "metadata": {}
  },
  {
   "cell_type": "code",
   "execution_count": null,
   "source": [
    "#Dustin çözüm\r\n",
    "alphabet = [chr(i) for i in range(97, 123)]\r\n",
    "dictt_1 = {}\r\n",
    "dictt_2 = {}\r\n",
    "for i in range(len(alphabet)):\r\n",
    "    dictt_1[alphabet[i]] = i + 1\r\n",
    "text = input('Please enter your text here > ')\r\n",
    "text_list = text.lower().split()\r\n",
    "for i in text_list:\r\n",
    "    total = 0\r\n",
    "    for x in i:\r\n",
    "        total += dictt_1[x]\r\n",
    "    dictt_2[i] = total\r\n",
    "listt = list(dictt_2.values())\r\n",
    "biggest = max(listt)\r\n",
    "for x, y in dictt_2.items():\r\n",
    "    if y == biggest:\r\n",
    "        print(x)\r\n",
    "        break"
   ],
   "outputs": [],
   "metadata": {}
  },
  {
   "cell_type": "markdown",
   "source": [
    "Numbers = [18,21,14,84,65,35,10,20,28,42,24,91,5,7,54,69]\r\n",
    "Numbers listesi içindeki sayılardan 7’ e bölünebilenleri küçükten büyüğe doğru olacak şeklide listeleyin. Ayrıca kaç tanesinin 7’ e bölünebildiğini yazdırın."
   ],
   "metadata": {}
  },
  {
   "cell_type": "code",
   "execution_count": 10,
   "source": [
    "numbers = [18,21,14,84,65,35,10,20,28,42,24,91,5,7,54,69]\r\n",
    "seven_list=[]\r\n",
    "for i in numbers:\r\n",
    "    if i%7==0:\r\n",
    "        seven_list.append(i)\r\n",
    "seven_list.sort()\r\n",
    "print(seven_list)\r\n",
    "print(len(seven_list), \"adet sayı 7'ye bölünüyor.\")\r\n"
   ],
   "outputs": [
    {
     "output_type": "stream",
     "name": "stdout",
     "text": [
      "[7, 14, 21, 28, 35, 42, 84, 91]\n",
      "8 adet syı 7'ye bölünüyor.\n"
     ]
    }
   ],
   "metadata": {}
  },
  {
   "cell_type": "markdown",
   "source": [
    "Write a Python code that find the students who have maximum and minimum average at below.\r\n",
    "grades={'Student-1': {'Lesson-1': 57, 'Lesson-2': 46, 'Lesson-3': 58, 'Lesson-4': 81, 'Lesson-5': 85}, 'Student-2': {'Lesson-1': 85, 'Lesson-2': 56, 'Lesson-3': 51, 'Lesson-4': 69, 'Lesson-5': 67}, 'Student-3': {'Lesson-1': 68, 'Lesson-2': 76, 'Lesson-3': 87, 'Lesson-4': 57, 'Lesson-5': 56}, 'Student-4': {'Lesson-1': 78, 'Lesson-2': 93, 'Lesson-3': 88, 'Lesson-4': 38, 'Lesson-5': 54}, 'Student-5': {'Lesson-1': 50, 'Lesson-2': 46, 'Lesson-3': 78, 'Lesson-4': 81, 'Lesson-5': 75}}"
   ],
   "metadata": {}
  },
  {
   "cell_type": "code",
   "execution_count": null,
   "source": [
    "#Dustin çözüm\r\n",
    "grades={\r\n",
    "    'Student-1': {'Lesson-1': 57, 'Lesson-2': 46, 'Lesson-3': 58, 'Lesson-4': 81, 'Lesson-5': 85}, \r\n",
    "    'Student-2': {'Lesson-1': 85, 'Lesson-2': 56, 'Lesson-3': 51, 'Lesson-4': 69, 'Lesson-5': 67}, \r\n",
    "    'Student-3': {'Lesson-1': 68, 'Lesson-2': 76, 'Lesson-3': 87, 'Lesson-4': 57, 'Lesson-5': 56}, \r\n",
    "    'Student-4': {'Lesson-1': 78, 'Lesson-2': 93, 'Lesson-3': 88, 'Lesson-4': 38, 'Lesson-5': 54}, \r\n",
    "    'Student-5': {'Lesson-1': 50, 'Lesson-2': 46, 'Lesson-3': 78, 'Lesson-4': 81, 'Lesson-5': 75}}\r\n",
    "student_dict = {}\r\n",
    "student_list = []\r\n",
    "students = list(grades.keys())\r\n",
    "for i in grades.values():\r\n",
    "    total = 0\r\n",
    "    for x, y in i.items():\r\n",
    "        total += y\r\n",
    "        if x == list(grades['Student-1'].keys())[-1]:\r\n",
    "            total = total / len(grades)\r\n",
    "            student_list.append(total)\r\n",
    "            continue\r\n",
    "for i in range(len(grades)):\r\n",
    "    student_dict[student_list[i]] = students[i]\r\n",
    "maximum = max(list(student_dict.keys()))\r\n",
    "minimum = min(list(student_dict.keys()))\r\n",
    "print(f'The student who has the maximum average is {student_dict[maximum]} and his/her score is {maximum}.')\r\n",
    "print(f'The student who has the minimum average is {student_dict[minimum]} and his/her score is {minimum}.')"
   ],
   "outputs": [],
   "metadata": {}
  },
  {
   "cell_type": "markdown",
   "source": [
    "Task: Time for some fake graphics! Let’s say we want to draw game boards that look like this:\r\n",
    " --- --- --- \r\n",
    "|   |   |   | \r\n",
    " --- --- ---  \r\n",
    "|   |   |   | \r\n",
    " --- --- ---  \r\n",
    "|   |   |   | \r\n",
    " --- --- --- \r\n",
    "This one is 3x3 (like in tic tac toe). Obviously, they come in many other sizes (8x8 for chess, 19x19 for Go, and many more).\r\n",
    "Ask the user what size game board they want to draw, and draw it for them to the screen using Python’s print statement."
   ],
   "metadata": {}
  },
  {
   "cell_type": "code",
   "execution_count": null,
   "source": [
    "#Ahmet çözüm\r\n",
    "print('Welcome to the Game!!!')\r\n",
    "size = input('What size of game board do you want me to draw? (e.g., 3X3) > ')\r\n",
    "row = int(size)\r\n",
    "column = int(size)\r\n",
    "row_print = \" ---\"\r\n",
    "column_print = \"|   \"\r\n",
    "for i in range(row):\r\n",
    "    print(row_print * column)\r\n",
    "    print(column_print * (column + 1))\r\n",
    "print(row_print * column)"
   ],
   "outputs": [],
   "metadata": {}
  },
  {
   "cell_type": "markdown",
   "source": [
    "Arkadaşlar Merhaba;\r\n",
    "Kullanıcıdan bir cümle alan ve cümle içerisinde geçen sesli harflerin her birinden kaçar tane olduğunu çıktı veren bir program yazınız.\r\n",
    "Girilen harflerin küçük/büyük olabileceği ihtimalini göz önünde bulundurunuz.\r\n",
    "Kolay Gelsin...\r\n",
    "Beklenen Çıktı:\r\n",
    "cümle: Sakla samanı gelir zamanı.\r\n",
    "a: 6\r\n",
    "ı: 2\r\n",
    "e: 1\r\n",
    "i: 1 (edited) "
   ],
   "metadata": {}
  },
  {
   "cell_type": "code",
   "execution_count": 9,
   "source": [
    "#Murat çözüm\r\n",
    "cumle = \"Sakla samani gelir zamani\"\r\n",
    "vowels = \"aeiouAEIOU\"\r\n",
    "a={}\r\n",
    "for i in cumle:\r\n",
    "    if i in vowels:\r\n",
    "        if i not in a:\r\n",
    "            a[i] = 1\r\n",
    "        else:\r\n",
    "            a[i] = cumle.count(i)  \r\n",
    "print(a)"
   ],
   "outputs": [
    {
     "output_type": "stream",
     "name": "stdout",
     "text": [
      "{'a': 6, 'i': 3, 'e': 1}\n"
     ]
    }
   ],
   "metadata": {}
  },
  {
   "cell_type": "markdown",
   "source": [
    "Write a Python code to sort the list at below without using .sort() method of list. elements of list = [999, 333, 2, 8982, 12, 45, 77, 99, 11] Expected output: [2, 11, 12, 45, 77, 99, 333, 999, 8982]"
   ],
   "metadata": {}
  },
  {
   "cell_type": "code",
   "execution_count": 8,
   "source": [
    "#Murat çözümü\r\n",
    "list_ = [999, 333, 2, 8982, 12, 45, 77, 99, 11]\r\n",
    "new_list = []\r\n",
    "\r\n",
    "while list_:\r\n",
    "    min_element = list_[0]\r\n",
    "    for i in list_:\r\n",
    "        if i < min_element:\r\n",
    "            min_element = i\r\n",
    "    new_list.append(min_element)\r\n",
    "    list_.remove(min_element)\r\n",
    "print(new_list)"
   ],
   "outputs": [
    {
     "output_type": "stream",
     "name": "stdout",
     "text": [
      "[2, 11, 12, 45, 77, 99, 333, 999, 8982]\n"
     ]
    }
   ],
   "metadata": {}
  },
  {
   "cell_type": "markdown",
   "source": [
    "Take a string with input() and returns the Morse code equivalent.\r\n",
    "Examples\r\n",
    "\"EDABBIT CHALLENGE\" ➞ \". -.. .- -... -... .. -   -.-. .... .- .-.. .-.. . -. --. .\"\r\n",
    "\"HELP ME !\" ➞ \".... . .-.. .--.   -- .   -.-.--\"\r\n",
    "This dictionary can be used for coding:\r\n",
    "char_to_dots = {\r\n",
    "  'A': '.-', 'B': '-...', 'C': '-.-.', 'D': '-..', 'E': '.', 'F': '..-.',\r\n",
    "  'G': '--.', 'H': '....', 'I': '..', 'J': '.---', 'K': '-.-', 'L': '.-..',\r\n",
    "  'M': '--', 'N': '-.', 'O': '---', 'P': '.--.', 'Q': '--.-', 'R': '.-.',\r\n",
    "  'S': '...', 'T': '-', 'U': '..-', 'V': '...-', 'W': '.--', 'X': '-..-',\r\n",
    "  'Y': '-.--', 'Z': '--..', ' ': ' ', '0': '-----',\r\n",
    "  '1': '.----', '2': '..---', '3': '...--', '4': '....-', '5': '.....',\r\n",
    "  '6': '-....', '7': '--...', '8': '---..', '9': '----.',\r\n",
    "  '&': '.-...', \"'\": '.----.', '@': '.--.-.', ')': '-.--.-', '(': '-.--.',\r\n",
    "  ':': '---...', ',': '--..--', '=': '-...-', '!': '-.-.--', '.': '.-.-.-',\r\n",
    "  '-': '-....-', '+': '.-.-.', '\"': '.-..-.', '?': '..--..', '/': '-..-.'\r\n",
    "}"
   ],
   "metadata": {}
  },
  {
   "cell_type": "code",
   "execution_count": 7,
   "source": [
    "char_to_dots = {\r\n",
    "  'A': '.-', 'B': '-...', 'C': '-.-.', 'D': '-..', 'E': '.', 'F': '..-.',\r\n",
    "  'G': '--.', 'H': '....', 'I': '..', 'J': '.---', 'K': '-.-', 'L': '.-..',\r\n",
    "  'M': '--', 'N': '-.', 'O': '---', 'P': '.--.', 'Q': '--.-', 'R': '.-.',\r\n",
    "  'S': '...', 'T': '-', 'U': '..-', 'V': '...-', 'W': '.--', 'X': '-..-',\r\n",
    "  'Y': '-.--', 'Z': '--..', ' ': ' ', '0': '-----',\r\n",
    "  '1': '.----', '2': '..---', '3': '...--', '4': '....-', '5': '.....',\r\n",
    "  '6': '-....', '7': '--...', '8': '---..', '9': '----.',\r\n",
    "  '&': '.-...', \"'\": '.----.', '@': '.--.-.', ')': '-.--.-', '(': '-.--.',\r\n",
    "  ':': '---...', ',': '--..--', '=': '-...-', '!': '-.-.--', '.': '.-.-.-',\r\n",
    "  '-': '-....-', '+': '.-.-.', '\"': '.-..-.', '?': '..--..', '/': '-..-.'\r\n",
    "}\r\n",
    "word = input(\"Enter a string:\").upper()\r\n",
    "coded_word=\"\"\r\n",
    "for ch in word:\r\n",
    "    coded_word += char_to_dots[ch] + \" \"\r\n",
    "print(coded_word)\r\n"
   ],
   "outputs": [
    {
     "output_type": "stream",
     "name": "stdout",
     "text": [
      ".... . .-.. .--.   -- .   -.-.-- \n"
     ]
    }
   ],
   "metadata": {}
  }
 ],
 "metadata": {
  "orig_nbformat": 4,
  "language_info": {
   "name": "python",
   "version": "3.9.5",
   "mimetype": "text/x-python",
   "codemirror_mode": {
    "name": "ipython",
    "version": 3
   },
   "pygments_lexer": "ipython3",
   "nbconvert_exporter": "python",
   "file_extension": ".py"
  },
  "kernelspec": {
   "name": "python3",
   "display_name": "Python 3.9.5 64-bit"
  },
  "interpreter": {
   "hash": "53a7fbe61d203d2dd91b6503d1477158e1dbff0453a610a9c429187bdf87bf58"
  }
 },
 "nbformat": 4,
 "nbformat_minor": 2
}