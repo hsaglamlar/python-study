{
 "cells": [
  {
   "cell_type": "markdown",
   "metadata": {},
   "source": [
    "Given a positive integer n, find the smallest number of squared integers which sum to n.\n",
    "For example, given n = 13, return 2 since 13 = 32 + 22 = 9 + 4.\n",
    "Given n = 27, return 3 since 27 = 32 + 32 + 32 = 9 + 9 + 9."
   ]
  },
  {
   "cell_type": "code",
   "execution_count": 54,
   "metadata": {},
   "outputs": [
    {
     "data": {
      "text/plain": [
       "3"
      ]
     },
     "execution_count": 54,
     "metadata": {},
     "output_type": "execute_result"
    }
   ],
   "source": [
    "#Dustin çözüm\n",
    "def squared_integers(n):\n",
    "    \n",
    "    res, resas = [], []\n",
    "    for i in range(1, n + 1):\n",
    "        if i ** 2 <= n:\n",
    "            res.append(i)\n",
    "\n",
    "    while len(res) > 0:\n",
    "        resa = []\n",
    "        summ = 0\n",
    "        while summ < n:\n",
    "            for i in res[::-1]:\n",
    "                if i ** 2 + summ <= n:\n",
    "                    while True:\n",
    "                        summ += i ** 2\n",
    "                        resa.append(i)\n",
    "                        if summ + i ** 2 > n:\n",
    "                            break                     \n",
    "                if summ == n:\n",
    "                    break\n",
    "        resas.append(resa)\n",
    "        res.pop(-1)\n",
    "\n",
    "    return min([len(i) for i in resas])\n",
    "\n",
    "squared_integers(27)"
   ]
  },
  {
   "cell_type": "markdown",
   "metadata": {},
   "source": [
    "2520 is the smallest number that can be divided by each of the numbers from 1 to 10 without any remainder.\n",
    "What is the smallest positive number that is evenly divisible by all of the numbers from 1 to 20?"
   ]
  },
  {
   "cell_type": "code",
   "execution_count": null,
   "metadata": {},
   "outputs": [],
   "source": [
    "#yavuz çözüm\n",
    "\n",
    "sayi,contac=1,20\n",
    "while len([1 for p in range(1,contac+1) if sayi%p==0])!=contac:sayi+=1\n",
    "print(sayi) "
   ]
  },
  {
   "cell_type": "markdown",
   "metadata": {},
   "source": [
    "Given three 32-bit integers x, y, and b, return x if b is 1 and y if b is 0, using only mathematical or bit operations. You can assume b can only be 1 or 0."
   ]
  },
  {
   "cell_type": "code",
   "execution_count": 116,
   "metadata": {},
   "outputs": [
    {
     "data": {
      "text/plain": [
       "23"
      ]
     },
     "execution_count": 116,
     "metadata": {},
     "output_type": "execute_result"
    }
   ],
   "source": [
    "x, y, b = 23, 87, 1\n",
    "result = x*b +  y*(~(b-2))\n",
    "result\n",
    "\n"
   ]
  },
  {
   "cell_type": "code",
   "execution_count": null,
   "metadata": {},
   "outputs": [],
   "source": [
    "#Dustin çözüm\n",
    "def bits(x, y, b):\n",
    "    return x * b + y * (1 - b)\n",
    "\n",
    "bits(5, 10, 0)"
   ]
  },
  {
   "cell_type": "markdown",
   "metadata": {},
   "source": [
    "Given a string of parentheses, write a function to compute the minimum number of parentheses to be removed to make the string valid (i.e. each open parenthesis is eventually closed).\n",
    "For example, given the string \"()())()\", you should return 1. Given the string \")(\", you should return 2, since we must remove all of them."
   ]
  },
  {
   "cell_type": "code",
   "execution_count": 117,
   "metadata": {},
   "outputs": [
    {
     "data": {
      "text/plain": [
       "3"
      ]
     },
     "execution_count": 117,
     "metadata": {},
     "output_type": "execute_result"
    }
   ],
   "source": [
    "#Dustin çözüm\n",
    "def replace_par(text):\n",
    "\n",
    "    while '()' in text:\n",
    "        text = text.replace('()', '')\n",
    "\n",
    "    return len(text)\n",
    "\n",
    "replace_par('()()(())())()((()(())')"
   ]
  },
  {
   "cell_type": "markdown",
   "metadata": {},
   "source": [
    "You're given a string consisting solely of (, ), and *. * can represent either a  (, ), or an empty string. Determine whether the parentheses are balanced.\n",
    "For example, (()* and (*) are balanced. )*( is not balanced."
   ]
  },
  {
   "cell_type": "code",
   "execution_count": null,
   "metadata": {},
   "outputs": [],
   "source": []
  },
  {
   "cell_type": "markdown",
   "metadata": {},
   "source": [
    "This problem was asked by Google.\n",
    "Given an array of numbers and an index i, return the index of the nearest larger number of the number at index i, where distance is measured in array indices.\n",
    "For example, given [4, 1, 3, 5, 6] and index 0, you should return 3.\n",
    "If two distances to larger numbers are the equal, then return any one of them.\n",
    "If the array at i doesn't have a nearest larger integer, then return null."
   ]
  },
  {
   "cell_type": "code",
   "execution_count": 9,
   "metadata": {},
   "outputs": [
    {
     "name": "stdout",
     "output_type": "stream",
     "text": [
      "3\n"
     ]
    }
   ],
   "source": [
    "seq = [4, 1, 3, 5, 6]\n",
    "ind = 0\n",
    "ind_larger = None\n",
    "for i in range(ind):\n",
    "    if seq[i] > seq[ind]:\n",
    "        ind_larger = i\n",
    "\n",
    "for i in range(len(seq)-1,ind,-1):\n",
    "    if seq[i] > seq[ind]:\n",
    "        ind_larger = i\n",
    "print(ind_larger)"
   ]
  },
  {
   "cell_type": "markdown",
   "metadata": {},
   "source": [
    "Given a list of points, a central point, and an integer k, find the nearest k points from the central point.\n",
    "For example, given the list of points [(0, 0), (5, 4), (3, 1)], the central point (1, 2), and k = 2, return[(0, 0), (3, 1)]."
   ]
  },
  {
   "cell_type": "code",
   "execution_count": 43,
   "metadata": {},
   "outputs": [
    {
     "name": "stdout",
     "output_type": "stream",
     "text": [
      "[(0, 0), (3, 1)]\n"
     ]
    }
   ],
   "source": [
    "import math\n",
    "points = [(0, 0), (5, 4), (3, 1)]\n",
    "center = (1, 2)\n",
    "k = 2\n",
    "\n",
    "dist = []\n",
    "for x,y in points:\n",
    "    dist.append( math.sqrt((x-center[0])**2 + (y-center[1])**2) )\n",
    "\n",
    "dist_sorted = sorted(list(enumerate(dist)), key =  (lambda x: x[1]))\n",
    "\n",
    "\n",
    "inds = [ item[0] for item in dist_sorted]\n",
    "print([points[inds[i]] for i in range(k)])"
   ]
  },
  {
   "cell_type": "code",
   "execution_count": null,
   "metadata": {},
   "outputs": [],
   "source": [
    "#Dustin çözüm\n",
    "def nearest_points(lst, c, k):\n",
    "    \n",
    "    res = []\n",
    "    for i in lst:\n",
    "        y = (((i[0] - c[0]) ** 2) + ((i[1] - c[1]) ** 2)) ** 0.5\n",
    "        res.append([y, i])\n",
    "    \n",
    "    return [v for k,v in sorted(res)[:k]]\n",
    "\n",
    "nearest_points([(0, 0), (5, 4), (3, 1)], (1, 2), 2)"
   ]
  },
  {
   "cell_type": "markdown",
   "metadata": {},
   "source": [
    "Find an efficient algorithm to find the smallest distance (measured in number of words) between any two given words in a string.\n",
    "For example, given words \"hello\", and \"world\" and a text content of \"dog cat hello cat dog dog hello cat world\", return 1 because there's only one word \"cat\" in between the two words."
   ]
  },
  {
   "cell_type": "code",
   "execution_count": 19,
   "metadata": {},
   "outputs": [
    {
     "name": "stdout",
     "output_type": "stream",
     "text": [
      "[2, 6] [8]\n",
      "1\n"
     ]
    }
   ],
   "source": [
    "word1 = \"hello\"\n",
    "word2 = \"world\"\n",
    "seq = \"dog cat hello cat dog dog hello cat world\"\n",
    "\n",
    "seq_list = seq.split(\" \")\n",
    "ind1 = [i for i, k in enumerate(seq_list) if k==word1]\n",
    "ind2 = [i for i, k in enumerate(seq_list) if k==word2]\n",
    "print(ind1, ind2)\n",
    "low_length = max(len(ind1), len(ind2))\n",
    "for i in ind1:\n",
    "    for j in ind2:\n",
    "        if abs(i-j) < low_length:\n",
    "            low_length = abs(i-j)\n",
    "\n",
    "print(low_length-1)"
   ]
  },
  {
   "cell_type": "markdown",
   "metadata": {},
   "source": [
    "<img src=\"images/image.png\" width=\"40%\" >"
   ]
  },
  {
   "cell_type": "code",
   "execution_count": 20,
   "metadata": {},
   "outputs": [
    {
     "data": {
      "text/plain": [
       "-70.0"
      ]
     },
     "execution_count": 20,
     "metadata": {},
     "output_type": "execute_result"
    }
   ],
   "source": [
    "def sum_loop(i,j,k):\n",
    "\n",
    "    a = (i * (i + 1)) / 2\n",
    "    b = (j * (j + 1)) / 2\n",
    "    c = (k * (k + 1)) / 2\n",
    "\n",
    "    d = (b - a) + i\n",
    "    e = (b - c) + k\n",
    "    return d+e-j\n",
    "\n",
    "sum_loop(-5,0,-10)"
   ]
  },
  {
   "cell_type": "code",
   "execution_count": 17,
   "metadata": {},
   "outputs": [
    {
     "data": {
      "text/plain": [
       "-20.0"
      ]
     },
     "execution_count": 17,
     "metadata": {},
     "output_type": "execute_result"
    }
   ],
   "source": [
    "def getSequenceSum(i,j,k):\n",
    "\n",
    "    if all([i<=j, k<=j, -10**8<i<10**8, -10**8<j<10**8, -10**8<k<10**8]):\n",
    "        # en düşük değeri bulup o değeri 0'a yükselteli/düşürelim, diğer değerleride ona göre değiştirelim, \n",
    "        # bu işlemin geri adımını işlemlerin hepsi bittiğinde uygulayalım\n",
    "        change_val = 0 - min(i,j,k)\n",
    "        i,j,k = i + change_val , j + change_val , k + change_val \n",
    "\n",
    "        # i alt sınırdan tepeye olan toplam formülü\n",
    "        n1 = j - i + 1\n",
    "        sum_total = n1*(j + i)/2\n",
    "        # j bir üstte toplandığından şimdi k'dan j-1'e olan toplam formülü\n",
    "        # eğer j==k ise toplamamalıyız\n",
    "        n2 = 0\n",
    "        if j != k:\n",
    "            n2 = (j-1) - k + 1\n",
    "            sum_total += n2*(k + (j-1))/2\n",
    "             \n",
    "        # Şimdi yukardaki change_val kadar değişimi geri almalıyız. \n",
    "        # Bunun için (terim sayısı *  change_val) kadar toplamdan çıkarmalıyız\n",
    "        sum_total -= (n1 + n2)*change_val\n",
    "        \n",
    "        return sum_total\n",
    "\n",
    "    else:\n",
    "        return None\n",
    "\n",
    "getSequenceSum(-5,-1,-3)"
   ]
  },
  {
   "cell_type": "code",
   "execution_count": null,
   "metadata": {},
   "outputs": [],
   "source": [
    "#Dustin çözüm\n",
    "def sum_loop(i,j,k):\n",
    "\n",
    "    a = (i * (i + 1)) / 2\n",
    "    b = (j * (j + 1)) / 2\n",
    "    c = (k * (k + 1)) / 2\n",
    "\n",
    "    d = (b - a) + i\n",
    "    e = (b - c) + k\n",
    "    return d+e-j\n",
    "\n",
    "sum_loop(-5,0,-10)"
   ]
  },
  {
   "cell_type": "markdown",
   "metadata": {},
   "source": [
    "Given a mapping of digits to letters (as in a phone number), and a digit string,return all possible letters the number could represent. You can assume each valid number in the mapping is a single digit.\n",
    "For example if {“2”: [“a”, “b”, “c”], 3: [“d”, “e”, “f”], …} then “23” should return [“ad”, “ae”, “af”, “bd”, “be”, “bf”, “cd”, “ce”, “cf\"]."
   ]
  },
  {
   "cell_type": "code",
   "execution_count": null,
   "metadata": {},
   "outputs": [],
   "source": []
  },
  {
   "cell_type": "markdown",
   "metadata": {},
   "source": [
    "A number is considered perfect if its digits sum up to exactly 10. Given a positive integer n, return the n-th perfect number.\n",
    "For example, given 1, you should return 19. Given 2, you should return 28."
   ]
  },
  {
   "cell_type": "code",
   "execution_count": 1,
   "metadata": {},
   "outputs": [
    {
     "data": {
      "text/plain": [
       "1153"
      ]
     },
     "execution_count": 1,
     "metadata": {},
     "output_type": "execute_result"
    }
   ],
   "source": [
    "def perfect(n):\n",
    "    i=0\n",
    "    count = 0\n",
    "    \n",
    "    while True:\n",
    "        count += 1\n",
    "        sum_digits = 0\n",
    "        for digit in str(count):\n",
    "            sum_digits += int(digit)\n",
    "        if sum_digits == 10:\n",
    "            i = i+1\n",
    "        if i == n:\n",
    "            break\n",
    "    return count       \n",
    "      \n",
    "perfect(79) "
   ]
  },
  {
   "cell_type": "markdown",
   "metadata": {},
   "source": [
    "This problem was asked by Facebook.\n",
    "Given a list of integers, return the largest product that can be made by multiplying any three integers.\n",
    "For example, if the list is [-10, -10, 5, 2], we should return 500, since that's  -10 * -10 * 5.\n",
    "You can assume the list has at least three integers."
   ]
  },
  {
   "cell_type": "code",
   "execution_count": 11,
   "metadata": {},
   "outputs": [
    {
     "data": {
      "text/plain": [
       "1500"
      ]
     },
     "execution_count": 11,
     "metadata": {},
     "output_type": "execute_result"
    }
   ],
   "source": [
    "#Dustin çözüm\n",
    "def largest_product(array):    \n",
    "    res = [[]]\n",
    "    result = []\n",
    "    for i in array:\n",
    "        for j in res:\n",
    "            res = res + [j + [i]]\n",
    "    for i in res:\n",
    "        if len(i) == 3:\n",
    "            carpim = 1\n",
    "            for j in i:\n",
    "                carpim *= j\n",
    "            result.append(carpim)\n",
    "    return max(result)\n",
    "\n",
    "largest_product([-10, -10, 5, 2,-30])"
   ]
  },
  {
   "cell_type": "code",
   "execution_count": 15,
   "metadata": {},
   "outputs": [
    {
     "data": {
      "text/plain": [
       "0     500\n",
       "1     200\n",
       "2     500\n",
       "3    -100\n",
       "4     200\n",
       "5    -100\n",
       "6     500\n",
       "7     200\n",
       "8     500\n",
       "9    -100\n",
       "10    200\n",
       "11   -100\n",
       "12    500\n",
       "13   -100\n",
       "14    500\n",
       "15   -100\n",
       "16   -100\n",
       "17   -100\n",
       "18    200\n",
       "19   -100\n",
       "20    200\n",
       "21   -100\n",
       "22   -100\n",
       "23   -100\n",
       "dtype: int64"
      ]
     },
     "execution_count": 15,
     "metadata": {},
     "output_type": "execute_result"
    }
   ],
   "source": [
    "#Nadire çözüm\n",
    "import pandas as pd\n",
    "import itertools\n",
    "df=pd.DataFrame(itertools.permutations([-10,-10,5,2], 3))\n",
    "s=df[0]*df[1]*df[2]\n",
    "s.max()"
   ]
  },
  {
   "cell_type": "markdown",
   "metadata": {},
   "source": [
    "This problem was asked by Microsoft.\n",
    "Given a 2D matrix of characters and a target word, write a function that returns whether the word can be found in the matrix by going left-to-right, or up-to-down.\n",
    "For example, given the following matrix:\n",
    "[['F', 'A', 'C', 'I'],\n",
    " ['O', 'B', 'Q', 'P'],\n",
    " ['A', 'N', 'O', 'B'],\n",
    " ['M', 'A', 'S', 'S']]\n",
    "and the target word 'FOAM', you should return true, since it's the leftmost column. Similarly, given the target word 'MASS', you should return true, since it's the last row."
   ]
  },
  {
   "cell_type": "code",
   "execution_count": 14,
   "metadata": {},
   "outputs": [
    {
     "name": "stdout",
     "output_type": "stream",
     "text": [
      "mass True\n",
      "FOAM True\n",
      "samm False\n"
     ]
    }
   ],
   "source": [
    "def match(list_char,word):\n",
    "    found = False\n",
    "    for row in list_char:\n",
    "        if word.upper() in \"\".join(row).upper():\n",
    "            found = True\n",
    "    if not found:\n",
    "        col_num = len(list_char[0]) \n",
    "        for i in range(col_num):\n",
    "            vertical = []\n",
    "            for row in list_char:\n",
    "                vertical.append(row[i])\n",
    "            \n",
    "            if word.upper() in \"\".join(vertical).upper():\n",
    "                found = True\n",
    "\n",
    "    return found \n",
    "  \n",
    "\n",
    "list1 = [['F', 'A', 'C', 'I'],\n",
    "        ['O', 'B', 'Q', 'P'],\n",
    "        ['A', 'N', 'O', 'B'],\n",
    "        ['M', 'A', 'S', 'S']]\n",
    "print( \"mass\", match(list1,\"mass\"))\n",
    "print( \"FOAM\", match(list1,\"FOAM\"))\n",
    "print( \"samm\", match(list1,\"samm\"))"
   ]
  },
  {
   "cell_type": "code",
   "execution_count": 30,
   "metadata": {},
   "outputs": [
    {
     "name": "stdout",
     "output_type": "stream",
     "text": [
      "['FACI', 'OBQP', 'ANOB', 'MASS', 'FOAM', 'ABNA', 'CQOS', 'IPBS']\n"
     ]
    },
    {
     "data": {
      "text/plain": [
       "True"
      ]
     },
     "execution_count": 30,
     "metadata": {},
     "output_type": "execute_result"
    }
   ],
   "source": [
    "#Dustin çözüm\n",
    "def array_in_matrix(array, target):\n",
    "    arr1 = [''.join(i) for i in array]\n",
    "    arr2 = [''.join(i) for i in list(map(lambda *x : x, *array))]\n",
    "    total = arr1 + arr2\n",
    "    print(total)\n",
    "    if target in total:\n",
    "        return True\n",
    "    else:\n",
    "        return False\n",
    "    \n",
    "array_in_matrix([['F', 'A', 'C', 'I'],\n",
    " ['O', 'B', 'Q', 'P'],\n",
    " ['A', 'N', 'O', 'B'],\n",
    " ['M', 'A', 'S', 'S']], 'FOAM')"
   ]
  },
  {
   "cell_type": "code",
   "execution_count": 25,
   "metadata": {},
   "outputs": [
    {
     "name": "stdout",
     "output_type": "stream",
     "text": [
      "[['F', 'A', 'C', 'I'], ['O', 'B', 'Q', 'P'], ['A', 'N', 'O', 'B'], ['M', 'A', 'S', 'S']]\n"
     ]
    }
   ],
   "source": [
    "a=[['F', 'A', 'C', 'I'],\n",
    " ['O', 'B', 'Q', 'P'],\n",
    " ['A', 'N', 'O', 'B'],\n",
    " ['M', 'A', 'S', 'S']]\n",
    "print(list([*a]))"
   ]
  },
  {
   "cell_type": "markdown",
   "metadata": {},
   "source": [
    "This problem was asked by Amazon.\n",
    "Given a N by M matrix of numbers, print out the matrix in a clockwise spiral.\n",
    "For example, given the following matrix:\n",
    "[[1,  2,  3,  4,  5],\n",
    " [6,  7,  8,  9,  10],\n",
    " [11, 12, 13, 14, 15],\n",
    " [16, 17, 18, 19, 20]]\n",
    "You should print out the following:\n",
    "1\n",
    "2\n",
    "3\n",
    "4\n",
    "5\n",
    "10\n",
    "15\n",
    "20\n",
    "19\n",
    "18\n",
    "17\n",
    "16\n",
    "11\n",
    "6\n",
    "7\n",
    "8\n",
    "9\n",
    "14\n",
    "13\n",
    "12"
   ]
  },
  {
   "cell_type": "code",
   "execution_count": 22,
   "metadata": {},
   "outputs": [
    {
     "ename": "IndexError",
     "evalue": "list index out of range",
     "output_type": "error",
     "traceback": [
      "\u001b[1;31m---------------------------------------------------------------------------\u001b[0m",
      "\u001b[1;31mIndexError\u001b[0m                                Traceback (most recent call last)",
      "\u001b[1;32m~\\AppData\\Local\\Temp/ipykernel_6736/7630922.py\u001b[0m in \u001b[0;36m<module>\u001b[1;34m\u001b[0m\n\u001b[0;32m     24\u001b[0m              \u001b[1;33m[\u001b[0m\u001b[1;36m28\u001b[0m\u001b[1;33m,\u001b[0m \u001b[1;36m29\u001b[0m\u001b[1;33m,\u001b[0m \u001b[1;36m30\u001b[0m\u001b[1;33m,\u001b[0m \u001b[1;36m31\u001b[0m\u001b[1;33m]\u001b[0m\u001b[1;33m,\u001b[0m\u001b[1;33m\u001b[0m\u001b[1;33m\u001b[0m\u001b[0m\n\u001b[0;32m     25\u001b[0m              [32, 33, 34, 35]]\n\u001b[1;32m---> 26\u001b[1;33m \u001b[0mprint\u001b[0m\u001b[1;33m(\u001b[0m\u001b[0msnail\u001b[0m\u001b[1;33m(\u001b[0m\u001b[0mlist2\u001b[0m\u001b[1;33m)\u001b[0m\u001b[1;33m)\u001b[0m\u001b[1;33m\u001b[0m\u001b[1;33m\u001b[0m\u001b[0m\n\u001b[0m\u001b[0;32m     27\u001b[0m \u001b[1;31m# print(snail(list3))\u001b[0m\u001b[1;33m\u001b[0m\u001b[1;33m\u001b[0m\u001b[1;33m\u001b[0m\u001b[0m\n",
      "\u001b[1;32m~\\AppData\\Local\\Temp/ipykernel_6736/7630922.py\u001b[0m in \u001b[0;36msnail\u001b[1;34m(list1)\u001b[0m\n\u001b[0;32m      5\u001b[0m     \u001b[0mouter\u001b[0m \u001b[1;33m=\u001b[0m \u001b[0mlist1\u001b[0m\u001b[1;33m[\u001b[0m\u001b[1;36m0\u001b[0m\u001b[1;33m]\u001b[0m \u001b[1;33m+\u001b[0m \u001b[1;33m[\u001b[0m\u001b[0mitem\u001b[0m\u001b[1;33m[\u001b[0m\u001b[1;33m-\u001b[0m\u001b[1;36m1\u001b[0m\u001b[1;33m]\u001b[0m \u001b[1;32mfor\u001b[0m \u001b[0mitem\u001b[0m \u001b[1;32min\u001b[0m \u001b[0mlist1\u001b[0m\u001b[1;33m[\u001b[0m\u001b[1;36m1\u001b[0m\u001b[1;33m:\u001b[0m\u001b[1;33m-\u001b[0m\u001b[1;36m1\u001b[0m\u001b[1;33m]\u001b[0m\u001b[1;33m]\u001b[0m \u001b[1;33m+\u001b[0m \u001b[0mlist1\u001b[0m\u001b[1;33m[\u001b[0m\u001b[1;33m-\u001b[0m\u001b[1;36m1\u001b[0m\u001b[1;33m]\u001b[0m\u001b[1;33m[\u001b[0m\u001b[1;33m:\u001b[0m\u001b[1;33m:\u001b[0m\u001b[1;33m-\u001b[0m\u001b[1;36m1\u001b[0m\u001b[1;33m]\u001b[0m \u001b[1;33m+\u001b[0m \u001b[1;33m[\u001b[0m\u001b[0mitem\u001b[0m\u001b[1;33m[\u001b[0m\u001b[1;36m0\u001b[0m\u001b[1;33m]\u001b[0m \u001b[1;32mfor\u001b[0m \u001b[0mitem\u001b[0m \u001b[1;32min\u001b[0m \u001b[0mlist1\u001b[0m\u001b[1;33m[\u001b[0m\u001b[1;33m-\u001b[0m\u001b[1;36m2\u001b[0m\u001b[1;33m:\u001b[0m\u001b[1;36m0\u001b[0m\u001b[1;33m:\u001b[0m\u001b[1;33m-\u001b[0m\u001b[1;36m1\u001b[0m\u001b[1;33m]\u001b[0m\u001b[1;33m]\u001b[0m\u001b[1;33m\u001b[0m\u001b[1;33m\u001b[0m\u001b[0m\n\u001b[0;32m      6\u001b[0m     \u001b[0minner\u001b[0m \u001b[1;33m=\u001b[0m \u001b[1;33m[\u001b[0m\u001b[0mitem\u001b[0m\u001b[1;33m[\u001b[0m\u001b[1;36m1\u001b[0m\u001b[1;33m:\u001b[0m\u001b[1;33m-\u001b[0m\u001b[1;36m1\u001b[0m\u001b[1;33m]\u001b[0m \u001b[1;32mfor\u001b[0m \u001b[0mitem\u001b[0m \u001b[1;32min\u001b[0m \u001b[0mlist1\u001b[0m\u001b[1;33m[\u001b[0m\u001b[1;36m1\u001b[0m\u001b[1;33m:\u001b[0m\u001b[1;33m-\u001b[0m\u001b[1;36m1\u001b[0m\u001b[1;33m]\u001b[0m \u001b[1;33m]\u001b[0m\u001b[1;33m\u001b[0m\u001b[1;33m\u001b[0m\u001b[0m\n\u001b[1;32m----> 7\u001b[1;33m     \u001b[0mresult\u001b[0m \u001b[1;33m=\u001b[0m \u001b[0msnail\u001b[0m\u001b[1;33m(\u001b[0m\u001b[0minner\u001b[0m\u001b[1;33m)\u001b[0m\u001b[1;33m\u001b[0m\u001b[1;33m\u001b[0m\u001b[0m\n\u001b[0m\u001b[0;32m      8\u001b[0m     \u001b[1;32mif\u001b[0m \u001b[0mresult\u001b[0m\u001b[1;33m[\u001b[0m\u001b[1;36m0\u001b[0m\u001b[1;33m]\u001b[0m \u001b[1;33m==\u001b[0m \u001b[1;33m[\u001b[0m\u001b[1;33m]\u001b[0m\u001b[1;33m:\u001b[0m\u001b[1;33m\u001b[0m\u001b[1;33m\u001b[0m\u001b[0m\n\u001b[0;32m      9\u001b[0m       \u001b[1;32mreturn\u001b[0m \u001b[0mouter\u001b[0m\u001b[1;33m\u001b[0m\u001b[1;33m\u001b[0m\u001b[0m\n",
      "\u001b[1;32m~\\AppData\\Local\\Temp/ipykernel_6736/7630922.py\u001b[0m in \u001b[0;36msnail\u001b[1;34m(list1)\u001b[0m\n\u001b[0;32m      6\u001b[0m     \u001b[0minner\u001b[0m \u001b[1;33m=\u001b[0m \u001b[1;33m[\u001b[0m\u001b[0mitem\u001b[0m\u001b[1;33m[\u001b[0m\u001b[1;36m1\u001b[0m\u001b[1;33m:\u001b[0m\u001b[1;33m-\u001b[0m\u001b[1;36m1\u001b[0m\u001b[1;33m]\u001b[0m \u001b[1;32mfor\u001b[0m \u001b[0mitem\u001b[0m \u001b[1;32min\u001b[0m \u001b[0mlist1\u001b[0m\u001b[1;33m[\u001b[0m\u001b[1;36m1\u001b[0m\u001b[1;33m:\u001b[0m\u001b[1;33m-\u001b[0m\u001b[1;36m1\u001b[0m\u001b[1;33m]\u001b[0m \u001b[1;33m]\u001b[0m\u001b[1;33m\u001b[0m\u001b[1;33m\u001b[0m\u001b[0m\n\u001b[0;32m      7\u001b[0m     \u001b[0mresult\u001b[0m \u001b[1;33m=\u001b[0m \u001b[0msnail\u001b[0m\u001b[1;33m(\u001b[0m\u001b[0minner\u001b[0m\u001b[1;33m)\u001b[0m\u001b[1;33m\u001b[0m\u001b[1;33m\u001b[0m\u001b[0m\n\u001b[1;32m----> 8\u001b[1;33m     \u001b[1;32mif\u001b[0m \u001b[0mresult\u001b[0m\u001b[1;33m[\u001b[0m\u001b[1;36m0\u001b[0m\u001b[1;33m]\u001b[0m \u001b[1;33m==\u001b[0m \u001b[1;33m[\u001b[0m\u001b[1;33m]\u001b[0m\u001b[1;33m:\u001b[0m\u001b[1;33m\u001b[0m\u001b[1;33m\u001b[0m\u001b[0m\n\u001b[0m\u001b[0;32m      9\u001b[0m       \u001b[1;32mreturn\u001b[0m \u001b[0mouter\u001b[0m\u001b[1;33m\u001b[0m\u001b[1;33m\u001b[0m\u001b[0m\n\u001b[0;32m     10\u001b[0m     \u001b[1;32melse\u001b[0m\u001b[1;33m:\u001b[0m\u001b[1;33m\u001b[0m\u001b[1;33m\u001b[0m\u001b[0m\n",
      "\u001b[1;31mIndexError\u001b[0m: list index out of range"
     ]
    }
   ],
   "source": [
    "def snail(list1):\n",
    "  if len(list1) < 1 or len(list1[0]) < 1:\n",
    "    return list1 \n",
    "  else:\n",
    "    outer = list1[0] + [item[-1] for item in list1[1:-1]] + list1[-1][::-1] + [item[0] for item in list1[-2:0:-1]]\n",
    "    inner = [item[1:-1] for item in list1[1:-1] ]\n",
    "    result = snail(inner)\n",
    "    if result[0] == []:\n",
    "      return outer\n",
    "    else:\n",
    "      return outer + result\n",
    "    \n",
    "list2= [[1,  2,  3,  4,  5],\n",
    "        [6,  7,  8,  9,  10],\n",
    "        [11, 12, 13, 14, 15],\n",
    "        [16, 17, 18, 19, 20]]\n",
    "list3=[[ 0,  1,  2,  3],\n",
    "             [ 4,  5,  6,  7],\n",
    "             [ 8,  9, 10, 11],\n",
    "             [12, 13, 14, 15],\n",
    "             [16, 17, 18, 19],\n",
    "             [20, 21, 22, 23],\n",
    "             [24, 25, 26, 27],\n",
    "             [28, 29, 30, 31],\n",
    "             [32, 33, 34, 35]]\n",
    "print(snail(list2))\n",
    "# print(snail(list3))"
   ]
  },
  {
   "cell_type": "markdown",
   "metadata": {},
   "source": [
    "This problem was asked by Facebook.\n",
    "Given a multiset of integers, return whether it can be partitioned into two subsets whose sums are the same.\n",
    "For example, given the multiset {15, 5, 20, 10, 35, 15, 10}, it would return true, since we can split it up into {15, 5, 10, 15, 10} and {20, 35}, which both add up to 55.\n",
    "Given the multiset {15, 5, 20, 10, 35}, it would return false, since we can't split it up into two subsets that add up to the same sum"
   ]
  },
  {
   "cell_type": "code",
   "execution_count": 2,
   "metadata": {},
   "outputs": [
    {
     "name": "stdout",
     "output_type": "stream",
     "text": [
      "[([35, 5, 15], [20, 10, 15, 10]), ([35, 20], [15, 5, 10, 15, 10]), ([15, 20, 5, 15], [10, 35, 10]), ([15, 35, 5], [20, 10, 15, 10]), ([10, 10, 20, 15], [5, 35, 15]), ([10, 35, 10], [15, 5, 20, 15]), ([10, 15, 10, 5, 15], [20, 35]), ([10, 15, 10, 20], [5, 35, 15])]\n"
     ]
    }
   ],
   "source": [
    "# combs find all combinations of a list and taken from https://stackoverflow.com/a/54480126\n",
    "def combs(a):\n",
    "    if len(a) == 0:\n",
    "        return [[]]\n",
    "    cs = []\n",
    "    for c in combs(a[1:]):\n",
    "        cs += [c, c + [a[0]]]\n",
    "    return cs\n",
    "\n",
    "def split_list(multiset):\n",
    "    if sum(multiset)%2:\n",
    "        return []\n",
    "    else:\n",
    "        target = sum(multiset)/2\n",
    "        sums = [items for items in combs(multiset) if sum(items) == target ]\n",
    "        result=[]\n",
    "        for items in sums:\n",
    "            diff = multiset.copy()\n",
    "            for i in items:\n",
    "                diff.remove(i)\n",
    "            result.append((items, diff))\n",
    "        return result\n",
    "\n",
    "multiset1 = [15, 5, 20, 10, 35, 15, 10]\n",
    "print(split_list(multiset1))\n"
   ]
  },
  {
   "cell_type": "markdown",
   "metadata": {},
   "source": [
    "This problem was asked by Amazon.\n",
    "Given a string s and an integer k, break up the string into multiple texts such that each text has a length of k or less. You must break it up so that words don't break across lines. If there's no way to break the text up, then return null.\n",
    "You can assume that there are no spaces at the ends of the string and that there is exactly one space between each word.\n",
    "For example, given the string \"the quick brown fox jumps over the lazy dog\" and k = 10, you should return: [\"the quick\", \"brown fox\", \"jumps over\", \"the lazy\", \"dog\"]. No string in the list has a length of more than 10."
   ]
  },
  {
   "cell_type": "code",
   "execution_count": null,
   "metadata": {},
   "outputs": [],
   "source": []
  },
  {
   "cell_type": "markdown",
   "metadata": {},
   "source": [
    "Given a string, find the longest palindromic contiguous substring. If there are more than one with the maximum length, return any one.\n",
    "For example, the longest palindromic substring of \"aabcdcb\" is \"bcdcb\". The longest palindromic substring of \"bananas\" is \"anana\"."
   ]
  },
  {
   "cell_type": "code",
   "execution_count": null,
   "metadata": {},
   "outputs": [],
   "source": []
  },
  {
   "cell_type": "markdown",
   "metadata": {},
   "source": [
    "This problem was asked by Two Sigma.\n",
    "Using a function rand5() that returns an integer from 1 to 5 (inclusive)\n",
    "with uniform probability, implement a function rand7() that returns an\n",
    "integer from 1 to 7 (inclusive)."
   ]
  },
  {
   "cell_type": "code",
   "execution_count": null,
   "metadata": {},
   "outputs": [],
   "source": []
  },
  {
   "cell_type": "markdown",
   "metadata": {},
   "source": [
    "Merhaba arkadaşlar selamlar dün İsveçli bir firmanın teknik mülakına giren bir arkadaşın python algoritma sorusu. Kolay gelsin \n",
    "Description\n",
    "Russian nesting dolls are brightly painted hollow wooden figures. The dolls in a set have roughly the same shape, typically humanoid, but different sizes. When the set is assembled, the biggest doll contains the second-biggest doll, the second-biggest contains the third-biggest, and so on.\n",
    "We can approximate the shape of a doll as a cylinder of height h, diameter d, and wall thickness w. Such a doll would have a hollow of height h-2w and diameter d-2w.\n",
    "Boris and Natasha each has a set of dolls. The sets are nearly identical; each has the same number of dolls, which look the same but differ in their dimensions. Last night Boris and Natasha were playing with their dolls and left them in the living room. Their mother tidied them away, dumping them all in one box. Can you help Boris and Natasha separate their sets of dolls?\n",
    "Input\n",
    "Standard Input will consist of several test cases. The first line of each test case will contain n, the number of dolls in each set (1 < n <= 100). 2n lines follow; each gives the dimensions, h, d, w of a different doll (h,d >= 2w > 0). A line containing 0 follows the last test case.\n",
    "Output\n",
    "For each test case, separate the dolls into two sets of nesting dolls such that, within each set, the dolls fit within each other, standing straight up, as described above. The first n lines of output should give the dimensions of the dolls in one set, in decreasing order by height. The next line should contain a single hyphen, \"-\". The next n lines should give the dimensions of the dolls in the second set, also in decreasing order by height. There will always be a solution. If there are many solutions, any will do. Output an empty line between test cases.\n",
    "Sample Input\n",
    "\n",
    "3\n",
    "100 100 3\n",
    "97 97 3\n",
    "94 94 3\n",
    "91 91 3\n",
    "88 88 3\n",
    "85 85 3\n",
    "5\n",
    "100 100 1\n",
    "97 97 3\n",
    "98 98 1\n",
    "96 96 1\n",
    "94 94 1\n",
    "92 92 1\n",
    "90 90 1\n",
    "88 88 1\n",
    "86 86 1\n",
    "84 84 1\n",
    "0\n",
    "Sample Output\n",
    "\n",
    "100 100 3\n",
    "94 94 3\n",
    "88 88 3\n",
    "-\n",
    "97 97 3\n",
    "91 91 3\n",
    "85 85 3\n",
    "\n",
    "100 100 1\n",
    "98 98 1\n",
    "96 96 1\n",
    "94 94 1\n",
    "92 92 1\n",
    "-\n",
    "97 97 3\n",
    "90 90 1\n",
    "88 88 1\n",
    "86 86 1\n",
    "84 84 1"
   ]
  },
  {
   "cell_type": "code",
   "execution_count": null,
   "metadata": {},
   "outputs": [],
   "source": []
  },
  {
   "cell_type": "markdown",
   "metadata": {},
   "source": [
    "Define a function named double_letters that takes a single parameter\n",
    "The parameter is a string.\n",
    "Your function must return True if there are two identical letters\n",
    "in a row in the string, and False otherwise. output :"
   ]
  },
  {
   "cell_type": "code",
   "execution_count": null,
   "metadata": {},
   "outputs": [],
   "source": [
    "#Dustin çözüm\n",
    "def double_letters(text):\n",
    "    sonuc = False\n",
    "    for i in range(len(text) -1):\n",
    "        if text[i] == text[i + 1]:\n",
    "            sonuc = True\n",
    "    return sonuc\n",
    "double_letters('nn')"
   ]
  },
  {
   "cell_type": "markdown",
   "metadata": {},
   "source": [
    "Create a Dictionary which contains the Binary values mapping with numbers found in the below integer and binary\n",
    "and save it in binary_dict. (Please use dictionary comprehension)\n",
    "integer = [0, 1, 2, 3, 4]\n",
    "binary = [\"0\", \"1\", \"10\", \"11\", \"100\"] output :{0: '0', 1: '1', 2: '10', 3: '11', 4: '100'}"
   ]
  },
  {
   "cell_type": "code",
   "execution_count": null,
   "metadata": {},
   "outputs": [],
   "source": []
  },
  {
   "cell_type": "markdown",
   "metadata": {},
   "source": [
    "This problem was asked by Google.\n",
    "Given a list of integers S and a target number k, write a function that returns a subset of S that adds up to k. If such a subset cannot be made, then return null.\n",
    "Integers can appear more than once in the list. You may assume all numbers in the list are positive.\n",
    "For example, given S = [12, 1, 61, 5, 9, 2] and k = 24, return [12, 9, 2,1] since it sums up to 24."
   ]
  },
  {
   "cell_type": "code",
   "execution_count": null,
   "metadata": {},
   "outputs": [],
   "source": [
    "#Dustin çözüm\n",
    "def subset(liste, k):\n",
    "    res = [[]]\n",
    "    resa = []\n",
    "    for i in liste:\n",
    "        for j in res:\n",
    "            res = res + [j + [i]]\n",
    "            if sum(res[-1]) == k:\n",
    "                if res[-1] not in resa:\n",
    "                    resa.append(res[-1])\n",
    "    if resa == []:\n",
    "        return 'Null'\n",
    "    else:\n",
    "        return resa # tum sonuclar icin\n",
    "       # return resa[-1] tek sonuc icin\n",
    "        \n",
    "subset([1,3,5,12,15,7,8,23,9], 24)\n",
    "\n",
    "#Adsum çözüm\n",
    "def sub_list(num_list, k):\n",
    "\n",
    "    from itertools import combinations\n",
    "    result = []\n",
    "\n",
    "    for i in range(1, len(num_list)+1):\n",
    "        result += [list(p) for p in combinations(num_list, i) if sum(p)==k and p != []]\n",
    "        \n",
    "    if result == []: return None;\n",
    "    else: return result;\n",
    "\n",
    "sub_list([12, 1, 61, 5, 9, 2], 24)"
   ]
  },
  {
   "cell_type": "markdown",
   "metadata": {},
   "source": [
    "Create a Dictionary which contains the Binary values mapping with numbers found in the below integer and binary\n",
    "and save it in binary_dict. (Please use dictionary comprehension)\n",
    "integer = [0, 1, 2, 3, 4]\n",
    "binary = [\"0\", \"1\", \"10\", \"11\", \"100\"] output :{0: '0', 1: '1', 2: '10', 3: '11', 4: '100'}"
   ]
  },
  {
   "cell_type": "markdown",
   "metadata": {},
   "source": [
    "This problem was asked by Google.\n",
    "The power set of a set is the set of all its subsets. Write a function\n",
    "that, given a set, generates its power set.\n",
    "For example, given the set {1, 2, 3}, it should return {{}, {1}, {2}, {3},\n",
    "{1, 2}, {1, 3}, {2, 3}, {1, 2, 3}}.\n",
    "You may also use a list or array to represent a set."
   ]
  },
  {
   "cell_type": "code",
   "execution_count": 1,
   "metadata": {},
   "outputs": [
    {
     "data": {
      "text/plain": [
       "[[],\n",
       " [1],\n",
       " [2],\n",
       " [1, 2],\n",
       " [3],\n",
       " [1, 3],\n",
       " [2, 3],\n",
       " [1, 2, 3],\n",
       " [4],\n",
       " [1, 4],\n",
       " [2, 4],\n",
       " [1, 2, 4],\n",
       " [3, 4],\n",
       " [1, 3, 4],\n",
       " [2, 3, 4],\n",
       " [1, 2, 3, 4],\n",
       " [5],\n",
       " [1, 5],\n",
       " [2, 5],\n",
       " [1, 2, 5],\n",
       " [3, 5],\n",
       " [1, 3, 5],\n",
       " [2, 3, 5],\n",
       " [1, 2, 3, 5],\n",
       " [4, 5],\n",
       " [1, 4, 5],\n",
       " [2, 4, 5],\n",
       " [1, 2, 4, 5],\n",
       " [3, 4, 5],\n",
       " [1, 3, 4, 5],\n",
       " [2, 3, 4, 5],\n",
       " [1, 2, 3, 4, 5]]"
      ]
     },
     "execution_count": 1,
     "metadata": {},
     "output_type": "execute_result"
    }
   ],
   "source": [
    "#Dustin çözüm\n",
    "def power_set(a):   \n",
    "    a = list(a)\n",
    "    b = [[]]\n",
    "    for i in a:\n",
    "        for j in b:\n",
    "            b = b + [list(j) + [i]]\n",
    "    return b\n",
    "\n",
    "power_set({1,2,3,4,5})"
   ]
  },
  {
   "cell_type": "markdown",
   "metadata": {},
   "source": [
    "This problem was asked by Google.\n",
    "Given a list of integers S and a target number k, write a function that\n",
    "returns a subset of S that adds up to k. If such a subset cannot be made,\n",
    "then return null.\n",
    "Integers can appear more than once in the list. You may assume all numbers\n",
    "in the list are positive.\n",
    "For example, given S = [12, 1, 61, 5, 9, 2] and k = 24, return [12, 9, 2,\n",
    "1] since it sums up to 24."
   ]
  },
  {
   "cell_type": "markdown",
   "metadata": {},
   "source": [
    "There is a war and nobody knows - the alphabet war!\n",
    "The letters hide in their nuclear shelters. The nuclear strikes hit the battlefield and killed a lot of them.\n",
    "Task\n",
    "Write a function that accepts battlefield string and returns letters that survived the nuclear strike.\n",
    "The battlefield string consists of only small letters, #,[ and ].\n",
    "The nuclear shelter is represented by square brackets []. The letters inside the square brackets represent letters inside the shelter.\n",
    "The # means a place where nuclear strike hit the battlefield. If there is at least one # on the battlefield, all letters outside of shelter die. When there is no any # on the battlefield, all letters survive (but do not expect such scenario too often ;-P ).\n",
    "The shelters have some durability. When 2 or more # hit close to the shelter, the shelter is destroyed and all letters inside evaporate. The 'close to the shelter' means on the ground between the shelter and the next shelter (or beginning/end of battlefield). The below samples make it clear for you.\n",
    "Example\n",
    "abde[fgh]ijk     => \"abdefghijk\"  (all letters survive because there is no # )\n",
    "ab#de[fgh]ijk    => \"fgh\" (all letters outside die because there is a # )\n",
    "ab#de[fgh]ij#k   => \"\"  (all letters dies, there are 2 # close to the shellter )\n",
    "##abde[fgh]ijk   => \"\"  (all letters dies, there are 2 # close to the shellter )\n",
    "##abde[fgh]ijk[mn]op => \"mn\" (letters from the second shelter survive, there is no # close)\n",
    "#ab#de[fgh]ijk[mn]op => \"mn\" (letters from the second shelter survive, there is no # close)\n",
    "#abde[fgh]i#jk[mn]op => \"mn\" (letters from the second shelter survive, there is only 1 # close)\n",
    "[a]#[b]#[c]  => \"ac\"\n",
    "[a]#b#[c][d] => \"d\"\n",
    "[a][b][c]    => \"abc\"\n",
    "##a[a]b[c]#  => \"c\""
   ]
  },
  {
   "cell_type": "markdown",
   "metadata": {},
   "source": [
    "- Write a function named add_dots that takes a string and adds \".\" in between each letter.\n",
    "- For example\n",
    "- calling add_dots(\"test\") should return the string \"t.e.s.t\".\n",
    "- Then, below the add_dots function,\n",
    "- write another function named remove_dots that removes all dots from a string.\n",
    "- For example\n",
    "- calling remove_dots(\"t.e.s.t\") should return \"test\".\n",
    "- If both functions are correct,\n",
    "- calling remove_dots(add_dots(string)) should return back the original string for any string."
   ]
  },
  {
   "cell_type": "markdown",
   "metadata": {},
   "source": []
  },
  {
   "cell_type": "markdown",
   "metadata": {},
   "source": [
    "Write your solution:\n",
    "* Output: 'one owt three ruof five xis seven' \n",
    "* Input:  'one two three four five six seven'"
   ]
  },
  {
   "cell_type": "markdown",
   "metadata": {},
   "source": [
    "The number 81 has a special property, a certain power of the sum of its digits is equal to 81 (nine squared). Eighty one (81), is the first number in having this property (not considering numbers of one digit). The next one, is 512. Let's see both cases with the details\n",
    "8 + 1 = 9 and 92 = 81\n",
    "512 = 5 + 1 + 2 = 8 and 83 = 512\n",
    "We need to make a function, power_sumDigTerm(), that receives a number n and may output the n-th term of this sequence of numbers. The cases we presented above means that\n",
    "power_sumDigTerm(1) == 81\n",
    "power_sumDigTerm(2) == 512\n",
    "Happy coding!"
   ]
  },
  {
   "cell_type": "markdown",
   "metadata": {},
   "source": [
    "Compute the running median of a sequence of numbers. That is, given a\n",
    "stream of numbers, print out the median of the list so far on each new\n",
    "element.\n",
    "Recall that the median of an even-numbered list is the average of the two\n",
    "middle numbers.\n",
    "For example, given the sequence [2, 1, 5, 7, 2, 0, 5], your algorithm\n",
    "should print out:\n",
    "2\n",
    "1.5\n",
    "2\n",
    "3.5\n",
    "2\n",
    "2\n",
    "2"
   ]
  },
  {
   "cell_type": "code",
   "execution_count": 51,
   "metadata": {},
   "outputs": [
    {
     "name": "stdout",
     "output_type": "stream",
     "text": [
      "2\n",
      "1.5\n",
      "2\n",
      "3.5\n",
      "2\n",
      "2.0\n",
      "2\n"
     ]
    }
   ],
   "source": [
    "my_list = [2, 1, 5, 7, 2, 0, 5]\n",
    "\n",
    "running_list = []\n",
    "for item in my_list:\n",
    "    running_list.append(item)\n",
    "    if len(running_list) % 2:\n",
    "        running_list.sort()\n",
    "        med_point = len(running_list)//2\n",
    "        print(running_list[med_point])\n",
    "    else :\n",
    "        running_list.sort()\n",
    "        med_point = len(running_list)//2 - 1\n",
    "        print(sum(running_list[med_point : med_point + 2])/2)\n"
   ]
  },
  {
   "cell_type": "markdown",
   "metadata": {},
   "source": [
    "Write your solutions. Print square pattern with alphabet symbols: output :\n",
    "A A A A A A A \n",
    "B B B B B B B \n",
    "C C C C C C C \n",
    "D D D D D D D \n",
    "E E E E E E E \n",
    "F F F F F F F \n",
    "G G G G G G G "
   ]
  },
  {
   "cell_type": "code",
   "execution_count": 40,
   "metadata": {},
   "outputs": [
    {
     "name": "stdout",
     "output_type": "stream",
     "text": [
      "A A A A A A A \n",
      "B B B B B B B \n",
      "C C C C C C C \n",
      "D D D D D D D \n",
      "E E E E E E E \n",
      "F F F F F F F \n",
      "G G G G G G G \n"
     ]
    }
   ],
   "source": [
    "length = 7\n",
    "for i in range(length):\n",
    "    print((chr(ord(\"A\")+i) + \" \") *length)\n"
   ]
  },
  {
   "cell_type": "markdown",
   "metadata": {},
   "source": [
    "<img src=\"images/image (3).png\">"
   ]
  },
  {
   "cell_type": "code",
   "execution_count": 38,
   "metadata": {},
   "outputs": [
    {
     "name": "stdout",
     "output_type": "stream",
     "text": [
      "[('z', 0), ('b', 1), ('c', 2), ('x', 3), ('x', 4)]\n"
     ]
    }
   ],
   "source": [
    "#Muhammet çözüm\n",
    "input=[(\"b\",1),(\"c\",2),(\"x\",3),(\"x\",4),(\"z\",0)]\n",
    "output = sorted(input,key=(lambda x: x[1]))\n",
    "print(output)"
   ]
  },
  {
   "cell_type": "markdown",
   "metadata": {},
   "source": [
    "Find lcm (least common multiple) with divisors of three or more numbers\n",
    "Examples:\n",
    "\n",
    "lcm([12, 8, 16])  ===>  ([2, 2, 2, 2, 3], 48)\n",
    "lcm([1, 2, 3, 4, 5, 6, 7, 8, 9])  ===>  ([2, 2, 2, 3, 3, 5, 7], 2520)"
   ]
  },
  {
   "cell_type": "markdown",
   "metadata": {},
   "source": []
  },
  {
   "cell_type": "markdown",
   "metadata": {},
   "source": [
    "Program to Print Characters at Odd Position and Even Position for a String? given :\"Welcome to the Data Science Path!\" output:\n",
    "Characters at Even Position: Wloet h aaSinePt!\n",
    "Characters at Odd Position: ecm oteDt cec ah"
   ]
  },
  {
   "cell_type": "markdown",
   "metadata": {},
   "source": []
  },
  {
   "cell_type": "markdown",
   "metadata": {},
   "source": [
    "Program to Sort the Characters of  String  Alphabet Symbols followed by Numeric Values\n",
    "* Input:  MHMMT1453\n",
    "* Output: HMMMT1345"
   ]
  },
  {
   "cell_type": "code",
   "execution_count": null,
   "metadata": {},
   "outputs": [],
   "source": []
  },
  {
   "cell_type": "markdown",
   "metadata": {},
   "source": [
    "Create a list of strings based on a list of numbers\n",
    "The rules:\n",
    "<ul>\n",
    "<li>If the number is a multiple of five and odd, the string should be 'five odd'</li>\n",
    "<li>If the number is a multiple of five and even, the string should be 'five even'</li>\n",
    "<li>If the number is odd, the string is 'odd'</li>\n",
    "<li>If the number is even, the string is 'even'</li>\n",
    "</ul> \n",
    "we can solve this guestion using loop easly it is okey. But can we solve it using list comprehension ? given list =numbers = [1, 3, 4, 6, 81, 80, 100, 95] expected output = ['odd', 'odd', 'even', 'even', 'odd', 'five even', 'five even', 'five odd']"
   ]
  },
  {
   "cell_type": "code",
   "execution_count": 6,
   "metadata": {},
   "outputs": [
    {
     "name": "stdout",
     "output_type": "stream",
     "text": [
      "['odd', 'odd', 'even', 'even', 'odd', 'five even', 'five even', 'five odd']\n"
     ]
    }
   ],
   "source": [
    "numbers = [1, 3, 4, 6, 81, 80, 100, 95]\n",
    "output = [  \"five even\" if (item%2==0 and item%5==0) else \\\n",
    "            \"five odd\" if  item%5==0 else\\\n",
    "            \"even\" if  item%2==0 else\\\n",
    "            \"odd\" for item in numbers ]\n",
    "print(output)"
   ]
  },
  {
   "cell_type": "markdown",
   "metadata": {},
   "source": [
    "Good luck with an easy question to remember our knowledge of dictionaries:))\n",
    "Tasks :\n",
    "1. if the username and password matches print hello username\n",
    "2. if the username and password does not match, ask, you want me to add into\n",
    "the database and add database\n",
    "3. show the updated database\n",
    "(Hint: Use Dictionary) output : updated Databese : {'Mehmet': 1234, 'Halit': 5678, 'Pedro': 1357, 'Muhammet': '3460'}"
   ]
  },
  {
   "cell_type": "code",
   "execution_count": null,
   "metadata": {},
   "outputs": [],
   "source": [
    "#Dustin çözüm\n",
    "database = {'Mehmet': 1234, 'Halit': 5678, 'Pedro': 1357, 'Muhammet': '3460'}\n",
    "\n",
    "username = input('Enter username: ')\n",
    "passwrd = input('Enter password: ')\n",
    "\n",
    "if (username in database) and database[username] == int(passwrd) :\n",
    "    print(f\"Hello {username}\")\n",
    "\n",
    "else:\n",
    "    ask = input('Do you want to add new username and password(y / n) : ')\n",
    "    if ask.lower() == 'y' :\n",
    "        new_user = input('Enter a new username: ')\n",
    "        new_pass = int(input('Enter a new pass: '))\n",
    "        database[new_user] = new_pass\n",
    "        print(f\"Updated database {database}\")\n",
    "    \n",
    "    else:\n",
    "        print('Have a nice day!')"
   ]
  },
  {
   "cell_type": "markdown",
   "metadata": {},
   "source": [
    "Write a function that when given a URL as a string, parses out just the domain name and returns it as a string. For example:\n",
    "domain_name(\"http://github.com/carbonfive/raygun\") == \"github\" \n",
    "domain_name(\"http://www.zombie-bites.com\") == \"zombie-bites\"\n",
    "domain_name(\"https://www.cnet.com\") == \"cnet\""
   ]
  },
  {
   "cell_type": "code",
   "execution_count": 36,
   "metadata": {},
   "outputs": [
    {
     "name": "stdout",
     "output_type": "stream",
     "text": [
      "github\n",
      "github\n"
     ]
    }
   ],
   "source": [
    "def domain_name(url:str):\n",
    "    order = url.find(\"://www.\")\n",
    "    if order > 0:\n",
    "        dot_position = url.find(\".\",order+7)        \n",
    "        return url[order+7:dot_position]\n",
    "    elif url.find(\"://\") > 0:\n",
    "        order = url.find(\"://\")\n",
    "        dot_position = url.find(\".\",order+3)        \n",
    "        return url[order+3:dot_position]\n",
    "    else:\n",
    "        return \"\"\n",
    "\n",
    "#burak çözüm\n",
    "def domain_name2(url):\n",
    "    return url.split(\"//\")[-1].split(\"www.\")[-1].split(\".\")[0]\n",
    "\n",
    "print(domain_name(\"http://github.com/carbonfive/raygun\"))\n",
    "print(domain_name2(\"http://github.com/carbonfive/raygun\"))"
   ]
  },
  {
   "cell_type": "markdown",
   "metadata": {},
   "source": [
    "Filter fonksiyonunu hatırlayalım! 1'den 100'e kadar olan sayılardan asal olanları listeleyiniz. Filter fonksiyonunu kullanmanız rica olunur!"
   ]
  },
  {
   "cell_type": "code",
   "execution_count": 13,
   "metadata": {},
   "outputs": [
    {
     "name": "stdout",
     "output_type": "stream",
     "text": [
      "[2, 3, 5, 7, 11, 13, 17, 19, 23, 29, 31, 37, 41, 43, 47, 53, 59, 61, 67, 71, 73, 79, 83, 89, 97]\n"
     ]
    }
   ],
   "source": [
    "#Dustin çözüm\n",
    "def prime(y):\n",
    "    prime_list = []\n",
    "    for i in range(1, y + 1):\n",
    "        if y % i == 0:\n",
    "            prime_list.append(i)\n",
    "    if prime_list == [1, y]:\n",
    "        return True\n",
    "    else:\n",
    "        return False\n",
    "\n",
    "asal = list(filter(prime, list(range(1, 100))))\n",
    "print(asal)"
   ]
  },
  {
   "cell_type": "markdown",
   "metadata": {},
   "source": [
    "tek aralıklı yazı tipinde metin hizalamasını taklit etmektir. Size tek satırlı bir metin ve beklenen yaslama genişliği verilecektir. En uzun kelime asla bu genişlikten daha büyük olmayacaktır.\n",
    "İşte kurallar:\n",
    "Sözcükler arasındaki boşlukları doldurmak için boşlukları kullanın.\n",
    "Her satır mümkün olduğunca çok kelime içermelidir.\n",
    "Satırları ayırmak için '\\n' kullanın.\n",
    "Sözcükler arasındaki boşluk, birden fazla boşlukla farklılık gösteremez.\n",
    "Satırlar boşlukla değil bir kelimeyle bitmelidir.\n",
    "'\\n' bir satırın uzunluğuna dahil edilmez.\n",
    "Önce büyük boşluklar, sonra daha küçük boşluklar ('Lorem--ipsum--dolor--sit-amet,' (2, 2, 2, 1 boşluk)) gider.\n",
    "Son satır iki yana yaslanmamalı, kelimeler arasında sadece bir boşluk bırakılmalıdır.\n",
    "Son satır '\\n' içermemelidir\n",
    "Tek kelimelik dizeler boşluklara ihtiyaç duymaz ('bir kelime\\n').\n",
    "Genişlik=30 olan örnek:\n",
    "Lorem  ipsum  dolor  sit amet,\n",
    "consectetur  adipiscing  elit.\n",
    "Vestibulum    sagittis   dolor\n",
    "mauris,  at  elementum  ligula\n",
    "tempor  eget.  In quis rhoncus\n",
    "nunc,  at  aliquet orci. Fusce\n",
    "at   dolor   sit   amet  felis\n",
    "suscipit   tristique.   Nam  a\n",
    "imperdiet   tellus.  Nulla  eu\n",
    "vestibulum    urna.    Vivamus\n",
    "tincidunt  suscipit  enim, nec\n",
    "ultrices   nisi  volutpat  ac.\n",
    "Maecenas   sit   amet  lacinia\n",
    "arcu,  non dictum justo. Donec\n",
    "sed  quam  vel  risus faucibus\n",
    "euismod.  Suspendisse  rhoncus\n",
    "rhoncus  felis  at  fermentum.\n",
    "Donec lorem magna, ultricies a\n",
    "nunc    sit    amet,   blandit\n",
    "fringilla  nunc. In vestibulum\n",
    "velit    ac    felis   rhoncus\n",
    "pellentesque. Mauris at tellus\n",
    "enim.  Aliquam eleifend tempus\n",
    "dapibus. Pellentesque commodo,\n",
    "nisi    sit   amet   hendrerit\n",
    "fringilla,   ante  odio  porta\n",
    "lacus,   ut   elementum  justo\n",
    "nulla et dolor."
   ]
  },
  {
   "cell_type": "code",
   "execution_count": 12,
   "metadata": {},
   "outputs": [
    {
     "name": "stdout",
     "output_type": "stream",
     "text": [
      "Lorem  ipsum  dolor  sit amet,\n",
      "consectetur  adipiscing  elit.\n",
      "Vestibulum    sagittis   dolor\n",
      "mauris,  at  elementum  ligula\n",
      "tempor  eget.  In quis rhoncus\n",
      "nunc,  at  aliquet orci. Fusce\n",
      "at   dolor   sit   amet  felis\n",
      "suscipit   tristique.   Nam  a\n",
      "imperdiet   tellus.  Nulla  eu\n",
      "vestibulum    urna.    Vivamus\n",
      "tincidunt  suscipit  enim, nec\n",
      "ultrices   nisi  volutpat  ac.\n",
      "Maecenas   sit   amet  lacinia\n",
      "arcu,  non dictum justo. Donec\n",
      "sed  quam  vel  risus faucibus\n",
      "euismod.  Suspendisse  rhoncus\n",
      "rhoncus  felis  at  fermentum.\n",
      "Donec lorem magna, ultricies a\n",
      "nunc    sit    amet,   blandit\n",
      "fringilla  nunc. In vestibulum\n",
      "velit    ac    felis   rhoncus\n",
      "pellentesque. Mauris at tellus\n",
      "enim.  Aliquam eleifend tempus\n",
      "dapibus. Pellentesque commodo,\n",
      "nisi    sit   amet   hendrerit\n",
      "fringilla,   ante  odio  porta\n",
      "lacus,   ut   elementum  justo\n",
      "nulla et dolor.\n"
     ]
    }
   ],
   "source": [
    "#Dustin çözüm\n",
    "text = 'Lorem ipsum dolor sit amet, consectetur adipiscing elit. Vestibulum sagittis dolor mauris, at elementum ligula tempor eget. In quis rhoncus nunc, at aliquet orci. Fusce at dolor sit amet felis suscipit tristique. Nam a imperdiet tellus. Nulla eu vestibulum urna. Vivamus tincidunt suscipit enim, nec ultrices nisi volutpat ac. Maecenas sit amet lacinia arcu, non dictum justo. Donec sed quam vel risus faucibus euismod. Suspendisse rhoncus rhoncus felis at fermentum. Donec lorem magna, ultricies a nunc sit amet, blandit fringilla nunc. In vestibulum velit ac felis rhoncus pellentesque. Mauris at tellus enim. Aliquam eleifend tempus dapibus. Pellentesque commodo, nisi sit amet hendrerit fringilla, ante odio porta lacus, ut elementum justo nulla et dolor.'\n",
    "\n",
    "def bosluk(text, n):\n",
    "    x = text.count(' ')\n",
    "    if x != 0:\n",
    "        liste = [0 for i in range(x)]\n",
    "        a, b, c, text_2 = 0, 0, 0, ''\n",
    "        while a < n:\n",
    "            liste[b] += 1\n",
    "            a += 1\n",
    "            b += 1\n",
    "            if b == x: b = 0\n",
    "        for i in text:\n",
    "            if i == ' ':\n",
    "                text_2 += i + ' ' * liste[c]\n",
    "                c += 1\n",
    "            else: text_2 += i\n",
    "    else: text_2 = text\n",
    "    return text_2\n",
    "\n",
    "def lorem(text, n):\n",
    "    result = ''\n",
    "    while True:\n",
    "        try:\n",
    "            look = text[n - 1]\n",
    "        except:\n",
    "            new = text\n",
    "            result += new\n",
    "            break\n",
    "        else:\n",
    "            if n - 1 == len(text) - 1:\n",
    "                new = text\n",
    "                result += new\n",
    "                break\n",
    "            elif look != ' ' and text[n] != ' ':\n",
    "                a = text[:n][::-1].find(' ') \n",
    "                text_2 = text[:n - a - 1]\n",
    "                b = n - len(text_2)\n",
    "                new = bosluk(text_2, b) + '\\n'\n",
    "                text = text[n - a:]\n",
    "                result += new\n",
    "                new = ''\n",
    "            elif look == ' ':\n",
    "                text_2 = text[:n - 1]\n",
    "                new = bosluk(text_2, 1) + '\\n'\n",
    "                text = text[n:]\n",
    "                result += new\n",
    "                new = ''\n",
    "            elif look != ' ' and text[n] == ' ':\n",
    "                text_2 = text[:n]\n",
    "                new = text_2 + '\\n'\n",
    "                text = text[n + 1:]\n",
    "                result += new\n",
    "                new = ''\n",
    "    return result\n",
    "\n",
    "print(lorem(text, 30))"
   ]
  },
  {
   "cell_type": "markdown",
   "metadata": {},
   "source": [
    "ROT13 is a simple letter substitution cipher that replaces a letter with the letter 13 letters after it in the alphabet. ROT13 is an example of the Caesar cipher.\n",
    "Create a function that takes a string and returns the string ciphered with Rot13. If there are numbers or special characters included in the string, they should be returned as they are. Only letters from the latin/english alphabet should be shifted, like in the original Rot13\n",
    "Please note that using encode is considered cheating.\n",
    "rot13(\"test\") ====> \"grfg\"\n",
    "rot13(\"Test\") =====> \"Grfg\"\n",
    "rot13('This is an encrypted message!') =====> 'Guvf vf na rapelcgrq zrffntr!'"
   ]
  },
  {
   "cell_type": "code",
   "execution_count": 11,
   "metadata": {},
   "outputs": [
    {
     "data": {
      "text/plain": [
       "'Guvf vf na rapelcgrq zrffntr!'"
      ]
     },
     "execution_count": 11,
     "metadata": {},
     "output_type": "execute_result"
    }
   ],
   "source": [
    "def rot13(text):\n",
    "    upper = range(65,91)\n",
    "    lower = range(97,123)\n",
    "    rot = []\n",
    "    for item in text:\n",
    "        char_order = ord(item)\n",
    "        if char_order in upper:\n",
    "            rot.append(chr(char_order+13 if char_order+13 < 91 else char_order+13-(91-65)))\n",
    "        elif char_order in lower:\n",
    "            rot.append(chr(char_order+13 if char_order+13 < 123 else char_order+13-(123-97)))\n",
    "        else:\n",
    "            rot.append(chr(char_order))\n",
    "    return \"\".join(rot)\n",
    "\n",
    "rot13(\"This is an encrypted message!\")\n",
    "\n"
   ]
  },
  {
   "cell_type": "markdown",
   "metadata": {},
   "source": [
    "Salyangoz Sıralaması\n",
    "Bir n x ndizi verildiğinde , en dıştaki öğelerden ortadaki öğeye düzenlenen dizi öğelerini saat yönünde hareket ettirin.\n",
    "array = [[1,2,3],\n",
    "         [4,5,6],\n",
    "         [7,8,9]]\n",
    "snail(array) #=> [1,2,3,6,9,8,7,4,5]\n",
    "Daha iyi anlamak için lütfen bir sonraki dizinin numaralarını art arda takip edin:\n",
    "array = [[1,2,3],\n",
    "         [8,9,4],\n",
    "         [7,6,5]]\n",
    "snail(array) #=> [1,2,3,4,5,6,7,8,9]"
   ]
  },
  {
   "cell_type": "code",
   "execution_count": 1,
   "metadata": {},
   "outputs": [
    {
     "name": "stdout",
     "output_type": "stream",
     "text": [
      "[1, 2, 3, 4, 5, 6, 12, 18, 24, 30, 36, 35, 34, 33, 32, 31, 25, 19, 13, 7, 8, 9, 10, 11, 17, 23, 29, 28, 27, 26, 20, 14, 15, 16, 22, 21]\n"
     ]
    }
   ],
   "source": [
    "def snail(list1):\n",
    "  if len(list1) < 1:\n",
    "    return list1\n",
    "  else:\n",
    "    outer = list1[0] + [item[-1] for item in list1[1:-1]] + list1[-1][::-1] + [item[0] for item in list1[-2:0:-1]]\n",
    "    inner = [item[1:-1] for item in list1[1:-1]]\n",
    "    return outer + snail(inner)\n",
    "list2= [[ 1,  2,  3,  4,  5,  6],\n",
    "         [ 7,  8,  9, 10, 11, 12],\n",
    "         [13, 14, 15, 16, 17, 18],\n",
    "         [19, 20, 21, 22, 23, 24],\n",
    "         [25, 26, 27, 28, 29, 30],\n",
    "         [31, 32, 33, 34, 35, 36]]\n",
    "print(snail(list2))"
   ]
  },
  {
   "cell_type": "markdown",
   "metadata": {},
   "source": [
    "Write a program to solve a classic ancient Chinese puzzle: \n",
    "We count 35 heads and 94 legs among the chickens and rabbits in a farm. How many rabbits and how many chickens do we have?"
   ]
  },
  {
   "cell_type": "code",
   "execution_count": 2,
   "metadata": {},
   "outputs": [
    {
     "data": {
      "text/plain": [
       "'Chickens: 23 || Rabbits: 12'"
      ]
     },
     "execution_count": 2,
     "metadata": {},
     "output_type": "execute_result"
    }
   ],
   "source": [
    "# Dustin çözüm\n",
    "def chinese_puzzle(heads, legs):    \n",
    "    for c in range(heads):\n",
    "        for r in range(heads):\n",
    "            if (2 * c) + (4 * r) == legs and c + r == heads:\n",
    "                chic = c\n",
    "                rab = r\n",
    "    return f'Chickens: {chic} || Rabbits: {rab}'\n",
    "\n",
    "chinese_puzzle(35, 94)"
   ]
  },
  {
   "cell_type": "markdown",
   "metadata": {},
   "source": [
    "Remove last character in list of strings: given_list = [\"Lessons\", \"Words\", \"Pythons\", \"Programers\",\"Clarusways\"] expected output : ['Lesson', 'Word', 'Python', 'Programer', 'Clarusway']"
   ]
  },
  {
   "cell_type": "code",
   "execution_count": 4,
   "metadata": {},
   "outputs": [
    {
     "name": "stdout",
     "output_type": "stream",
     "text": [
      "['Lesson', 'Word', 'Python', 'Programer', 'Clarusway']\n"
     ]
    }
   ],
   "source": [
    "given_list = [\"Lessons\", \"Words\", \"Pythons\", \"Programers\",\"Clarusways\"]\n",
    "new_list =[ item[:-1] for item in given_list ]\n",
    "print(new_list)"
   ]
  },
  {
   "cell_type": "markdown",
   "metadata": {},
   "source": [
    "Given a string of size n, write functions to perform following operations on string.\n",
    "Left (Or anticlockwise) rotate the given string by d elements (where d <= n).\n",
    "Right (Or clockwise) rotate the given string by d elements (where d <= n). For example given word: \"Hippopotamus\"  result =\n",
    "Left Rotation :  opotamusHipp\n",
    "Right Rotation :  amusHippopot"
   ]
  },
  {
   "cell_type": "code",
   "execution_count": 5,
   "metadata": {},
   "outputs": [
    {
     "name": "stdout",
     "output_type": "stream",
     "text": [
      "Left Rotation :  opotamusHipp\n",
      "Right Rotation :  amusHippopot\n"
     ]
    }
   ],
   "source": [
    "# adsum çözüm\n",
    "def rotate(string, d):\n",
    " \n",
    "  left_rotation = string[d:] + string[:d]\n",
    "  right_rotation = string[-d:] + string[:-d]\n",
    "\n",
    "  print(\"Left Rotation : \", left_rotation)\n",
    "  print(\"Right Rotation : \", right_rotation)\n",
    "\n",
    "rotate(\"Hippopotamus\", 4)"
   ]
  },
  {
   "cell_type": "markdown",
   "metadata": {},
   "source": [
    " Bir listedeki değerlerin toplamını sum() ile bulmak çok işlevsel bir yöntem peki elimizdeki liste nested bir liste ise neler yapabiliriz acaba : What is the sum of list "
   ]
  },
  {
   "cell_type": "code",
   "execution_count": 5,
   "metadata": {},
   "outputs": [
    {
     "name": "stdout",
     "output_type": "stream",
     "text": [
      "80\n"
     ]
    }
   ],
   "source": [
    "list1 = [[1,4,5], [4], [46,7,3],[7,3]]\n",
    "temp = []\n",
    "for item in list1:\n",
    "    temp.extend(item)\n",
    "print(sum(temp))"
   ]
  },
  {
   "cell_type": "markdown",
   "metadata": {},
   "source": [
    "Remove empty strings from the list of strings  : (Bu soruda çok kullanışlı ve artık biraz da olsa bildiğimiz filter () function kullanılması önerilir. Herkese iyi geceler."
   ]
  },
  {
   "cell_type": "code",
   "execution_count": 4,
   "metadata": {},
   "outputs": [
    {
     "data": {
      "text/plain": [
       "['Mike', 'Alice', 'Jerry', 'Tom']"
      ]
     },
     "execution_count": 4,
     "metadata": {},
     "output_type": "execute_result"
    }
   ],
   "source": [
    "list1 = [\"Mike\", \"\", \"Alice\", \"Jerry\", \"\", \"Tom\"]\n",
    "list1 = filter(lambda x: x !=\"\",list1)\n",
    "list(list1)"
   ]
  },
  {
   "cell_type": "code",
   "execution_count": null,
   "metadata": {},
   "outputs": [],
   "source": []
  },
  {
   "cell_type": "markdown",
   "metadata": {},
   "source": [
    "Given two arrays of strings a1 and a2 return a sorted array r in lexicographical order of the strings of a1 which are substrings of strings of a2.\n",
    "Example 1:\n",
    "a1 = [\"arp\", \"live\", \"strong\"]\n",
    "a2 = [\"lively\", \"alive\", \"harp\", \"sharp\", \"armstrong\"]\n",
    "returns [\"arp\", \"live\", \"strong\"]\n",
    "Example 2:\n",
    "a1 = [\"tarp\", \"mice\", \"bull\"]\n",
    "a2 = [\"lively\", \"alive\", \"harp\", \"sharp\", \"armstrong\"]\n",
    "returns []\n",
    "Notes:\n",
    "Arrays are written in \"general\" notation. See \"Your Test Cases\" for examples in your language.\n",
    "In Shell bash a1 and a2 are strings. The return is a string where words are separated by commas.\n",
    "Beware: r must be without duplicates."
   ]
  },
  {
   "cell_type": "code",
   "execution_count": 11,
   "metadata": {},
   "outputs": [
    {
     "data": {
      "text/plain": [
       "['arp', 'live', 'strong']"
      ]
     },
     "execution_count": 11,
     "metadata": {},
     "output_type": "execute_result"
    }
   ],
   "source": [
    "a1 = [\"arp\", \"live\", \"strong\"]\n",
    "a2 = [\"lively\", \"alive\", \"harp\", \"sharp\", \"armstrong\"]\n",
    "result=[]\n",
    "for item in a2:\n",
    "    for sub in a1:\n",
    "        if sub in item and sub not in result:\n",
    "            result.append(sub)\n",
    "\n",
    "sorted(result)\n"
   ]
  },
  {
   "cell_type": "markdown",
   "metadata": {},
   "source": [
    "Given an list of integers nums and an integer target, return indices of the two numbers such that they add up to target.      \n",
    " nums = [2, 7, 11, 15]                         \n",
    " target = 17      \n",
    " The indices 0 and 3 are returned here as the values in the input list 2 and 15 add up to the target value 17.  \n",
    "output:    (0, 3) ."
   ]
  },
  {
   "cell_type": "code",
   "execution_count": 8,
   "metadata": {},
   "outputs": [
    {
     "name": "stdout",
     "output_type": "stream",
     "text": [
      "(0, 3)\n"
     ]
    }
   ],
   "source": [
    "def target_sum(nums,target):\n",
    "    for i in range(len(nums)):\n",
    "        for j in range(len(nums)):\n",
    "            if nums[i] + nums[j] == target:\n",
    "                return i,j\n",
    "\n",
    "nums = [2, 7, 11, 15]\n",
    "print(target_sum(nums,17))\n"
   ]
  },
  {
   "cell_type": "markdown",
   "metadata": {},
   "source": [
    "Bir first_non_repeating_letterdize girdisi alan ve dizenin hiçbir yerinde tekrarlanmayan ilk karakteri döndüren bir işlev yazın .\n",
    "Örneğin, girdi verilirse, t harfi dizede yalnızca bir kez geçtiği ve dizede ilk sırada yer aldığı 'stress'için işlev dönmelidir .'t'\n",
    "Ek bir meydan okuma olarak, büyük ve küçük harfler aynı karakter olarak kabul edilir , ancak işlev ilk harf için doğru durumu döndürmelidir. Örneğin, girdi 'sTreSS'dönmelidir 'T'.\n",
    "Bir dize tüm yinelenen karakterleri içeriyorsa , boş bir dize ( \"\") döndürmelidir veya None"
   ]
  },
  {
   "cell_type": "code",
   "execution_count": 39,
   "metadata": {},
   "outputs": [
    {
     "name": "stdout",
     "output_type": "stream",
     "text": [
      "tre\n"
     ]
    },
    {
     "data": {
      "text/plain": [
       "'t'"
      ]
     },
     "execution_count": 39,
     "metadata": {},
     "output_type": "execute_result"
    }
   ],
   "source": [
    "def ilk_tekrarsiz(kelime):\n",
    "    harfler = list(set(kelime))\n",
    "    for item in harfler:\n",
    "        if kelime.count(item) > 1:\n",
    "            kelime = kelime.replace(item,\"\")\n",
    "            print(kelime)\n",
    "    \n",
    "    return kelime[0] if len(kelime) > 0 else \"\"\n",
    "\n",
    "ilk_tekrarsiz(\"stress\")"
   ]
  },
  {
   "cell_type": "markdown",
   "metadata": {},
   "source": [
    "Kullanıcıdan 2 basamaklı bir sayı alın ve bu sayının okunuşunu bulan bir fonksiyon yazın.\n",
    "Örnek: 99 ---------> Doğsan Doğuz"
   ]
  },
  {
   "cell_type": "code",
   "execution_count": 11,
   "metadata": {},
   "outputs": [
    {
     "data": {
      "text/plain": [
       "'elli altı'"
      ]
     },
     "execution_count": 11,
     "metadata": {},
     "output_type": "execute_result"
    }
   ],
   "source": [
    "def sayi_oku(sayi):\n",
    "    onlar={\"1\":\"on\",\"2\":\"yirmi\",\"3\":\"otuz\",\"4\":\"kırk\",\"5\":\"elli\",\"6\":\"altmış\",\"7\":\"yetmiş\",\"8\":\"seksen\",\"9\":\"doksan\"}\n",
    "    birler={\"1\":\"bir\",\"2\":\"iki\",\"3\":\"üç\",\"4\":\"dört\",\"5\":\"beş\",\"6\":\"altı\",\"7\":\"yedi\",\"8\":\"sekiz\",\"9\":\"dokuz\"}\n",
    "    sayi = str(sayi)\n",
    "    oku = \"\"\n",
    "    if onlar.get(sayi[0]):\n",
    "       oku += onlar.get(sayi[0]) \n",
    "    if birler.get(sayi[1]):\n",
    "       oku +=\" \" + birler.get(sayi[1]) \n",
    "    return oku\n",
    "\n",
    "sayi_oku(56)"
   ]
  },
  {
   "cell_type": "markdown",
   "metadata": {},
   "source": [
    "https://www.codewars.com/kata/550f22f4d758534c1100025a\n",
    "(cevabınızı submit ettikten sonra bu sitede başkalarının bu soruyla ilgili yazdığı kodları inceleyebilirsiniz)\n",
    "Once upon a time, on a way through the old wild mountainous west,…\n",
    "… a man was given directions to go from one point to another. The directions were \"NORTH\", \"SOUTH\", \"WEST\", \"EAST\". Clearly \"NORTH\" and \"SOUTH\" are opposite, \"WEST\" and \"EAST\" too.\n",
    "Going to one direction and coming back the opposite direction right away is a needless effort. Since this is the wild west, with dreadfull weather and not much water, it's important to save yourself some energy, otherwise you might die of thirst!\n",
    "How I crossed a mountainous desert the smart way.\n",
    "The directions given to the man are, for example, the following (depending on the language):\n",
    "[\"NORTH\", \"SOUTH\", \"SOUTH\", \"EAST\", \"WEST\", \"NORTH\", \"WEST\"].\n",
    "or\n",
    "{ \"NORTH\", \"SOUTH\", \"SOUTH\", \"EAST\", \"WEST\", \"NORTH\", \"WEST\" };\n",
    "or\n",
    "[North, South, South, East, West, North, West]\n",
    "You can immediatly see that going \"NORTH\" and immediately \"SOUTH\" is not reasonable, better stay to the same place! So the task is to give to the man a simplified version of the plan. A better plan in this case is simply:\n",
    "[\"WEST\"]\n",
    "or\n",
    "{ \"WEST\" }\n",
    "or\n",
    "[West]\n",
    "Other examples:\n",
    "In [\"NORTH\", \"SOUTH\", \"EAST\", \"WEST\"], the direction \"NORTH\" + \"SOUTH\" is going north and coming back right away.\n",
    "The path becomes [\"EAST\", \"WEST\"], now \"EAST\" and \"WEST\" annihilate each other, therefore, the final result is [] (nil in Clojure).\n",
    "In [\"NORTH\", \"EAST\", \"WEST\", \"SOUTH\", \"WEST\", \"WEST\"], \"NORTH\" and \"SOUTH\" are not directly opposite but they become directly opposite after the reduction of \"EAST\" and \"WEST\" so the whole path is reducible to [\"WEST\", \"WEST\"].\n",
    "Task\n",
    "Write a function dirReduc which will take an array of strings and returns an array of strings with the needless directions removed (W<->E or S<->N side by side).\n",
    "The Haskell version takes a list of directions with data Direction = North | East | West | South.\n",
    "The Clojure version returns nil when the path is reduced to nothing.\n",
    "The Rust version takes a slice of enum Direction {North, East, West, South}.\n",
    "See more examples in \"Sample Tests:\"\n",
    "Notes\n",
    "Not all paths can be made simpler. The path [\"NORTH\", \"WEST\", \"SOUTH\", \"EAST\"] is not reducible. \"NORTH\" and \"WEST\", \"WEST\" and \"SOUTH\", \"SOUTH\" and \"EAST\" are not directly opposite of each other and can't become such. Hence the result path is itself : [\"NORTH\", \"WEST\", \"SOUTH\", \"EAST\"]."
   ]
  },
  {
   "cell_type": "code",
   "execution_count": 1,
   "metadata": {},
   "outputs": [
    {
     "data": {
      "text/plain": [
       "['SOUTH', 'EAST', 'SOUTH']"
      ]
     },
     "execution_count": 1,
     "metadata": {},
     "output_type": "execute_result"
    }
   ],
   "source": [
    "#Dustin çözüm\n",
    "def nereye(liste):\n",
    "    s = ''\n",
    "    n = 0\n",
    "    p = []\n",
    "    leng = len(liste)\n",
    "    for i in liste:\n",
    "        s += ''.join(str(i).upper())\n",
    "    while n < leng:\n",
    "        if 'NORTHSOUTH' in s or 'SOUTHNORTH' in s or 'WESTEAST' in s or 'EASTWEST':\n",
    "            s = s.replace('NORTHSOUTH', '').replace('SOUTHNORTH', '').replace('WESTEAST', '').replace('EASTWEST', '')\n",
    "        n += 1\n",
    "    while True:\n",
    "        for i in [\"NORTH\", \"WEST\", \"SOUTH\", \"EAST\"]:\n",
    "            if i in s:\n",
    "                p.append(i)\n",
    "                s = s.replace(i, '', 1)\n",
    "        if s == '':\n",
    "            break\n",
    "    return p\n",
    "        \n",
    "        \n",
    "nereye([\"NORTH\", \"SOUTH\", \"SOUTH\", \"EAST\", \"NORTH\", \"WEST\", \"EAST\", \"SOUTH\", \"SOUTH\"])"
   ]
  },
  {
   "cell_type": "markdown",
   "metadata": {},
   "source": [
    "A palindrome is a number that is the same when reversed, 2770772 for example. A palindrome can often be formed by adding a number to it's reverse: 641 + 146 = 787 (a palindrome). Using 78 as the seed, it takes 4 steps to produce a palindrome:\n",
    "78 + 87 = 165\n",
    "165 + 561 = 726\n",
    "726 + 627 = 1353\n",
    "1353 + 3531 = 4884 (a palindrome)\n",
    "About 97% of integers less than 10,000 produce palindromes in less than 25 steps. A few, like 196 and 879, may never form palindromes.\n",
    "Make a function that takes a palindrome as it's an argument and returns the smallest seed integer that will produce that palindrome, along with the number of steps required:\n",
    "pal_seq(palindrome) = (seed, steps)\n",
    "pal_seq(4884) ➞ (69, 4)\n",
    "pal_seq(1) ➞ (1, 0)\n",
    "pal_seq(11) ➞ (10, 1) --> 10 + 01 = 11\n",
    "pal_seq(3113) ➞ (199, 3)\n",
    "pal_seq(8836886388) ➞ (177, 15)\n",
    "Notes\n",
    "The sequence always terminates when the first palindrome is produced. If the seed is a palindrome, the sequence has 0 steps."
   ]
  },
  {
   "cell_type": "code",
   "execution_count": null,
   "metadata": {},
   "outputs": [],
   "source": [
    "num = 4884\n",
    "seed = 1\n",
    "check = True\n",
    "while check:\n",
    "    count = seed    \n",
    "    step = 0\n",
    "    while count < num:\n",
    "        count = count + int(str(count)[::-1])\n",
    "        step += 1\n",
    "        if count == num:\n",
    "            check = False\n",
    "            break\n",
    "    if check : seed += 1\n",
    "    \n",
    "print(f\"seed : {seed} in {step} steps\")"
   ]
  },
  {
   "cell_type": "markdown",
   "metadata": {},
   "source": [
    "Eğer bir sayının kendisi hariç tam bölenleri toplamı sayıdan büyükse o sayıya zengin sayı diyoruz. Örneğin 12 nin bölenleri 1,2,3,4,6 nın toplamı 16>12 olduğu için zengin sayıdır. En küçük tek zengin sayı nedir?"
   ]
  },
  {
   "cell_type": "code",
   "execution_count": null,
   "metadata": {},
   "outputs": [],
   "source": [
    "zengin_liste=[]\n",
    "for i in range(2,1000):\n",
    "    sum = 0\n",
    "    for j in range(1,i):\n",
    "        if i%j == 0:\n",
    "            sum +=j\n",
    "    if sum > i and i%2:\n",
    "        zengin_liste.append([sum,i])\n",
    "print(\"En küçük zengin tek sayı :\", zengin_liste[0][1])"
   ]
  },
  {
   "cell_type": "markdown",
   "metadata": {},
   "source": [
    "1'den 500'e kadar olan sayılardan mükemmel sayı olanları ekrana yazdırın. Bunun için bir sayının mükemmel olup olmadığını dönen bir tane fonksiyon yazın.\n",
    "Bir sayının bölenlerinin toplamı kendine eşitse bu sayı mükemmel bir sayıdır. Örnek olarak 6 mükemmel bir sayıdır (1 + 2 + 3 = 6)."
   ]
  },
  {
   "cell_type": "code",
   "execution_count": null,
   "metadata": {},
   "outputs": [],
   "source": [
    "mukemmel=[]\n",
    "for i in range(2,500):\n",
    "    sum = 0\n",
    "    for j in range(1,i):\n",
    "        if i%j == 0:\n",
    "            sum +=j\n",
    "    if sum == i:\n",
    "        mukemmel.append(i)\n",
    "print(mukemmel)\n",
    "#[6, 28, 496]"
   ]
  },
  {
   "cell_type": "markdown",
   "metadata": {},
   "source": []
  },
  {
   "cell_type": "markdown",
   "metadata": {},
   "source": [
    "Pascal üçgeninin ilk n satırını yazdıran bir Python fonksiyonu yazın. \n",
    "Not : Pascal üçgeni, ilk olarak Blaise Pascal tarafından hayal edilen aritmetik ve geometrik bir şekildir.\n",
    "Örnek Pascal üçgeni:\n",
    "Her sayı üstte birbirine eklediği iki sayıdır\n",
    "Public link to this file\n",
    "https://slack-files.com/T022H615A9H-F029R0Q3ZT9-3fda8a3c6c\n",
    "\n",
    "<img src=\"images/image (1).png\">\n"
   ]
  },
  {
   "cell_type": "code",
   "execution_count": null,
   "metadata": {},
   "outputs": [],
   "source": [
    "#Dustin çözüm\n",
    "kac = int(input('Kac satir? > '))\n",
    "baslangic = [1]\n",
    "result = [[1, 1]]\n",
    "say, n, s, k, b = 0, 0, 0, 1, 1\n",
    "while say <= kac - 3:\n",
    "    n, k = 0, 1\n",
    "    yeni = []\n",
    "    for i in range(b):\n",
    "        asama = result[s][n] + result[s][k]\n",
    "        yeni.append(asama)\n",
    "        n += 1\n",
    "        k += 1\n",
    "    yeni.append(1)\n",
    "    yeni.insert(0, 1)\n",
    "    result.append(yeni)\n",
    "    say += 1\n",
    "    b += 1\n",
    "    s += 1\n",
    "result.insert(0, baslangic)\n",
    "print(result)"
   ]
  },
  {
   "cell_type": "markdown",
   "metadata": {},
   "source": [
    "A palindrome is a number that is the same when reversed, 2770772 for example. A palindrome can often be formed by adding a number to it's reverse: 641 + 146 = 787 (a palindrome). Using 78 as the seed, it takes 4 steps to produce a palindrome:\n",
    "78 + 87 = 165\n",
    "165 + 561 = 726\n",
    "726 + 627 = 1353\n",
    "1353 + 3531 = 4884 (a palindrome)\n",
    "About 97% of integers less than 10,000 produce palindromes in less than 25 steps. A few, like 196 and 879, may never form palindromes.\n",
    "Make a function that takes a palindrome as it's an argument and returns the smallest seed integer that will produce that palindrome, along with the number of steps required:\n",
    "pal_seq(palindrome) = (seed, steps)\n",
    "pal_seq(4884) ➞ (69, 4)\n",
    "pal_seq(1) ➞ (1, 0)\n",
    "pal_seq(11) ➞ (10, 1) --> 10 + 01 = 11\n",
    "pal_seq(3113) ➞ (199, 3)\n",
    "pal_seq(8836886388) ➞ (177, 15)\n",
    "Notes\n",
    "The sequence always terminates when the first palindrome is produced. If the seed is a palindrome, the sequence has 0 steps."
   ]
  },
  {
   "cell_type": "code",
   "execution_count": null,
   "metadata": {},
   "outputs": [],
   "source": [
    "num = 4884\n",
    "seed = 1\n",
    "check = True\n",
    "while check:\n",
    "    count = seed\n",
    "    step = 0\n",
    "    while count < num:\n",
    "        count = count + int(str(count)[::-1])\n",
    "        step += 1\n",
    "        if count == num:\n",
    "            check = False\n",
    "            break\n",
    "    seed += 1\n",
    "\n",
    "print(f\"seed : {seed} in {step} steps\")"
   ]
  },
  {
   "cell_type": "markdown",
   "metadata": {},
   "source": [
    "Verilen bir boş olmayan demetler listesinden her bir demetteki son elemana göre artan düzende sıralanmış bir liste elde etmek için bir Python programı yazın.\n",
    "Örnek Liste : [(2, 5), (1, 2), (4, 4), (2, 3), (2, 1)]\n",
    "Beklenen Sonuç : [(2, 1), (1 , 2), (2, 3), (4, 4), (2, 5)]"
   ]
  },
  {
   "cell_type": "code",
   "execution_count": null,
   "metadata": {},
   "outputs": [],
   "source": [
    "#adsum çözüm\n",
    "liste = [(2, 5), (1, 2), (4, 4), (2, 3), (2, 1)]\n",
    "liste.sort(key=lambda x : x[1])\n",
    "print(liste)\n",
    "\n",
    "#Dustin çözüm\n",
    "liste = [(2, 5), (1, 2), (4, 4), (2, 3), (2, 1)]\n",
    "new = []\n",
    "newest = []\n",
    "for k, v in liste:\n",
    "    new.append((v, k))\n",
    "new.sort()\n",
    "for k, v in new:\n",
    "    newest.append((v, k))\n",
    "print(newest)"
   ]
  },
  {
   "cell_type": "markdown",
   "metadata": {},
   "source": [
    "0., 4. ve 5. elemanları çıkardıktan sonra belirtilen listeyi yazdıracak bir Python programı yazın. \n",
    "Örnek Liste : ['Kırmızı', 'Yeşil', 'Beyaz', 'Siyah', 'Pembe', 'Sarı']\n",
    "Beklenen Çıktı : ['Yeşil', 'Beyaz', 'Siyah']"
   ]
  },
  {
   "cell_type": "code",
   "execution_count": 6,
   "metadata": {},
   "outputs": [
    {
     "name": "stdout",
     "output_type": "stream",
     "text": [
      "['Yeşil', 'Beyaz', 'Sarı']\n"
     ]
    }
   ],
   "source": [
    "liste = ['Kırmızı', 'Yeşil', 'Beyaz', 'Siyah', 'Pembe', 'Sarı']\n",
    "\n",
    "del liste[4], liste[3], liste[0]\n",
    "print(liste)"
   ]
  },
  {
   "cell_type": "markdown",
   "metadata": {},
   "source": [
    "Sayısal kök , bir sayıdaki tüm rakamların özyinelemeli toplamıdır.\n",
    "Verilen n, rakamlarının toplamını alın n. Bu değerin birden fazla hanesi varsa, tek haneli bir sayı üretilene kadar bu şekilde düşürmeye devam edin. Girdi, negatif olmayan bir tam sayı olacaktır.\n",
    "Örnekler\n",
    "    16  -->  1 + 6 = 7\n",
    "   942  -->  9 + 4 + 2 = 15  -->  1 + 5 = 6\n",
    "132189  -->  1 + 3 + 2 + 1 + 8 + 9 = 24  -->  2 + 4 = 6\n",
    "493193  -->  4 + 9 + 3 + 1 + 9 + 3 = 29  -->  2 + 9 = 11  -->  1 + 1 = 2"
   ]
  },
  {
   "cell_type": "code",
   "execution_count": 2,
   "metadata": {},
   "outputs": [
    {
     "data": {
      "text/plain": [
       "2"
      ]
     },
     "execution_count": 2,
     "metadata": {},
     "output_type": "execute_result"
    }
   ],
   "source": [
    "#Dustin çözümü\n",
    "def sayisal_kok(x):\n",
    "    x = str(x)\n",
    "    uzunluk = len(x)\n",
    "    while uzunluk > 1:\n",
    "        toplam = 0\n",
    "        for i in str(x):\n",
    "            toplam += int(i)\n",
    "            x = toplam\n",
    "        uzunluk = len(str(toplam))\n",
    "    return toplam\n",
    "\n",
    "sayisal_kok(493193)"
   ]
  },
  {
   "cell_type": "markdown",
   "metadata": {},
   "source": [
    "Write a Python program to rearrange positive and negative numbers in a given array using Lambda. \n",
    "Sample Output:\n",
    "Original arrays:\n",
    "[-1, 2, -3, 5, 7, 8, 9, -10]\n",
    "Rearrange positive and negative numbers of the said array:\n",
    "[2, 5, 7, 8, 9, -10, -3, -1] (edited) "
   ]
  },
  {
   "cell_type": "code",
   "execution_count": null,
   "metadata": {},
   "outputs": [],
   "source": [
    "#Dustin çözümü\n",
    "liste = [-1, 2, -3, 5, 7, 8, 9, -10]\n",
    "list1 = list(filter(lambda x : x > 0, liste))\n",
    "list2 = list(sorted(list(filter(lambda x : x < 0, liste))))\n",
    "list1.extend(list2)\n",
    "print(list1)"
   ]
  },
  {
   "cell_type": "markdown",
   "metadata": {},
   "source": [
    "Problem :\n",
    "Given a collection of distinct integers, return all possible permutations.\n",
    "Example:\n",
    "Input:\n",
    "[1,2,3]\n",
    "Output:\n",
    "[\n",
    "  [1,2,3],\n",
    "  [1,3,2],\n",
    "  [2,1,3],\n",
    "  [2,3,1],\n",
    "  [3,1,2],\n",
    "  [3,2,1]\n",
    "]"
   ]
  },
  {
   "cell_type": "code",
   "execution_count": null,
   "metadata": {},
   "outputs": [],
   "source": [
    "#Dustin'inin çözümü\n",
    "import random\n",
    "a = [1, 2, 3, 4]\n",
    "uzunluk = len(a)\n",
    "fact = 1\n",
    "liste = []\n",
    "son = []\n",
    "for i in range(1, uzunluk + 1):\n",
    "    fact *= i\n",
    "while True:\n",
    "    x = random.choice(a)\n",
    "    if x not in liste:\n",
    "        liste.append(x)\n",
    "    if len(liste) == uzunluk:\n",
    "        if liste not in son:\n",
    "            son.append(liste)\n",
    "            liste = []\n",
    "            if len(son) == fact:\n",
    "                break\n",
    "        else:\n",
    "            liste = []\n",
    "son.sort()\n",
    "for i in son:\n",
    "    print(i)"
   ]
  },
  {
   "cell_type": "code",
   "execution_count": 28,
   "metadata": {},
   "outputs": [
    {
     "data": {
      "text/plain": [
       "[[3, 4, 2, 1],\n",
       " [4, 2, 1, 3],\n",
       " [2, 1, 4, 3],\n",
       " [4, 1, 2, 3],\n",
       " [2, 1, 3, 4],\n",
       " [1, 4, 2, 3],\n",
       " [1, 3, 4, 2],\n",
       " [2, 4, 1, 3],\n",
       " [3, 2, 4, 1],\n",
       " [1, 2, 4, 3],\n",
       " [3, 2, 1, 4],\n",
       " [1, 4, 3, 2],\n",
       " [3, 1, 4, 2],\n",
       " [4, 2, 3, 1],\n",
       " [2, 3, 1, 4],\n",
       " [4, 3, 2, 1],\n",
       " [1, 3, 2, 4],\n",
       " [3, 1, 2, 4],\n",
       " [4, 3, 1, 2],\n",
       " [2, 3, 4, 1],\n",
       " [4, 1, 3, 2],\n",
       " [1, 2, 3, 4],\n",
       " [3, 4, 1, 2],\n",
       " [2, 4, 3, 1]]"
      ]
     },
     "execution_count": 28,
     "metadata": {},
     "output_type": "execute_result"
    }
   ],
   "source": [
    "from random import shuffle\n",
    "a = [1, 2, 3, 4]\n",
    "perm_a=1\n",
    "for i in range(1,len(a)+1):\n",
    "    perm_a *=i\n",
    "result=[]\n",
    "temp = a.copy()\n",
    "while len(result)<perm_a:\n",
    "    shuffle(a)  \n",
    "    if a not in result:\n",
    "        result.append(a)\n",
    "        a=temp.copy()\n",
    "result\n"
   ]
  },
  {
   "cell_type": "code",
   "execution_count": 23,
   "metadata": {},
   "outputs": [
    {
     "name": "stdout",
     "output_type": "stream",
     "text": [
      "[1, 3, 2]\n",
      "[2, 3, 1]\n",
      "no\n",
      "[2, 3, 1]\n",
      "no\n",
      "[2, 3, 1]\n",
      "no\n",
      "[1, 2, 3]\n",
      "no\n",
      "[2, 3, 1]\n",
      "no\n",
      "[1, 2, 3]\n",
      "no\n",
      "[3, 2, 1]\n",
      "no\n",
      "[1, 3, 2]\n",
      "no\n",
      "[3, 2, 1]\n",
      "no\n",
      "[2, 3, 1]\n",
      "no\n",
      "[2, 1, 3]\n",
      "no\n",
      "[1, 3, 2]\n",
      "no\n",
      "[2, 3, 1]\n",
      "no\n",
      "[1, 2, 3]\n",
      "no\n",
      "[1, 3, 2]\n",
      "no\n",
      "[3, 2, 1]\n",
      "no\n",
      "[2, 1, 3]\n",
      "no\n",
      "[2, 3, 1]\n",
      "no\n",
      "[2, 3, 1]\n",
      "no\n"
     ]
    },
    {
     "data": {
      "text/plain": [
       "[[2, 3, 1]]"
      ]
     },
     "execution_count": 23,
     "metadata": {},
     "output_type": "execute_result"
    }
   ],
   "source": [
    "a = [1, 2, 3]\n",
    "b=[]\n",
    "for i in range(20):\n",
    "    random.shuffle(a)\n",
    "    print(a)\n",
    "    if a not in b:\n",
    "        b.append(a)\n",
    "    else:\n",
    "        print(\"no\")\n",
    "b"
   ]
  },
  {
   "cell_type": "code",
   "execution_count": 12,
   "metadata": {},
   "outputs": [
    {
     "data": {
      "text/plain": [
       "[[1, 3, 2], [1, 2, 3], [2, 1, 3], [3, 1, 2], [2, 3, 1], [3, 2, 1]]"
      ]
     },
     "execution_count": 12,
     "metadata": {},
     "output_type": "execute_result"
    }
   ],
   "source": [
    "import random\n",
    "a = [1,2,3]\n",
    "b = []\n",
    "while len(b) < 6:\n",
    "  random.shuffle(a)\n",
    "  if a not in b:\n",
    "    b.append(a)\n",
    "    a = [1,2,3]\n",
    "b"
   ]
  },
  {
   "cell_type": "markdown",
   "metadata": {},
   "source": [
    "Given an N by N matrix, rotate it by 90 degrees clockwise. For example, given the following matrix:\n",
    "[[1, 2, 3],\n",
    "[4, 5, 6],\n",
    "[7, 8, 9]]\n",
    "You should return:\n",
    "[[7, 4, 1],\n",
    "[8, 5, 2],\n",
    "[9, 6, 3]]\n",
    "\n",
    "https://slack-files.com/T022H615A9H-F029R0Q3ZT9-9a4f597a5b"
   ]
  },
  {
   "cell_type": "code",
   "execution_count": null,
   "metadata": {},
   "outputs": [],
   "source": [
    "# Function to rotate the matrix\n",
    "# 90 degree clockwise\n",
    "def rotate90Clockwise(A):\n",
    "    N = len(A[0])\n",
    "    for i in range(N // 2):\n",
    "        for j in range(i, N - i - 1):\n",
    "            temp = A[i][j]\n",
    "            A[i][j] = A[N - 1 - j][i]\n",
    "            A[N - 1 - j][i] = A[N - 1 - i][N - 1 - j]\n",
    "            A[N - 1 - i][N - 1 - j] = A[j][N - 1 - i]\n",
    "            A[j][N - 1 - i] = temp\n",
    " \n",
    "# Function to print the matrix\n",
    "def printMatrix(A):\n",
    "    N = len(A[0])\n",
    "    for i in range(N):\n",
    "        print(A[i])\n",
    " \n",
    "# Driver code\n",
    "A = [[1, 2, 3, 4],\n",
    "     [5, 6, 7, 8],\n",
    "     [9, 10, 11, 12],\n",
    "     [13, 14, 15, 16]]\n",
    "rotate90Clockwise(A)\n",
    "printMatrix(A)\n",
    " \n",
    "# This code was contributed\n",
    "# by pk_tautolo\n"
   ]
  },
  {
   "cell_type": "markdown",
   "metadata": {},
   "source": [
    "Given a string containing just the characters '(', ')', '{', '}', '[' and ']',\n",
    "determine if the input string is valid.\n",
    "An input string is valid if:\n",
    "Open brackets must be closed by the same type of brackets.\n",
    "Open brackets must be closed in the correct order.\n",
    "Note that an empty string is also considered valid.\n",
    "Example 1:\n",
    "Input: \"()\"\n",
    "Output: True\n",
    "Example 2:\n",
    "Input: \"()[]{}\"\n",
    "Output: True\n",
    "Example 3:\n",
    "Input: \"(]\"\n",
    "Output: False\n",
    "Example 4:\n",
    "Input: \"([)]\"\n",
    "Output: False\n",
    "Example 5:\n",
    "Input: \"{[]}\"\n",
    "Output: True "
   ]
  },
  {
   "cell_type": "code",
   "execution_count": null,
   "metadata": {},
   "outputs": [],
   "source": [
    "def find_valid(string_tocheck=\"{[]}()\"):\n",
    "    item_list = list(string_tocheck)\n",
    "    ends={\"{\":\"}\", \"(\":\")\", \"[\":\"]\"}\n",
    "    closed_list = []\n",
    "    for item in item_list:\n",
    "        if len(closed_list)==0 and ends.get(item):\n",
    "            closed_list.append(ends[item])\n",
    "            continue\n",
    "        \n",
    "        if len(closed_list)>0 and item == closed_list[-1] :\n",
    "            closed_list.pop()\n",
    "        elif ends.get(item):\n",
    "            closed_list.append(ends[item])\n",
    "        else:\n",
    "            return False\n",
    "    \n",
    "    if len(closed_list)>0:\n",
    "        return False\n",
    "    else:\n",
    "        return True\n",
    "\n",
    "print(find_valid(\"(){}[[()]]\"))\n"
   ]
  },
  {
   "cell_type": "markdown",
   "metadata": {},
   "source": [
    "Joseph hocanın çözümü:"
   ]
  },
  {
   "cell_type": "code",
   "execution_count": null,
   "metadata": {},
   "outputs": [],
   "source": [
    "def isValid(text_check):\n",
    "    while \"()\" in text_check or \"[]\" in text_check or \"{}\" in text_check:\n",
    "        text_check = text_check.replace(\"()\", \"\").replace(\"[]\", \"\").replace(\"{}\", \"\")\n",
    "    return text_check == \"\"\n",
    "\n",
    "x = \"([{({})}]({}))\"\n",
    "isValid(x)"
   ]
  },
  {
   "cell_type": "markdown",
   "metadata": {},
   "source": [
    "Collatz dizisi uzunluğunu bulunuz.Collatz dizisinde bir sonraki sayıyı bulma kuralı şöyledir:\n",
    "ni çift sayıysa: ni+1=ni/2\n",
    "ni tek sayıysa: ni+1=3ni+1\n",
    "ni=1ise dur.\n",
    "Söz gelişi, 13 ile başlayan bir dizi aşağıdaki gibi olur.\n",
    "13, 40, 20, 10, 5, 16, 8, 4, 2, 1"
   ]
  },
  {
   "cell_type": "code",
   "execution_count": 1,
   "metadata": {},
   "outputs": [
    {
     "name": "stdout",
     "output_type": "stream",
     "text": [
      "33 100 50 25 76 38 19 58 29 88 44 22 11 34 17 52 26 13 40 20 10 5 16 8 4 2 1\n"
     ]
    }
   ],
   "source": [
    "num = int( input(\"please enter the number:\") )\n",
    "collatz_list = [num]\n",
    "\n",
    "while num != 1:\n",
    "    if num % 2:\n",
    "        num = 3*num + 1\n",
    "    else:\n",
    "        num = num // 2\n",
    "    collatz_list.append(num)\n",
    "\n",
    "print(*collatz_list)\n"
   ]
  },
  {
   "cell_type": "markdown",
   "metadata": {},
   "source": [
    "Imagine you took all the numbers between 0 and n and concatenated them together into a long string. How many digits are there between 0 and n? Write a function that can calculate this.\n",
    "There are 0 digits between 0 and 1, there are 9 digits between 0 and 10 and there are 189 digits between 0 and 100.\n",
    "Examples digits(1) ➞ 0\n",
    "digits(10) ➞ 9\n",
    "digits(100) ➞ 189\n",
    "digits(2020) ➞ 6969\n",
    "Notes The numbers are going to be rather big so creating that string won't be practical.\n",
    "(Eğer fonksiyonlar bitmediyse kullanıcadan input alarak da çözebilirsiniz)"
   ]
  },
  {
   "cell_type": "code",
   "execution_count": null,
   "metadata": {},
   "outputs": [],
   "source": [
    "def digits(n):\n",
    "    lentgth_digits = 0\n",
    "    if n<=1:\n",
    "        lentgth_digits = 1\n",
    "    else:\n",
    "        for i in range(n):\n",
    "            lentgth_digits += len(str(i))        \n",
    "        \n",
    "    return lentgth_digits -1\n",
    "\n",
    "print(digits(100))\n"
   ]
  },
  {
   "cell_type": "markdown",
   "metadata": {},
   "source": [
    "Python Functions ufak bi giriş yapalım\n",
    "Note: Built-in Functions kullanmayalım\n",
    "Write a Python function to find the Max of three numbers."
   ]
  },
  {
   "cell_type": "code",
   "execution_count": null,
   "metadata": {},
   "outputs": [],
   "source": [
    "num_list = [2, 25, -96]\n",
    "\n",
    "max_num = num_list[0]\n",
    "for i in num_list:\n",
    "    if i > max_num:\n",
    "        max_num = i\n",
    "print(max_num)"
   ]
  },
  {
   "cell_type": "markdown",
   "metadata": {},
   "source": [
    "Write a Python program which iterates the integers from 1 to 50. For multiples of three print \"Fizz\" instead of the number and for the multiples of five print \"Buzz\". For numbers which are multiples of both three and five print \"FizzBuzz\".\n",
    "Sample Output :\n",
    "fizzbuzz\n",
    "1\n",
    "2\n",
    "fizz\n",
    "4\n",
    "buzz (edited) "
   ]
  },
  {
   "cell_type": "code",
   "execution_count": null,
   "metadata": {},
   "outputs": [],
   "source": [
    "n = 50\n",
    "for i in range(1,n+1):\n",
    "    if not i % 15:\n",
    "       print(\"FizzBuzz\")\n",
    "    elif not i % 5:\n",
    "        print(\"Buzz\")\n",
    "    elif not i % 3:\n",
    "        print(\"Fizz\")\n",
    "    else:\n",
    "        print(i)\n"
   ]
  },
  {
   "cell_type": "markdown",
   "metadata": {},
   "source": [
    "Given a signed 32-bit integer x, return x with its digits reversed. If reversing x causes the value to go outside the signed 32-bit integer range [-2^31, 2^31 - 1], then return 0.\n",
    "Assume the environment does not allow you to store 64-bit integers (signed or unsigned).\n",
    "Example 1:\n",
    "Input: x = 123\n",
    "Output: 321\n",
    " \n",
    "Example 2:\n",
    "Input: x = -123\n",
    "Output: -321\n",
    " \n",
    "Example 3:\n",
    "Input: x = 120\n",
    "Output: 21\n",
    " \n",
    "Example 4:\n",
    "Input: x = 0\n",
    "Output: 0\n",
    "Constraints:\n",
    "-2^31 <= x <= 2^31 - 1"
   ]
  },
  {
   "cell_type": "code",
   "execution_count": null,
   "metadata": {},
   "outputs": [],
   "source": [
    "num = int(input(\"please enter the number\"))\n",
    "\n",
    "sign_num = (num <= 0)*-2 + 1\n",
    "\n",
    "num_rev = int(str(abs(num))[::-1]) * sign_num\n",
    "\n",
    "if (num_rev < -2**31) or (num_rev > (2**31 + 1)):\n",
    "    num_rev = 0\n",
    "\n",
    "print(\"Original number :\", num)\n",
    "print(\"Reversed number :\", num_rev)"
   ]
  },
  {
   "cell_type": "markdown",
   "metadata": {},
   "source": [
    "Write a Python program to construct the triangle pattern, using a nested for loop.\n"
   ]
  },
  {
   "cell_type": "code",
   "execution_count": null,
   "metadata": {},
   "outputs": [],
   "source": [
    "n = 5\n",
    "triangle_list = list(range(1, n+1))\n",
    "triangle_list.extend(range(n-1, 0, -1))\n",
    "\n",
    "for i in triangle_list:\n",
    "    print(\"*\"*i)"
   ]
  },
  {
   "cell_type": "markdown",
   "metadata": {},
   "source": [
    "Arkadaşlar Selam;\n",
    "Döngüler ve liste metotlarını kullanarak çözebileceğiniz bir soru geliyor. Her arkadaşın biraz gayretle çözebileceği nitelikte bir soru. Şimdiden hepinize kolay gelsin.\n",
    "num = [48, 10, 11, 21, 36, 5, 6, 52, 28, 29,\n",
    "       53, 54, 45, 19, 20, 47, 55, 39, 41, 7,\n",
    "       9, 17, 26, 27, 42, 22, 37, 51, 46, 18,\n",
    "       44, 30, 34, 13, 15, 35, 33, 16, 50, 24]\n",
    "Elemanları ardışık sayılardan oluşan karışık halde bir liste veriliyor. Listenin en küçük elemanı ile en büyük elemanı arasında yer alan, ancak listede gösterilmeyen eksik sayılardan çift olanları çıktı veren python kodu yazınız.\n",
    "Beklenen Çıktı:\n",
    "8\n",
    "12\n",
    "14\n",
    "32\n",
    "38\n",
    "40"
   ]
  },
  {
   "cell_type": "code",
   "execution_count": null,
   "metadata": {},
   "outputs": [],
   "source": [
    "num = [48, 10, 11, 21, 36, 5, 6, 52, 28, 29, 53, 54, 45, 19, 20, 47, 55, 39, 41, 7, 9, 17, 26, 27, 42, 22, 37, 51, 46, 18, 44, 30, 34, 13, 15, 35, 33, 16, 50, 24]\n",
    "max_num = max(num)\n",
    "min_num = min(num)\n",
    "\n",
    "for i in range(min_num,max_num + 1):\n",
    "    if (not i%2) and (not (i in num)):\n",
    "        print(i)\n",
    "\n",
    "\n"
   ]
  },
  {
   "cell_type": "markdown",
   "metadata": {},
   "source": [
    "Interview'larda Google, Facebook, Microsoft firmalarınca kullanılan bir soru. Biriken su birim miktarını bulmaca.\n",
    "--\n",
    "orjinal metin :\n",
    "Given an array of non-negative integers representing an elevation map as shown below where the width of each bar is 1, compute how much water will be trapped on terrain after raining. To clarify further, the black boxes represents terrain and its height, and the blue boxes represents the water that could be trapped on the terrain.\n",
    "Lütfen bir iki sonra thread olarak çözümleri paylaşalım. Mevcut müfredat dahilinde çözelim...\n",
    "\n",
    "https://itfundamentals009.slack.com/files/U023HR1QH35/F029C4E28BW/image.png\n",
    "\n",
    "<img src=\"images/image (2).png\" height=300>\n"
   ]
  },
  {
   "cell_type": "code",
   "execution_count": null,
   "metadata": {},
   "outputs": [],
   "source": [
    "terrain = [0,1,0,2,1,0,1,3,2,1,2,1]\n",
    "\n",
    "total_water = 0\n",
    "for width in range(2,len(terrain) -1):\n",
    "    for i in range(len(terrain) - width):\n",
    "        chunk = terrain[i:i+width+1]\n",
    "        if all(element < chunk[0] for element in chunk[1:-1]) and all(element < chunk[-1] for element in chunk[1:-1]):\n",
    "            height = min(chunk[0],chunk[-1]) - max(chunk[1:-1])\n",
    "            total_water += (width-1)*height\n",
    "\n",
    "print(total_water)"
   ]
  },
  {
   "cell_type": "markdown",
   "metadata": {},
   "source": [
    "Bir markete gittiniz. Markette her ürünün bir kod numarası var.\n",
    "1 : Domates 2 : Soğan 3 : Biber 4 : Yumurta 5 : Elma 6 : Armut ... vs. şeklinde.\n",
    "Kullanıcıya almak istediği ürünü sorunuz ve kod numarası ile seçim yaptırınız. Çıkış için \"q\" opsiyonunu sununuz. Kullanıcının her ürün seçimi sonrası \" .... domates sepete eklendi\" gibi bir dönüt veriniz. Kullanıcı ürün almaya devam ettikçe ürünleri bir listede toplayınız, almaktan vazgeçtiği durumda teşekkür edip, aldığı toplam ürünleri çıktı veren bir kod yazınız.\n",
    "Beklenen Çıktı:\n",
    "Teşekkür Ederiz...\n",
    "Sepetinizde Bulunan Ürünler: elma, armut, yumurta ... vs.\n",
    "Kolay Gelsin Arkadaşlar... (edited) "
   ]
  },
  {
   "cell_type": "code",
   "execution_count": null,
   "metadata": {},
   "outputs": [],
   "source": [
    "print(\"Lütfen almak istediğiniz ürününün kodunu giriniz. Çıkmak için q giriniz.\")\n",
    "print(\"1 : Domates 2 : Soğan 3 : Biber 4 : Yumurta 5 : Elma 6 : Armut\")\n",
    "urunler = {1 : \"Domates\", 2 : \"Soğan\", 3 : \"Biber\", 4 : \"Yumurta\", 5 : \"Elma\", 6 : \"Armut\"}\n",
    "\n",
    "siparis = input().lower()\n",
    "sepet = []\n",
    "while siparis != \"q\":\n",
    "    siparis = int(siparis)\n",
    "    if siparis > 6 or siparis < 1 :\n",
    "        print(\"Yanlış giriş, tekrar giriniz.\")\n",
    "        continue\n",
    "    sepet.append(urunler[siparis])\n",
    "    print(f\"{urunler[siparis]} sepetinize eklendi.\")\n",
    "    siparis = input().lower()\n",
    "\n",
    "print(\"Teşekür ederiz.\")\n",
    "print(\"Sepetinizde bulunan ürünler:\", *set(sepet))\n",
    "\n",
    "\n",
    "    "
   ]
  },
  {
   "cell_type": "markdown",
   "metadata": {},
   "source": [
    "ask : Create a program that will play the “cows and bulls” game with the user. The game works like this:\n",
    "Randomly generate a 4-digit number. Ask the user to guess a 4-digit number. For every digit that the user guessed correctly in the correct place, they have a “cow”. For every digit the user guessed correctly in the wrong place is a “bull.” Every time the user makes a guess, tell them how many “cows” and “bulls” they have. Once the user guesses the correct number, the game is over. Keep track of the number of guesses the user makes throughout teh game and tell the user at the end.\n",
    "Say the number generated by the computer is 1038. An example interaction could look like this:\n",
    "  Welcome to the Cows and Bulls Game! \n",
    "  Enter a number: \n",
    "  >>> 1234\n",
    "  2 cows, 0 bulls\n",
    "  >>> 1256\n",
    "  1 cow, 1 bull\n",
    "  ..."
   ]
  },
  {
   "cell_type": "code",
   "execution_count": null,
   "metadata": {},
   "outputs": [],
   "source": [
    "number = list(\"1038\")\n",
    "cow, bull = 0, 0\n",
    "while cow < len(number) :\n",
    "    guess = list(input(\"Enter a 4 digit guess:\"))\n",
    "    cow, bull = 0, 0\n",
    "    for i, ind in zip(number,range(len(number))):\n",
    "        if i in guess:\n",
    "            if ind==guess.index(i):\n",
    "                cow += 1\n",
    "            else:\n",
    "                bull += 1\n",
    "    print(\"\".join(guess), \" has \", cow, \"cow\", bull, \"bull\")"
   ]
  },
  {
   "cell_type": "markdown",
   "metadata": {},
   "source": [
    "Merhabalar arkadaşlar, maşallah diyeyim baya bi soru paylaşılıyor:smiley: Paylaşan, çözen herkesin emeğine sağlık:clap:Tüm arkadaşlara çözümlere katılmalarını tavsiye ederim:wink: Buyrunuz, kolay gelsin:woman-raising-hand:\n",
    "Given a string of words, you need to find the highest scoring word.\n",
    "Each letter of a word scores points according to its position in the alphabet: a = 1, b = 2, c = 3 etc.\n",
    "You need to return the highest scoring word as a string.\n",
    "If two words score the same, return the word that appears earliest in the original string.\n",
    "All letters will be lowercase and all inputs will be valid.\n",
    "Examples:\n",
    "'man i need a taxi up to ubud' ---> 'taxi'\n",
    "'what time are we climbing up the volcano' ----> 'volcano'\n",
    "'take me to semynak' ---> 'semynak'\n",
    "'aa b'  --->  'aa'\n",
    "'b aa'  --->  'b'\n",
    "'bb d'  --- > 'bb'\n",
    "'d bb'  ---> 'd'\n",
    "\"aaa b\"  -->  \"aaa\""
   ]
  },
  {
   "cell_type": "code",
   "execution_count": null,
   "metadata": {},
   "outputs": [],
   "source": [
    "#Dustin çözüm\n",
    "alphabet = [chr(i) for i in range(97, 123)]\n",
    "dictt_1 = {}\n",
    "dictt_2 = {}\n",
    "for i in range(len(alphabet)):\n",
    "    dictt_1[alphabet[i]] = i + 1\n",
    "text = input('Please enter your text here > ')\n",
    "text_list = text.lower().split()\n",
    "for i in text_list:\n",
    "    total = 0\n",
    "    for x in i:\n",
    "        total += dictt_1[x]\n",
    "    dictt_2[i] = total\n",
    "listt = list(dictt_2.values())\n",
    "biggest = max(listt)\n",
    "for x, y in dictt_2.items():\n",
    "    if y == biggest:\n",
    "        print(x)\n",
    "        break"
   ]
  },
  {
   "cell_type": "markdown",
   "metadata": {},
   "source": [
    "Numbers = [18,21,14,84,65,35,10,20,28,42,24,91,5,7,54,69]\n",
    "Numbers listesi içindeki sayılardan 7’ e bölünebilenleri küçükten büyüğe doğru olacak şeklide listeleyin. Ayrıca kaç tanesinin 7’ e bölünebildiğini yazdırın."
   ]
  },
  {
   "cell_type": "code",
   "execution_count": 10,
   "metadata": {},
   "outputs": [
    {
     "name": "stdout",
     "output_type": "stream",
     "text": [
      "[7, 14, 21, 28, 35, 42, 84, 91]\n",
      "8 adet syı 7'ye bölünüyor.\n"
     ]
    }
   ],
   "source": [
    "numbers = [18,21,14,84,65,35,10,20,28,42,24,91,5,7,54,69]\n",
    "seven_list=[]\n",
    "for i in numbers:\n",
    "    if i%7==0:\n",
    "        seven_list.append(i)\n",
    "seven_list.sort()\n",
    "print(seven_list)\n",
    "print(len(seven_list), \"adet sayı 7'ye bölünüyor.\")\n"
   ]
  },
  {
   "cell_type": "markdown",
   "metadata": {},
   "source": [
    "Write a Python code that find the students who have maximum and minimum average at below.\n",
    "grades={'Student-1': {'Lesson-1': 57, 'Lesson-2': 46, 'Lesson-3': 58, 'Lesson-4': 81, 'Lesson-5': 85}, 'Student-2': {'Lesson-1': 85, 'Lesson-2': 56, 'Lesson-3': 51, 'Lesson-4': 69, 'Lesson-5': 67}, 'Student-3': {'Lesson-1': 68, 'Lesson-2': 76, 'Lesson-3': 87, 'Lesson-4': 57, 'Lesson-5': 56}, 'Student-4': {'Lesson-1': 78, 'Lesson-2': 93, 'Lesson-3': 88, 'Lesson-4': 38, 'Lesson-5': 54}, 'Student-5': {'Lesson-1': 50, 'Lesson-2': 46, 'Lesson-3': 78, 'Lesson-4': 81, 'Lesson-5': 75}}"
   ]
  },
  {
   "cell_type": "code",
   "execution_count": null,
   "metadata": {},
   "outputs": [],
   "source": [
    "#Dustin çözüm\n",
    "grades={\n",
    "    'Student-1': {'Lesson-1': 57, 'Lesson-2': 46, 'Lesson-3': 58, 'Lesson-4': 81, 'Lesson-5': 85}, \n",
    "    'Student-2': {'Lesson-1': 85, 'Lesson-2': 56, 'Lesson-3': 51, 'Lesson-4': 69, 'Lesson-5': 67}, \n",
    "    'Student-3': {'Lesson-1': 68, 'Lesson-2': 76, 'Lesson-3': 87, 'Lesson-4': 57, 'Lesson-5': 56}, \n",
    "    'Student-4': {'Lesson-1': 78, 'Lesson-2': 93, 'Lesson-3': 88, 'Lesson-4': 38, 'Lesson-5': 54}, \n",
    "    'Student-5': {'Lesson-1': 50, 'Lesson-2': 46, 'Lesson-3': 78, 'Lesson-4': 81, 'Lesson-5': 75}}\n",
    "student_dict = {}\n",
    "student_list = []\n",
    "students = list(grades.keys())\n",
    "for i in grades.values():\n",
    "    total = 0\n",
    "    for x, y in i.items():\n",
    "        total += y\n",
    "        if x == list(grades['Student-1'].keys())[-1]:\n",
    "            total = total / len(grades)\n",
    "            student_list.append(total)\n",
    "            continue\n",
    "for i in range(len(grades)):\n",
    "    student_dict[student_list[i]] = students[i]\n",
    "maximum = max(list(student_dict.keys()))\n",
    "minimum = min(list(student_dict.keys()))\n",
    "print(f'The student who has the maximum average is {student_dict[maximum]} and his/her score is {maximum}.')\n",
    "print(f'The student who has the minimum average is {student_dict[minimum]} and his/her score is {minimum}.')"
   ]
  },
  {
   "cell_type": "markdown",
   "metadata": {},
   "source": [
    "Task: Time for some fake graphics! Let’s say we want to draw game boards that look like this:\n",
    "\n",
    "<img src=\"images/game board.png\"> \n",
    "\n",
    "This one is 3x3 (like in tic tac toe). Obviously, they come in many other sizes (8x8 for chess, 19x19 for Go, and many more).\n",
    "Ask the user what size game board they want to draw, and draw it for them to the screen using Python’s print statement."
   ]
  },
  {
   "cell_type": "code",
   "execution_count": null,
   "metadata": {},
   "outputs": [],
   "source": [
    "#Ahmet çözüm\n",
    "print('Welcome to the Game!!!')\n",
    "size = input('What size of game board do you want me to draw? (e.g., 3X3) > ')\n",
    "row = int(size)\n",
    "column = int(size)\n",
    "row_print = \" ---\"\n",
    "column_print = \"|   \"\n",
    "for i in range(row):\n",
    "    print(row_print * column)\n",
    "    print(column_print * (column + 1))\n",
    "print(row_print * column)"
   ]
  },
  {
   "cell_type": "markdown",
   "metadata": {},
   "source": [
    "Arkadaşlar Merhaba;\n",
    "Kullanıcıdan bir cümle alan ve cümle içerisinde geçen sesli harflerin her birinden kaçar tane olduğunu çıktı veren bir program yazınız.\n",
    "Girilen harflerin küçük/büyük olabileceği ihtimalini göz önünde bulundurunuz.\n",
    "Kolay Gelsin...\n",
    "Beklenen Çıktı:\n",
    "cümle: Sakla samanı gelir zamanı.\n",
    "a: 6\n",
    "ı: 2\n",
    "e: 1\n",
    "i: 1 (edited) "
   ]
  },
  {
   "cell_type": "code",
   "execution_count": 9,
   "metadata": {},
   "outputs": [
    {
     "name": "stdout",
     "output_type": "stream",
     "text": [
      "{'a': 6, 'i': 3, 'e': 1}\n"
     ]
    }
   ],
   "source": [
    "#Murat çözüm\n",
    "cumle = \"Sakla samani gelir zamani\"\n",
    "vowels = \"aeiouAEIOU\"\n",
    "a={}\n",
    "for i in cumle:\n",
    "    if i in vowels:\n",
    "        if i not in a:\n",
    "            a[i] = 1\n",
    "        else:\n",
    "            a[i] = cumle.count(i)  \n",
    "print(a)"
   ]
  },
  {
   "cell_type": "markdown",
   "metadata": {},
   "source": [
    "Write a Python code to sort the list at below without using .sort() method of list. elements of list = [999, 333, 2, 8982, 12, 45, 77, 99, 11] Expected output: [2, 11, 12, 45, 77, 99, 333, 999, 8982]"
   ]
  },
  {
   "cell_type": "code",
   "execution_count": 8,
   "metadata": {},
   "outputs": [
    {
     "name": "stdout",
     "output_type": "stream",
     "text": [
      "[2, 11, 12, 45, 77, 99, 333, 999, 8982]\n"
     ]
    }
   ],
   "source": [
    "#Murat çözümü\n",
    "list_ = [999, 333, 2, 8982, 12, 45, 77, 99, 11]\n",
    "new_list = []\n",
    "\n",
    "while list_:\n",
    "    min_element = list_[0]\n",
    "    for i in list_:\n",
    "        if i < min_element:\n",
    "            min_element = i\n",
    "    new_list.append(min_element)\n",
    "    list_.remove(min_element)\n",
    "print(new_list)"
   ]
  },
  {
   "cell_type": "markdown",
   "metadata": {},
   "source": [
    "Take a string with input() and returns the Morse code equivalent.\n",
    "Examples\n",
    "\"EDABBIT CHALLENGE\" ➞ \". -.. .- -... -... .. -   -.-. .... .- .-.. .-.. . -. --. .\"\n",
    "\"HELP ME !\" ➞ \".... . .-.. .--.   -- .   -.-.--\"\n",
    "This dictionary can be used for coding:\n",
    "char_to_dots = {\n",
    "  'A': '.-', 'B': '-...', 'C': '-.-.', 'D': '-..', 'E': '.', 'F': '..-.',\n",
    "  'G': '--.', 'H': '....', 'I': '..', 'J': '.---', 'K': '-.-', 'L': '.-..',\n",
    "  'M': '--', 'N': '-.', 'O': '---', 'P': '.--.', 'Q': '--.-', 'R': '.-.',\n",
    "  'S': '...', 'T': '-', 'U': '..-', 'V': '...-', 'W': '.--', 'X': '-..-',\n",
    "  'Y': '-.--', 'Z': '--..', ' ': ' ', '0': '-----',\n",
    "  '1': '.----', '2': '..---', '3': '...--', '4': '....-', '5': '.....',\n",
    "  '6': '-....', '7': '--...', '8': '---..', '9': '----.',\n",
    "  '&': '.-...', \"'\": '.----.', '@': '.--.-.', ')': '-.--.-', '(': '-.--.',\n",
    "  ':': '---...', ',': '--..--', '=': '-...-', '!': '-.-.--', '.': '.-.-.-',\n",
    "  '-': '-....-', '+': '.-.-.', '\"': '.-..-.', '?': '..--..', '/': '-..-.'\n",
    "}"
   ]
  },
  {
   "cell_type": "code",
   "execution_count": 7,
   "metadata": {},
   "outputs": [
    {
     "name": "stdout",
     "output_type": "stream",
     "text": [
      ".... . .-.. .--.   -- .   -.-.-- \n"
     ]
    }
   ],
   "source": [
    "char_to_dots = {\n",
    "  'A': '.-', 'B': '-...', 'C': '-.-.', 'D': '-..', 'E': '.', 'F': '..-.',\n",
    "  'G': '--.', 'H': '....', 'I': '..', 'J': '.---', 'K': '-.-', 'L': '.-..',\n",
    "  'M': '--', 'N': '-.', 'O': '---', 'P': '.--.', 'Q': '--.-', 'R': '.-.',\n",
    "  'S': '...', 'T': '-', 'U': '..-', 'V': '...-', 'W': '.--', 'X': '-..-',\n",
    "  'Y': '-.--', 'Z': '--..', ' ': ' ', '0': '-----',\n",
    "  '1': '.----', '2': '..---', '3': '...--', '4': '....-', '5': '.....',\n",
    "  '6': '-....', '7': '--...', '8': '---..', '9': '----.',\n",
    "  '&': '.-...', \"'\": '.----.', '@': '.--.-.', ')': '-.--.-', '(': '-.--.',\n",
    "  ':': '---...', ',': '--..--', '=': '-...-', '!': '-.-.--', '.': '.-.-.-',\n",
    "  '-': '-....-', '+': '.-.-.', '\"': '.-..-.', '?': '..--..', '/': '-..-.'\n",
    "}\n",
    "word = input(\"Enter a string:\").upper()\n",
    "coded_word=\"\"\n",
    "for ch in word:\n",
    "    coded_word += char_to_dots[ch] + \" \"\n",
    "print(coded_word)\n"
   ]
  }
 ],
 "metadata": {
  "interpreter": {
   "hash": "53a7fbe61d203d2dd91b6503d1477158e1dbff0453a610a9c429187bdf87bf58"
  },
  "kernelspec": {
   "display_name": "Python 3.9.5 64-bit",
   "name": "python3"
  },
  "language_info": {
   "codemirror_mode": {
    "name": "ipython",
    "version": 3
   },
   "file_extension": ".py",
   "mimetype": "text/x-python",
   "name": "python",
   "nbconvert_exporter": "python",
   "pygments_lexer": "ipython3",
   "version": "3.9.5"
  },
  "orig_nbformat": 4
 },
 "nbformat": 4,
 "nbformat_minor": 2
}
