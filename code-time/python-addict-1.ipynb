{
 "cells": [
  {
   "cell_type": "markdown",
   "source": [],
   "metadata": {}
  },
  {
   "cell_type": "markdown",
   "source": [
    "This problem was asked by Google.\r\n",
    "Given a list of integers S and a target number k, write a function that returns a subset of S that adds up to k. If such a subset cannot be made, then return null.\r\n",
    "Integers can appear more than once in the list. You may assume all numbers in the list are positive.\r\n",
    "For example, given S = [12, 1, 61, 5, 9, 2] and k = 24, return [12, 9, 2,1] since it sums up to 24."
   ],
   "metadata": {}
  },
  {
   "cell_type": "code",
   "execution_count": null,
   "source": [
    "#Dustin çözüm\r\n",
    "def subset(liste, k):\r\n",
    "    res = [[]]\r\n",
    "    resa = []\r\n",
    "    for i in liste:\r\n",
    "        for j in res:\r\n",
    "            res = res + [j + [i]]\r\n",
    "            if sum(res[-1]) == k:\r\n",
    "                if res[-1] not in resa:\r\n",
    "                    resa.append(res[-1])\r\n",
    "    if resa == []:\r\n",
    "        return 'Null'\r\n",
    "    else:\r\n",
    "        return resa # tum sonuclar icin\r\n",
    "       # return resa[-1] tek sonuc icin\r\n",
    "        \r\n",
    "subset([1,3,5,12,15,7,8,23,9], 24)\r\n",
    "\r\n",
    "#Adsum çözüm\r\n",
    "def sub_list(num_list, k):\r\n",
    "\r\n",
    "    from itertools import combinations\r\n",
    "    result = []\r\n",
    "\r\n",
    "    for i in range(1, len(num_list)+1):\r\n",
    "        result += [list(p) for p in combinations(num_list, i) if sum(p)==k and p != []]\r\n",
    "        \r\n",
    "    if result == []: return None;\r\n",
    "    else: return result;\r\n",
    "\r\n",
    "sub_list([12, 1, 61, 5, 9, 2], 24)"
   ],
   "outputs": [],
   "metadata": {}
  },
  {
   "cell_type": "markdown",
   "source": [
    "Create a Dictionary which contains the Binary values mapping with numbers found in the below integer and binary\r\n",
    "and save it in binary_dict. (Please use dictionary comprehension)\r\n",
    "integer = [0, 1, 2, 3, 4]\r\n",
    "binary = [\"0\", \"1\", \"10\", \"11\", \"100\"] output :{0: '0', 1: '1', 2: '10', 3: '11', 4: '100'}"
   ],
   "metadata": {}
  },
  {
   "cell_type": "markdown",
   "source": [
    "This problem was asked by Google.\r\n",
    "The power set of a set is the set of all its subsets. Write a function\r\n",
    "that, given a set, generates its power set.\r\n",
    "For example, given the set {1, 2, 3}, it should return {{}, {1}, {2}, {3},\r\n",
    "{1, 2}, {1, 3}, {2, 3}, {1, 2, 3}}.\r\n",
    "You may also use a list or array to represent a set."
   ],
   "metadata": {}
  },
  {
   "cell_type": "code",
   "execution_count": 1,
   "source": [
    "#Dustin çözüm\r\n",
    "def power_set(a):   \r\n",
    "    a = list(a)\r\n",
    "    b = [[]]\r\n",
    "    for i in a:\r\n",
    "        for j in b:\r\n",
    "            b = b + [list(j) + [i]]\r\n",
    "    return b\r\n",
    "\r\n",
    "power_set({1,2,3,4,5})"
   ],
   "outputs": [
    {
     "output_type": "execute_result",
     "data": {
      "text/plain": [
       "[[],\n",
       " [1],\n",
       " [2],\n",
       " [1, 2],\n",
       " [3],\n",
       " [1, 3],\n",
       " [2, 3],\n",
       " [1, 2, 3],\n",
       " [4],\n",
       " [1, 4],\n",
       " [2, 4],\n",
       " [1, 2, 4],\n",
       " [3, 4],\n",
       " [1, 3, 4],\n",
       " [2, 3, 4],\n",
       " [1, 2, 3, 4],\n",
       " [5],\n",
       " [1, 5],\n",
       " [2, 5],\n",
       " [1, 2, 5],\n",
       " [3, 5],\n",
       " [1, 3, 5],\n",
       " [2, 3, 5],\n",
       " [1, 2, 3, 5],\n",
       " [4, 5],\n",
       " [1, 4, 5],\n",
       " [2, 4, 5],\n",
       " [1, 2, 4, 5],\n",
       " [3, 4, 5],\n",
       " [1, 3, 4, 5],\n",
       " [2, 3, 4, 5],\n",
       " [1, 2, 3, 4, 5]]"
      ]
     },
     "metadata": {},
     "execution_count": 1
    }
   ],
   "metadata": {}
  },
  {
   "cell_type": "markdown",
   "source": [
    "This problem was asked by Google.\r\n",
    "Given a list of integers S and a target number k, write a function that\r\n",
    "returns a subset of S that adds up to k. If such a subset cannot be made,\r\n",
    "then return null.\r\n",
    "Integers can appear more than once in the list. You may assume all numbers\r\n",
    "in the list are positive.\r\n",
    "For example, given S = [12, 1, 61, 5, 9, 2] and k = 24, return [12, 9, 2,\r\n",
    "1] since it sums up to 24."
   ],
   "metadata": {}
  },
  {
   "cell_type": "markdown",
   "source": [
    "There is a war and nobody knows - the alphabet war!\r\n",
    "The letters hide in their nuclear shelters. The nuclear strikes hit the battlefield and killed a lot of them.\r\n",
    "Task\r\n",
    "Write a function that accepts battlefield string and returns letters that survived the nuclear strike.\r\n",
    "The battlefield string consists of only small letters, #,[ and ].\r\n",
    "The nuclear shelter is represented by square brackets []. The letters inside the square brackets represent letters inside the shelter.\r\n",
    "The # means a place where nuclear strike hit the battlefield. If there is at least one # on the battlefield, all letters outside of shelter die. When there is no any # on the battlefield, all letters survive (but do not expect such scenario too often ;-P ).\r\n",
    "The shelters have some durability. When 2 or more # hit close to the shelter, the shelter is destroyed and all letters inside evaporate. The 'close to the shelter' means on the ground between the shelter and the next shelter (or beginning/end of battlefield). The below samples make it clear for you.\r\n",
    "Example\r\n",
    "abde[fgh]ijk     => \"abdefghijk\"  (all letters survive because there is no # )\r\n",
    "ab#de[fgh]ijk    => \"fgh\" (all letters outside die because there is a # )\r\n",
    "ab#de[fgh]ij#k   => \"\"  (all letters dies, there are 2 # close to the shellter )\r\n",
    "##abde[fgh]ijk   => \"\"  (all letters dies, there are 2 # close to the shellter )\r\n",
    "##abde[fgh]ijk[mn]op => \"mn\" (letters from the second shelter survive, there is no # close)\r\n",
    "#ab#de[fgh]ijk[mn]op => \"mn\" (letters from the second shelter survive, there is no # close)\r\n",
    "#abde[fgh]i#jk[mn]op => \"mn\" (letters from the second shelter survive, there is only 1 # close)\r\n",
    "[a]#[b]#[c]  => \"ac\"\r\n",
    "[a]#b#[c][d] => \"d\"\r\n",
    "[a][b][c]    => \"abc\"\r\n",
    "##a[a]b[c]#  => \"c\""
   ],
   "metadata": {}
  },
  {
   "cell_type": "markdown",
   "source": [
    "- Write a function named add_dots that takes a string and adds \".\" in between each letter.\r\n",
    "- For example\r\n",
    "- calling add_dots(\"test\") should return the string \"t.e.s.t\".\r\n",
    "- Then, below the add_dots function,\r\n",
    "- write another function named remove_dots that removes all dots from a string.\r\n",
    "- For example\r\n",
    "- calling remove_dots(\"t.e.s.t\") should return \"test\".\r\n",
    "- If both functions are correct,\r\n",
    "- calling remove_dots(add_dots(string)) should return back the original string for any string."
   ],
   "metadata": {}
  },
  {
   "cell_type": "markdown",
   "source": [
    "There is a war and nobody knows - the alphabet war!\r\n",
    "The letters hide in their nuclear shelters. The nuclear strikes hit the battlefield and killed a lot of them.\r\n",
    "Task\r\n",
    "Write a function that accepts battlefield string and returns letters that survived the nuclear strike.\r\n",
    "The battlefield string consists of only small letters, #,[ and ].\r\n",
    "The nuclear shelter is represented by square brackets []. The letters inside the square brackets represent letters inside the shelter.\r\n",
    "The # means a place where nuclear strike hit the battlefield. If there is at least one # on the battlefield, all letters outside of shelter die. When there is no any # on the battlefield, all letters survive (but do not expect such scenario too often ;-P ).\r\n",
    "The shelters have some durability. When 2 or more # hit close to the shelter, the shelter is destroyed and all letters inside evaporate. The 'close to the shelter' means on the ground between the shelter and the next shelter (or beginning/end of battlefield). The below samples make it clear for you.\r\n",
    "Example\r\n",
    "abde[fgh]ijk     => \"abdefghijk\"  (all letters survive because there is no # )\r\n",
    "ab#de[fgh]ijk    => \"fgh\" (all letters outside die because there is a # )\r\n",
    "ab#de[fgh]ij#k   => \"\"  (all letters dies, there are 2 # close to the shellter )\r\n",
    "##abde[fgh]ijk   => \"\"  (all letters dies, there are 2 # close to the shellter )\r\n",
    "##abde[fgh]ijk[mn]op => \"mn\" (letters from the second shelter survive, there is no # close)\r\n",
    "#ab#de[fgh]ijk[mn]op => \"mn\" (letters from the second shelter survive, there is no # close)\r\n",
    "#abde[fgh]i#jk[mn]op => \"mn\" (letters from the second shelter survive, there is only 1 # close)\r\n",
    "[a]#[b]#[c]  => \"ac\"\r\n",
    "[a]#b#[c][d] => \"d\"\r\n",
    "[a][b][c]    => \"abc\"\r\n",
    "##a[a]b[c]#  => \"c\""
   ],
   "metadata": {}
  },
  {
   "cell_type": "markdown",
   "source": [
    "- Write a function named add_dots that takes a string and adds \".\" in between each letter.\r\n",
    "- For example\r\n",
    "- calling add_dots(\"test\") should return the string \"t.e.s.t\".\r\n",
    "- Then, below the add_dots function,\r\n",
    "- write another function named remove_dots that removes all dots from a string.\r\n",
    "- For example\r\n",
    "- calling remove_dots(\"t.e.s.t\") should return \"test\".\r\n",
    "- If both functions are correct,\r\n",
    "- calling remove_dots(add_dots(string)) should return back the original string for any string."
   ],
   "metadata": {}
  },
  {
   "cell_type": "markdown",
   "source": [
    "Write your solution:\r\n",
    "* Output: 'one owt three ruof five xis seven' \r\n",
    "* Input:  'one two three four five six seven'"
   ],
   "metadata": {}
  },
  {
   "cell_type": "markdown",
   "source": [
    "The number 81 has a special property, a certain power of the sum of its digits is equal to 81 (nine squared). Eighty one (81), is the first number in having this property (not considering numbers of one digit). The next one, is 512. Let's see both cases with the details\r\n",
    "8 + 1 = 9 and 92 = 81\r\n",
    "512 = 5 + 1 + 2 = 8 and 83 = 512\r\n",
    "We need to make a function, power_sumDigTerm(), that receives a number n and may output the n-th term of this sequence of numbers. The cases we presented above means that\r\n",
    "power_sumDigTerm(1) == 81\r\n",
    "power_sumDigTerm(2) == 512\r\n",
    "Happy coding!"
   ],
   "metadata": {}
  },
  {
   "cell_type": "markdown",
   "source": [
    "Compute the running median of a sequence of numbers. That is, given a\r\n",
    "stream of numbers, print out the median of the list so far on each new\r\n",
    "element.\r\n",
    "Recall that the median of an even-numbered list is the average of the two\r\n",
    "middle numbers.\r\n",
    "For example, given the sequence [2, 1, 5, 7, 2, 0, 5], your algorithm\r\n",
    "should print out:\r\n",
    "2\r\n",
    "1.5\r\n",
    "2\r\n",
    "3.5\r\n",
    "2\r\n",
    "2\r\n",
    "2"
   ],
   "metadata": {}
  },
  {
   "cell_type": "code",
   "execution_count": 51,
   "source": [
    "my_list = [2, 1, 5, 7, 2, 0, 5]\r\n",
    "\r\n",
    "running_list = []\r\n",
    "for item in my_list:\r\n",
    "    running_list.append(item)\r\n",
    "    if len(running_list) % 2:\r\n",
    "        running_list.sort()\r\n",
    "        med_point = len(running_list)//2\r\n",
    "        print(running_list[med_point])\r\n",
    "    else :\r\n",
    "        running_list.sort()\r\n",
    "        med_point = len(running_list)//2 - 1\r\n",
    "        print(sum(running_list[med_point : med_point + 2])/2)\r\n"
   ],
   "outputs": [
    {
     "output_type": "stream",
     "name": "stdout",
     "text": [
      "2\n",
      "1.5\n",
      "2\n",
      "3.5\n",
      "2\n",
      "2.0\n",
      "2\n"
     ]
    }
   ],
   "metadata": {}
  },
  {
   "cell_type": "markdown",
   "source": [
    "Write your solutions. Print square pattern with alphabet symbols: output :\r\n",
    "A A A A A A A \r\n",
    "B B B B B B B \r\n",
    "C C C C C C C \r\n",
    "D D D D D D D \r\n",
    "E E E E E E E \r\n",
    "F F F F F F F \r\n",
    "G G G G G G G "
   ],
   "metadata": {}
  },
  {
   "cell_type": "code",
   "execution_count": 40,
   "source": [
    "length = 7\r\n",
    "for i in range(length):\r\n",
    "    print((chr(ord(\"A\")+i) + \" \") *length)\r\n"
   ],
   "outputs": [
    {
     "output_type": "stream",
     "name": "stdout",
     "text": [
      "A A A A A A A \n",
      "B B B B B B B \n",
      "C C C C C C C \n",
      "D D D D D D D \n",
      "E E E E E E E \n",
      "F F F F F F F \n",
      "G G G G G G G \n"
     ]
    }
   ],
   "metadata": {}
  },
  {
   "cell_type": "markdown",
   "source": [
    "<img src=\"images/image (3).png\">"
   ],
   "metadata": {}
  },
  {
   "cell_type": "code",
   "execution_count": 38,
   "source": [
    "#Muhammet çözüm\r\n",
    "input=[(\"b\",1),(\"c\",2),(\"x\",3),(\"x\",4),(\"z\",0)]\r\n",
    "output = sorted(input,key=(lambda x: x[1]))\r\n",
    "print(output)"
   ],
   "outputs": [
    {
     "output_type": "stream",
     "name": "stdout",
     "text": [
      "[('z', 0), ('b', 1), ('c', 2), ('x', 3), ('x', 4)]\n"
     ]
    }
   ],
   "metadata": {}
  },
  {
   "cell_type": "markdown",
   "source": [
    "Find lcm (least common multiple) with divisors of three or more numbers\r\n",
    "Examples:\r\n",
    "\r\n",
    "lcm([12, 8, 16])  ===>  ([2, 2, 2, 2, 3], 48)\r\n",
    "lcm([1, 2, 3, 4, 5, 6, 7, 8, 9])  ===>  ([2, 2, 2, 3, 3, 5, 7], 2520)"
   ],
   "metadata": {}
  },
  {
   "cell_type": "markdown",
   "source": [],
   "metadata": {}
  },
  {
   "cell_type": "markdown",
   "source": [
    "Program to Print Characters at Odd Position and Even Position for a String? given :\"Welcome to the Data Science Path!\" output:\r\n",
    "Characters at Even Position: Wloet h aaSinePt!\r\n",
    "Characters at Odd Position: ecm oteDt cec ah"
   ],
   "metadata": {}
  },
  {
   "cell_type": "markdown",
   "source": [],
   "metadata": {}
  },
  {
   "cell_type": "markdown",
   "source": [
    "Program to Sort the Characters of  String  Alphabet Symbols followed by Numeric Values\r\n",
    "* Input:  MHMMT1453\r\n",
    "* Output: HMMMT1345"
   ],
   "metadata": {}
  },
  {
   "cell_type": "code",
   "execution_count": null,
   "source": [],
   "outputs": [],
   "metadata": {}
  },
  {
   "cell_type": "markdown",
   "source": [
    "Create a list of strings based on a list of numbers\r\n",
    "The rules:\r\n",
    "If the number is a multiple of five and odd, the string should be 'five odd'\r\n",
    "If the number is a multiple of five and even, the string should be 'five even'\r\n",
    "If the number is odd, the string is 'odd'\r\n",
    "If the number is even, the string is 'even'\r\n",
    "we can solve this guestion using loop easly it is okey. But can we solve it using list comprehension ? given list =numbers = [1, 3, 4, 6, 81, 80, 100, 95] expected output = ['odd', 'odd', 'even', 'even', 'odd', 'five even', 'five even', 'five odd']"
   ],
   "metadata": {}
  },
  {
   "cell_type": "code",
   "execution_count": null,
   "source": [],
   "outputs": [],
   "metadata": {}
  },
  {
   "cell_type": "markdown",
   "source": [
    "Good luck with an easy question to remember our knowledge of dictionaries:))\r\n",
    "Tasks :\r\n",
    "1. if the username and password matches print hello username\r\n",
    "2. if the username and password does not match, ask, you want me to add into\r\n",
    "the database and add database\r\n",
    "3. show the updated database\r\n",
    "(Hint: Use Dictionary) output : updated Databese : {'Mehmet': 1234, 'Halit': 5678, 'Pedro': 1357, 'Muhammet': '3460'}"
   ],
   "metadata": {}
  },
  {
   "cell_type": "code",
   "execution_count": null,
   "source": [
    "#Dustin çözüm\r\n",
    "database = {'Mehmet': 1234, 'Halit': 5678, 'Pedro': 1357, 'Muhammet': '3460'}\r\n",
    "\r\n",
    "username = input('Enter username: ')\r\n",
    "passwrd = input('Enter password: ')\r\n",
    "\r\n",
    "if (username in database) and database[username] == int(passwrd) :\r\n",
    "    print(f\"Hello {username}\")\r\n",
    "\r\n",
    "else:\r\n",
    "    ask = input('Do you want to add new username and password(y / n) : ')\r\n",
    "    if ask.lower() == 'y' :\r\n",
    "        new_user = input('Enter a new username: ')\r\n",
    "        new_pass = int(input('Enter a new pass: '))\r\n",
    "        database[new_user] = new_pass\r\n",
    "        print(f\"Updated database {database}\")\r\n",
    "    \r\n",
    "    else:\r\n",
    "        print('Have a nice day!')"
   ],
   "outputs": [],
   "metadata": {}
  },
  {
   "cell_type": "markdown",
   "source": [
    "Write a function that when given a URL as a string, parses out just the domain name and returns it as a string. For example:\r\n",
    "domain_name(\"http://github.com/carbonfive/raygun\") == \"github\" \r\n",
    "domain_name(\"http://www.zombie-bites.com\") == \"zombie-bites\"\r\n",
    "domain_name(\"https://www.cnet.com\") == \"cnet\""
   ],
   "metadata": {}
  },
  {
   "cell_type": "code",
   "execution_count": 36,
   "source": [
    "def domain_name(url:str):\r\n",
    "    order = url.find(\"://www.\")\r\n",
    "    if order > 0:\r\n",
    "        dot_position = url.find(\".\",order+7)        \r\n",
    "        return url[order+7:dot_position]\r\n",
    "    elif url.find(\"://\") > 0:\r\n",
    "        order = url.find(\"://\")\r\n",
    "        dot_position = url.find(\".\",order+3)        \r\n",
    "        return url[order+3:dot_position]\r\n",
    "    else:\r\n",
    "        return \"\"\r\n",
    "\r\n",
    "#burak çözüm\r\n",
    "def domain_name2(url):\r\n",
    "    return url.split(\"//\")[-1].split(\"www.\")[-1].split(\".\")[0]\r\n",
    "\r\n",
    "print(domain_name(\"http://github.com/carbonfive/raygun\"))\r\n",
    "print(domain_name2(\"http://github.com/carbonfive/raygun\"))"
   ],
   "outputs": [
    {
     "output_type": "stream",
     "name": "stdout",
     "text": [
      "github\n",
      "github\n"
     ]
    }
   ],
   "metadata": {}
  },
  {
   "cell_type": "markdown",
   "source": [
    "Filter fonksiyonunu hatırlayalım! 1'den 100'e kadar olan sayılardan asal olanları listeleyiniz. Filter fonksiyonunu kullanmanız rica olunur!"
   ],
   "metadata": {}
  },
  {
   "cell_type": "code",
   "execution_count": 13,
   "source": [
    "#Dustin çözüm\r\n",
    "def prime(y):\r\n",
    "    prime_list = []\r\n",
    "    for i in range(1, y + 1):\r\n",
    "        if y % i == 0:\r\n",
    "            prime_list.append(i)\r\n",
    "    if prime_list == [1, y]:\r\n",
    "        return True\r\n",
    "    else:\r\n",
    "        return False\r\n",
    "\r\n",
    "asal = list(filter(prime, list(range(1, 100))))\r\n",
    "print(asal)"
   ],
   "outputs": [
    {
     "output_type": "stream",
     "name": "stdout",
     "text": [
      "[2, 3, 5, 7, 11, 13, 17, 19, 23, 29, 31, 37, 41, 43, 47, 53, 59, 61, 67, 71, 73, 79, 83, 89, 97]\n"
     ]
    }
   ],
   "metadata": {}
  },
  {
   "cell_type": "markdown",
   "source": [
    "tek aralıklı yazı tipinde metin hizalamasını taklit etmektir. Size tek satırlı bir metin ve beklenen yaslama genişliği verilecektir. En uzun kelime asla bu genişlikten daha büyük olmayacaktır.\r\n",
    "İşte kurallar:\r\n",
    "Sözcükler arasındaki boşlukları doldurmak için boşlukları kullanın.\r\n",
    "Her satır mümkün olduğunca çok kelime içermelidir.\r\n",
    "Satırları ayırmak için '\\n' kullanın.\r\n",
    "Sözcükler arasındaki boşluk, birden fazla boşlukla farklılık gösteremez.\r\n",
    "Satırlar boşlukla değil bir kelimeyle bitmelidir.\r\n",
    "'\\n' bir satırın uzunluğuna dahil edilmez.\r\n",
    "Önce büyük boşluklar, sonra daha küçük boşluklar ('Lorem--ipsum--dolor--sit-amet,' (2, 2, 2, 1 boşluk)) gider.\r\n",
    "Son satır iki yana yaslanmamalı, kelimeler arasında sadece bir boşluk bırakılmalıdır.\r\n",
    "Son satır '\\n' içermemelidir\r\n",
    "Tek kelimelik dizeler boşluklara ihtiyaç duymaz ('bir kelime\\n').\r\n",
    "Genişlik=30 olan örnek:\r\n",
    "Lorem  ipsum  dolor  sit amet,\r\n",
    "consectetur  adipiscing  elit.\r\n",
    "Vestibulum    sagittis   dolor\r\n",
    "mauris,  at  elementum  ligula\r\n",
    "tempor  eget.  In quis rhoncus\r\n",
    "nunc,  at  aliquet orci. Fusce\r\n",
    "at   dolor   sit   amet  felis\r\n",
    "suscipit   tristique.   Nam  a\r\n",
    "imperdiet   tellus.  Nulla  eu\r\n",
    "vestibulum    urna.    Vivamus\r\n",
    "tincidunt  suscipit  enim, nec\r\n",
    "ultrices   nisi  volutpat  ac.\r\n",
    "Maecenas   sit   amet  lacinia\r\n",
    "arcu,  non dictum justo. Donec\r\n",
    "sed  quam  vel  risus faucibus\r\n",
    "euismod.  Suspendisse  rhoncus\r\n",
    "rhoncus  felis  at  fermentum.\r\n",
    "Donec lorem magna, ultricies a\r\n",
    "nunc    sit    amet,   blandit\r\n",
    "fringilla  nunc. In vestibulum\r\n",
    "velit    ac    felis   rhoncus\r\n",
    "pellentesque. Mauris at tellus\r\n",
    "enim.  Aliquam eleifend tempus\r\n",
    "dapibus. Pellentesque commodo,\r\n",
    "nisi    sit   amet   hendrerit\r\n",
    "fringilla,   ante  odio  porta\r\n",
    "lacus,   ut   elementum  justo\r\n",
    "nulla et dolor."
   ],
   "metadata": {}
  },
  {
   "cell_type": "code",
   "execution_count": 12,
   "source": [
    "#Dustin çözüm\r\n",
    "text = 'Lorem ipsum dolor sit amet, consectetur adipiscing elit. Vestibulum sagittis dolor mauris, at elementum ligula tempor eget. In quis rhoncus nunc, at aliquet orci. Fusce at dolor sit amet felis suscipit tristique. Nam a imperdiet tellus. Nulla eu vestibulum urna. Vivamus tincidunt suscipit enim, nec ultrices nisi volutpat ac. Maecenas sit amet lacinia arcu, non dictum justo. Donec sed quam vel risus faucibus euismod. Suspendisse rhoncus rhoncus felis at fermentum. Donec lorem magna, ultricies a nunc sit amet, blandit fringilla nunc. In vestibulum velit ac felis rhoncus pellentesque. Mauris at tellus enim. Aliquam eleifend tempus dapibus. Pellentesque commodo, nisi sit amet hendrerit fringilla, ante odio porta lacus, ut elementum justo nulla et dolor.'\r\n",
    "\r\n",
    "def bosluk(text, n):\r\n",
    "    x = text.count(' ')\r\n",
    "    if x != 0:\r\n",
    "        liste = [0 for i in range(x)]\r\n",
    "        a, b, c, text_2 = 0, 0, 0, ''\r\n",
    "        while a < n:\r\n",
    "            liste[b] += 1\r\n",
    "            a += 1\r\n",
    "            b += 1\r\n",
    "            if b == x: b = 0\r\n",
    "        for i in text:\r\n",
    "            if i == ' ':\r\n",
    "                text_2 += i + ' ' * liste[c]\r\n",
    "                c += 1\r\n",
    "            else: text_2 += i\r\n",
    "    else: text_2 = text\r\n",
    "    return text_2\r\n",
    "\r\n",
    "def lorem(text, n):\r\n",
    "    result = ''\r\n",
    "    while True:\r\n",
    "        try:\r\n",
    "            look = text[n - 1]\r\n",
    "        except:\r\n",
    "            new = text\r\n",
    "            result += new\r\n",
    "            break\r\n",
    "        else:\r\n",
    "            if n - 1 == len(text) - 1:\r\n",
    "                new = text\r\n",
    "                result += new\r\n",
    "                break\r\n",
    "            elif look != ' ' and text[n] != ' ':\r\n",
    "                a = text[:n][::-1].find(' ') \r\n",
    "                text_2 = text[:n - a - 1]\r\n",
    "                b = n - len(text_2)\r\n",
    "                new = bosluk(text_2, b) + '\\n'\r\n",
    "                text = text[n - a:]\r\n",
    "                result += new\r\n",
    "                new = ''\r\n",
    "            elif look == ' ':\r\n",
    "                text_2 = text[:n - 1]\r\n",
    "                new = bosluk(text_2, 1) + '\\n'\r\n",
    "                text = text[n:]\r\n",
    "                result += new\r\n",
    "                new = ''\r\n",
    "            elif look != ' ' and text[n] == ' ':\r\n",
    "                text_2 = text[:n]\r\n",
    "                new = text_2 + '\\n'\r\n",
    "                text = text[n + 1:]\r\n",
    "                result += new\r\n",
    "                new = ''\r\n",
    "    return result\r\n",
    "\r\n",
    "print(lorem(text, 30))"
   ],
   "outputs": [
    {
     "output_type": "stream",
     "name": "stdout",
     "text": [
      "Lorem  ipsum  dolor  sit amet,\n",
      "consectetur  adipiscing  elit.\n",
      "Vestibulum    sagittis   dolor\n",
      "mauris,  at  elementum  ligula\n",
      "tempor  eget.  In quis rhoncus\n",
      "nunc,  at  aliquet orci. Fusce\n",
      "at   dolor   sit   amet  felis\n",
      "suscipit   tristique.   Nam  a\n",
      "imperdiet   tellus.  Nulla  eu\n",
      "vestibulum    urna.    Vivamus\n",
      "tincidunt  suscipit  enim, nec\n",
      "ultrices   nisi  volutpat  ac.\n",
      "Maecenas   sit   amet  lacinia\n",
      "arcu,  non dictum justo. Donec\n",
      "sed  quam  vel  risus faucibus\n",
      "euismod.  Suspendisse  rhoncus\n",
      "rhoncus  felis  at  fermentum.\n",
      "Donec lorem magna, ultricies a\n",
      "nunc    sit    amet,   blandit\n",
      "fringilla  nunc. In vestibulum\n",
      "velit    ac    felis   rhoncus\n",
      "pellentesque. Mauris at tellus\n",
      "enim.  Aliquam eleifend tempus\n",
      "dapibus. Pellentesque commodo,\n",
      "nisi    sit   amet   hendrerit\n",
      "fringilla,   ante  odio  porta\n",
      "lacus,   ut   elementum  justo\n",
      "nulla et dolor.\n"
     ]
    }
   ],
   "metadata": {}
  },
  {
   "cell_type": "markdown",
   "source": [
    "ROT13 is a simple letter substitution cipher that replaces a letter with the letter 13 letters after it in the alphabet. ROT13 is an example of the Caesar cipher.\r\n",
    "Create a function that takes a string and returns the string ciphered with Rot13. If there are numbers or special characters included in the string, they should be returned as they are. Only letters from the latin/english alphabet should be shifted, like in the original Rot13\r\n",
    "Please note that using encode is considered cheating.\r\n",
    "rot13(\"test\") ====> \"grfg\"\r\n",
    "rot13(\"Test\") =====> \"Grfg\"\r\n",
    "rot13('This is an encrypted message!') =====> 'Guvf vf na rapelcgrq zrffntr!'"
   ],
   "metadata": {}
  },
  {
   "cell_type": "code",
   "execution_count": 11,
   "source": [
    "def rot13(text):\r\n",
    "    upper = range(65,91)\r\n",
    "    lower = range(97,123)\r\n",
    "    rot = []\r\n",
    "    for item in text:\r\n",
    "        char_order = ord(item)\r\n",
    "        if char_order in upper:\r\n",
    "            rot.append(chr(char_order+13 if char_order+13 < 91 else char_order+13-(91-65)))\r\n",
    "        elif char_order in lower:\r\n",
    "            rot.append(chr(char_order+13 if char_order+13 < 123 else char_order+13-(123-97)))\r\n",
    "        else:\r\n",
    "            rot.append(chr(char_order))\r\n",
    "    return \"\".join(rot)\r\n",
    "\r\n",
    "rot13(\"This is an encrypted message!\")\r\n",
    "\r\n"
   ],
   "outputs": [
    {
     "output_type": "execute_result",
     "data": {
      "text/plain": [
       "'Guvf vf na rapelcgrq zrffntr!'"
      ]
     },
     "metadata": {},
     "execution_count": 11
    }
   ],
   "metadata": {}
  },
  {
   "cell_type": "markdown",
   "source": [
    "Salyangoz Sıralaması\r\n",
    "Bir n x ndizi verildiğinde , en dıştaki öğelerden ortadaki öğeye düzenlenen dizi öğelerini saat yönünde hareket ettirin.\r\n",
    "array = [[1,2,3],\r\n",
    "         [4,5,6],\r\n",
    "         [7,8,9]]\r\n",
    "snail(array) #=> [1,2,3,6,9,8,7,4,5]\r\n",
    "Daha iyi anlamak için lütfen bir sonraki dizinin numaralarını art arda takip edin:\r\n",
    "array = [[1,2,3],\r\n",
    "         [8,9,4],\r\n",
    "         [7,6,5]]\r\n",
    "snail(array) #=> [1,2,3,4,5,6,7,8,9]"
   ],
   "metadata": {}
  },
  {
   "cell_type": "code",
   "execution_count": 1,
   "source": [
    "def snail(list1):\r\n",
    "  if len(list1) < 1:\r\n",
    "    return list1\r\n",
    "  else:\r\n",
    "    outer = list1[0] + [item[-1] for item in list1[1:-1]] + list1[-1][::-1] + [item[0] for item in list1[-2:0:-1]]\r\n",
    "    inner = [item[1:-1] for item in list1[1:-1]]\r\n",
    "    return outer + snail(inner)\r\n",
    "list2= [[ 1,  2,  3,  4,  5,  6],\r\n",
    "         [ 7,  8,  9, 10, 11, 12],\r\n",
    "         [13, 14, 15, 16, 17, 18],\r\n",
    "         [19, 20, 21, 22, 23, 24],\r\n",
    "         [25, 26, 27, 28, 29, 30],\r\n",
    "         [31, 32, 33, 34, 35, 36]]\r\n",
    "print(snail(list2))"
   ],
   "outputs": [
    {
     "output_type": "stream",
     "name": "stdout",
     "text": [
      "[1, 2, 3, 4, 5, 6, 12, 18, 24, 30, 36, 35, 34, 33, 32, 31, 25, 19, 13, 7, 8, 9, 10, 11, 17, 23, 29, 28, 27, 26, 20, 14, 15, 16, 22, 21]\n"
     ]
    }
   ],
   "metadata": {}
  },
  {
   "cell_type": "markdown",
   "source": [
    "Write a program to solve a classic ancient Chinese puzzle: \r\n",
    "We count 35 heads and 94 legs among the chickens and rabbits in a farm. How many rabbits and how many chickens do we have?"
   ],
   "metadata": {}
  },
  {
   "cell_type": "code",
   "execution_count": 2,
   "source": [
    "# Dustin çözüm\r\n",
    "def chinese_puzzle(heads, legs):    \r\n",
    "    for c in range(heads):\r\n",
    "        for r in range(heads):\r\n",
    "            if (2 * c) + (4 * r) == legs and c + r == heads:\r\n",
    "                chic = c\r\n",
    "                rab = r\r\n",
    "    return f'Chickens: {chic} || Rabbits: {rab}'\r\n",
    "\r\n",
    "chinese_puzzle(35, 94)"
   ],
   "outputs": [
    {
     "output_type": "execute_result",
     "data": {
      "text/plain": [
       "'Chickens: 23 || Rabbits: 12'"
      ]
     },
     "metadata": {},
     "execution_count": 2
    }
   ],
   "metadata": {}
  },
  {
   "cell_type": "markdown",
   "source": [
    "Remove last character in list of strings: given_list = [\"Lessons\", \"Words\", \"Pythons\", \"Programers\",\"Clarusways\"] expected output : ['Lesson', 'Word', 'Python', 'Programer', 'Clarusway']"
   ],
   "metadata": {}
  },
  {
   "cell_type": "code",
   "execution_count": 4,
   "source": [
    "given_list = [\"Lessons\", \"Words\", \"Pythons\", \"Programers\",\"Clarusways\"]\r\n",
    "new_list =[ item[:-1] for item in given_list ]\r\n",
    "print(new_list)"
   ],
   "outputs": [
    {
     "output_type": "stream",
     "name": "stdout",
     "text": [
      "['Lesson', 'Word', 'Python', 'Programer', 'Clarusway']\n"
     ]
    }
   ],
   "metadata": {}
  },
  {
   "cell_type": "markdown",
   "source": [
    "Given a string of size n, write functions to perform following operations on string.\r\n",
    "Left (Or anticlockwise) rotate the given string by d elements (where d <= n).\r\n",
    "Right (Or clockwise) rotate the given string by d elements (where d <= n). For example given word: \"Hippopotamus\"  result =\r\n",
    "Left Rotation :  opotamusHipp\r\n",
    "Right Rotation :  amusHippopot"
   ],
   "metadata": {}
  },
  {
   "cell_type": "code",
   "execution_count": 5,
   "source": [
    "# adsum çözüm\r\n",
    "def rotate(string, d):\r\n",
    " \r\n",
    "  left_rotation = string[d:] + string[:d]\r\n",
    "  right_rotation = string[-d:] + string[:-d]\r\n",
    "\r\n",
    "  print(\"Left Rotation : \", left_rotation)\r\n",
    "  print(\"Right Rotation : \", right_rotation)\r\n",
    "\r\n",
    "rotate(\"Hippopotamus\", 4)"
   ],
   "outputs": [
    {
     "output_type": "stream",
     "name": "stdout",
     "text": [
      "Left Rotation :  opotamusHipp\n",
      "Right Rotation :  amusHippopot\n"
     ]
    }
   ],
   "metadata": {}
  },
  {
   "cell_type": "markdown",
   "source": [
    " Bir listedeki değerlerin toplamını sum() ile bulmak çok işlevsel bir yöntem peki elimizdeki liste nested bir liste ise neler yapabiliriz acaba : What is the sum of list "
   ],
   "metadata": {}
  },
  {
   "cell_type": "code",
   "execution_count": 5,
   "source": [
    "list1 = [[1,4,5], [4], [46,7,3],[7,3]]\r\n",
    "temp = []\r\n",
    "for item in list1:\r\n",
    "    temp.extend(item)\r\n",
    "print(sum(temp))"
   ],
   "outputs": [
    {
     "output_type": "stream",
     "name": "stdout",
     "text": [
      "80\n"
     ]
    }
   ],
   "metadata": {}
  },
  {
   "cell_type": "markdown",
   "source": [
    "Remove empty strings from the list of strings  : (Bu soruda çok kullanışlı ve artık biraz da olsa bildiğimiz filter () function kullanılması önerilir. Herkese iyi geceler."
   ],
   "metadata": {}
  },
  {
   "cell_type": "code",
   "execution_count": 4,
   "source": [
    "list1 = [\"Mike\", \"\", \"Alice\", \"Jerry\", \"\", \"Tom\"]\r\n",
    "list1 = filter(lambda x: x !=\"\",list1)\r\n",
    "list(list1)"
   ],
   "outputs": [
    {
     "output_type": "execute_result",
     "data": {
      "text/plain": [
       "['Mike', 'Alice', 'Jerry', 'Tom']"
      ]
     },
     "metadata": {},
     "execution_count": 4
    }
   ],
   "metadata": {}
  },
  {
   "cell_type": "code",
   "execution_count": null,
   "source": [],
   "outputs": [],
   "metadata": {}
  },
  {
   "cell_type": "markdown",
   "source": [
    "Given two arrays of strings a1 and a2 return a sorted array r in lexicographical order of the strings of a1 which are substrings of strings of a2.\r\n",
    "Example 1:\r\n",
    "a1 = [\"arp\", \"live\", \"strong\"]\r\n",
    "a2 = [\"lively\", \"alive\", \"harp\", \"sharp\", \"armstrong\"]\r\n",
    "returns [\"arp\", \"live\", \"strong\"]\r\n",
    "Example 2:\r\n",
    "a1 = [\"tarp\", \"mice\", \"bull\"]\r\n",
    "a2 = [\"lively\", \"alive\", \"harp\", \"sharp\", \"armstrong\"]\r\n",
    "returns []\r\n",
    "Notes:\r\n",
    "Arrays are written in \"general\" notation. See \"Your Test Cases\" for examples in your language.\r\n",
    "In Shell bash a1 and a2 are strings. The return is a string where words are separated by commas.\r\n",
    "Beware: r must be without duplicates."
   ],
   "metadata": {}
  },
  {
   "cell_type": "code",
   "execution_count": 11,
   "source": [
    "a1 = [\"arp\", \"live\", \"strong\"]\r\n",
    "a2 = [\"lively\", \"alive\", \"harp\", \"sharp\", \"armstrong\"]\r\n",
    "result=[]\r\n",
    "for item in a2:\r\n",
    "    for sub in a1:\r\n",
    "        if sub in item and sub not in result:\r\n",
    "            result.append(sub)\r\n",
    "\r\n",
    "sorted(result)\r\n"
   ],
   "outputs": [
    {
     "output_type": "execute_result",
     "data": {
      "text/plain": [
       "['arp', 'live', 'strong']"
      ]
     },
     "metadata": {},
     "execution_count": 11
    }
   ],
   "metadata": {}
  },
  {
   "cell_type": "code",
   "execution_count": null,
   "source": [
    "Given an list of integers nums and an integer target, return indices of the two numbers such that they add up to target.      \r\n",
    " nums = [2, 7, 11, 15]                         \r\n",
    " target = 17      \r\n",
    " The indices 0 and 3 are returned here as the values in the input list 2 and 15 add up to the target value 17.  \r\n",
    "output:    (0, 3) ."
   ],
   "outputs": [],
   "metadata": {}
  },
  {
   "cell_type": "code",
   "execution_count": 8,
   "source": [
    "def target_sum(nums,target):\r\n",
    "    for i in range(len(nums)):\r\n",
    "        for j in range(len(nums)):\r\n",
    "            if nums[i] + nums[j] == target:\r\n",
    "                return i,j\r\n",
    "\r\n",
    "nums = [2, 7, 11, 15]\r\n",
    "print(target_sum(nums,17))\r\n"
   ],
   "outputs": [
    {
     "output_type": "stream",
     "name": "stdout",
     "text": [
      "(0, 3)\n"
     ]
    }
   ],
   "metadata": {}
  },
  {
   "cell_type": "markdown",
   "source": [
    "Bir first_non_repeating_letterdize girdisi alan ve dizenin hiçbir yerinde tekrarlanmayan ilk karakteri döndüren bir işlev yazın .\r\n",
    "Örneğin, girdi verilirse, t harfi dizede yalnızca bir kez geçtiği ve dizede ilk sırada yer aldığı 'stress'için işlev dönmelidir .'t'\r\n",
    "Ek bir meydan okuma olarak, büyük ve küçük harfler aynı karakter olarak kabul edilir , ancak işlev ilk harf için doğru durumu döndürmelidir. Örneğin, girdi 'sTreSS'dönmelidir 'T'.\r\n",
    "Bir dize tüm yinelenen karakterleri içeriyorsa , boş bir dize ( \"\") döndürmelidir veya None"
   ],
   "metadata": {}
  },
  {
   "cell_type": "code",
   "execution_count": 39,
   "source": [
    "def ilk_tekrarsiz(kelime):\r\n",
    "    harfler = list(set(kelime))\r\n",
    "    for item in harfler:\r\n",
    "        if kelime.count(item) > 1:\r\n",
    "            kelime = kelime.replace(item,\"\")\r\n",
    "            print(kelime)\r\n",
    "    \r\n",
    "    return kelime[0] if len(kelime) > 0 else \"\"\r\n",
    "\r\n",
    "ilk_tekrarsiz(\"stress\")"
   ],
   "outputs": [
    {
     "output_type": "stream",
     "name": "stdout",
     "text": [
      "tre\n"
     ]
    },
    {
     "output_type": "execute_result",
     "data": {
      "text/plain": [
       "'t'"
      ]
     },
     "metadata": {},
     "execution_count": 39
    }
   ],
   "metadata": {}
  },
  {
   "cell_type": "markdown",
   "source": [
    "Kullanıcıdan 2 basamaklı bir sayı alın ve bu sayının okunuşunu bulan bir fonksiyon yazın.\r\n",
    "Örnek: 99 ---------> Doğsan Doğuz"
   ],
   "metadata": {}
  },
  {
   "cell_type": "code",
   "execution_count": 11,
   "source": [
    "def sayi_oku(sayi):\r\n",
    "    onlar={\"1\":\"on\",\"2\":\"yirmi\",\"3\":\"otuz\",\"4\":\"kırk\",\"5\":\"elli\",\"6\":\"altmış\",\"7\":\"yetmiş\",\"8\":\"seksen\",\"9\":\"doksan\"}\r\n",
    "    birler={\"1\":\"bir\",\"2\":\"iki\",\"3\":\"üç\",\"4\":\"dört\",\"5\":\"beş\",\"6\":\"altı\",\"7\":\"yedi\",\"8\":\"sekiz\",\"9\":\"dokuz\"}\r\n",
    "    sayi = str(sayi)\r\n",
    "    oku = \"\"\r\n",
    "    if onlar.get(sayi[0]):\r\n",
    "       oku += onlar.get(sayi[0]) \r\n",
    "    if birler.get(sayi[1]):\r\n",
    "       oku +=\" \" + birler.get(sayi[1]) \r\n",
    "    return oku\r\n",
    "\r\n",
    "sayi_oku(56)"
   ],
   "outputs": [
    {
     "output_type": "execute_result",
     "data": {
      "text/plain": [
       "'elli altı'"
      ]
     },
     "metadata": {},
     "execution_count": 11
    }
   ],
   "metadata": {}
  },
  {
   "cell_type": "markdown",
   "source": [
    "https://www.codewars.com/kata/550f22f4d758534c1100025a\r\n",
    "(cevabınızı submit ettikten sonra bu sitede başkalarının bu soruyla ilgili yazdığı kodları inceleyebilirsiniz)\r\n",
    "Once upon a time, on a way through the old wild mountainous west,…\r\n",
    "… a man was given directions to go from one point to another. The directions were \"NORTH\", \"SOUTH\", \"WEST\", \"EAST\". Clearly \"NORTH\" and \"SOUTH\" are opposite, \"WEST\" and \"EAST\" too.\r\n",
    "Going to one direction and coming back the opposite direction right away is a needless effort. Since this is the wild west, with dreadfull weather and not much water, it's important to save yourself some energy, otherwise you might die of thirst!\r\n",
    "How I crossed a mountainous desert the smart way.\r\n",
    "The directions given to the man are, for example, the following (depending on the language):\r\n",
    "[\"NORTH\", \"SOUTH\", \"SOUTH\", \"EAST\", \"WEST\", \"NORTH\", \"WEST\"].\r\n",
    "or\r\n",
    "{ \"NORTH\", \"SOUTH\", \"SOUTH\", \"EAST\", \"WEST\", \"NORTH\", \"WEST\" };\r\n",
    "or\r\n",
    "[North, South, South, East, West, North, West]\r\n",
    "You can immediatly see that going \"NORTH\" and immediately \"SOUTH\" is not reasonable, better stay to the same place! So the task is to give to the man a simplified version of the plan. A better plan in this case is simply:\r\n",
    "[\"WEST\"]\r\n",
    "or\r\n",
    "{ \"WEST\" }\r\n",
    "or\r\n",
    "[West]\r\n",
    "Other examples:\r\n",
    "In [\"NORTH\", \"SOUTH\", \"EAST\", \"WEST\"], the direction \"NORTH\" + \"SOUTH\" is going north and coming back right away.\r\n",
    "The path becomes [\"EAST\", \"WEST\"], now \"EAST\" and \"WEST\" annihilate each other, therefore, the final result is [] (nil in Clojure).\r\n",
    "In [\"NORTH\", \"EAST\", \"WEST\", \"SOUTH\", \"WEST\", \"WEST\"], \"NORTH\" and \"SOUTH\" are not directly opposite but they become directly opposite after the reduction of \"EAST\" and \"WEST\" so the whole path is reducible to [\"WEST\", \"WEST\"].\r\n",
    "Task\r\n",
    "Write a function dirReduc which will take an array of strings and returns an array of strings with the needless directions removed (W<->E or S<->N side by side).\r\n",
    "The Haskell version takes a list of directions with data Direction = North | East | West | South.\r\n",
    "The Clojure version returns nil when the path is reduced to nothing.\r\n",
    "The Rust version takes a slice of enum Direction {North, East, West, South}.\r\n",
    "See more examples in \"Sample Tests:\"\r\n",
    "Notes\r\n",
    "Not all paths can be made simpler. The path [\"NORTH\", \"WEST\", \"SOUTH\", \"EAST\"] is not reducible. \"NORTH\" and \"WEST\", \"WEST\" and \"SOUTH\", \"SOUTH\" and \"EAST\" are not directly opposite of each other and can't become such. Hence the result path is itself : [\"NORTH\", \"WEST\", \"SOUTH\", \"EAST\"]."
   ],
   "metadata": {}
  },
  {
   "cell_type": "code",
   "execution_count": 1,
   "source": [
    "#Dustin çözüm\r\n",
    "def nereye(liste):\r\n",
    "    s = ''\r\n",
    "    n = 0\r\n",
    "    p = []\r\n",
    "    leng = len(liste)\r\n",
    "    for i in liste:\r\n",
    "        s += ''.join(str(i).upper())\r\n",
    "    while n < leng:\r\n",
    "        if 'NORTHSOUTH' in s or 'SOUTHNORTH' in s or 'WESTEAST' in s or 'EASTWEST':\r\n",
    "            s = s.replace('NORTHSOUTH', '').replace('SOUTHNORTH', '').replace('WESTEAST', '').replace('EASTWEST', '')\r\n",
    "        n += 1\r\n",
    "    while True:\r\n",
    "        for i in [\"NORTH\", \"WEST\", \"SOUTH\", \"EAST\"]:\r\n",
    "            if i in s:\r\n",
    "                p.append(i)\r\n",
    "                s = s.replace(i, '', 1)\r\n",
    "        if s == '':\r\n",
    "            break\r\n",
    "    return p\r\n",
    "        \r\n",
    "        \r\n",
    "nereye([\"NORTH\", \"SOUTH\", \"SOUTH\", \"EAST\", \"NORTH\", \"WEST\", \"EAST\", \"SOUTH\", \"SOUTH\"])"
   ],
   "outputs": [
    {
     "output_type": "execute_result",
     "data": {
      "text/plain": [
       "['SOUTH', 'EAST', 'SOUTH']"
      ]
     },
     "metadata": {},
     "execution_count": 1
    }
   ],
   "metadata": {}
  },
  {
   "cell_type": "markdown",
   "source": [
    "A palindrome is a number that is the same when reversed, 2770772 for example. A palindrome can often be formed by adding a number to it's reverse: 641 + 146 = 787 (a palindrome). Using 78 as the seed, it takes 4 steps to produce a palindrome:\r\n",
    "78 + 87 = 165\r\n",
    "165 + 561 = 726\r\n",
    "726 + 627 = 1353\r\n",
    "1353 + 3531 = 4884 (a palindrome)\r\n",
    "About 97% of integers less than 10,000 produce palindromes in less than 25 steps. A few, like 196 and 879, may never form palindromes.\r\n",
    "Make a function that takes a palindrome as it's an argument and returns the smallest seed integer that will produce that palindrome, along with the number of steps required:\r\n",
    "pal_seq(palindrome) = (seed, steps)\r\n",
    "pal_seq(4884) ➞ (69, 4)\r\n",
    "pal_seq(1) ➞ (1, 0)\r\n",
    "pal_seq(11) ➞ (10, 1) --> 10 + 01 = 11\r\n",
    "pal_seq(3113) ➞ (199, 3)\r\n",
    "pal_seq(8836886388) ➞ (177, 15)\r\n",
    "Notes\r\n",
    "The sequence always terminates when the first palindrome is produced. If the seed is a palindrome, the sequence has 0 steps."
   ],
   "metadata": {}
  },
  {
   "cell_type": "code",
   "execution_count": null,
   "source": [
    "num = 4884\r\n",
    "seed = 1\r\n",
    "check = True\r\n",
    "while check:\r\n",
    "    count = seed    \r\n",
    "    step = 0\r\n",
    "    while count < num:\r\n",
    "        count = count + int(str(count)[::-1])\r\n",
    "        step += 1\r\n",
    "        if count == num:\r\n",
    "            check = False\r\n",
    "            break\r\n",
    "    if check : seed += 1\r\n",
    "    \r\n",
    "print(f\"seed : {seed} in {step} steps\")"
   ],
   "outputs": [],
   "metadata": {}
  },
  {
   "cell_type": "markdown",
   "source": [
    "Eğer bir sayının kendisi hariç tam bölenleri toplamı sayıdan büyükse o sayıya zengin sayı diyoruz. Örneğin 12 nin bölenleri 1,2,3,4,6 nın toplamı 16>12 olduğu için zengin sayıdır. En küçük tek zengin sayı nedir?"
   ],
   "metadata": {}
  },
  {
   "cell_type": "code",
   "execution_count": null,
   "source": [
    "zengin_liste=[]\r\n",
    "for i in range(2,1000):\r\n",
    "    sum = 0\r\n",
    "    for j in range(1,i):\r\n",
    "        if i%j == 0:\r\n",
    "            sum +=j\r\n",
    "    if sum > i and i%2:\r\n",
    "        zengin_liste.append([sum,i])\r\n",
    "print(\"En küçük zengin tek sayı :\", zengin_liste[0][1])"
   ],
   "outputs": [],
   "metadata": {}
  },
  {
   "cell_type": "markdown",
   "source": [
    "1'den 500'e kadar olan sayılardan mükemmel sayı olanları ekrana yazdırın. Bunun için bir sayının mükemmel olup olmadığını dönen bir tane fonksiyon yazın.\r\n",
    "Bir sayının bölenlerinin toplamı kendine eşitse bu sayı mükemmel bir sayıdır. Örnek olarak 6 mükemmel bir sayıdır (1 + 2 + 3 = 6)."
   ],
   "metadata": {}
  },
  {
   "cell_type": "code",
   "execution_count": null,
   "source": [
    "mukemmel=[]\r\n",
    "for i in range(2,500):\r\n",
    "    sum = 0\r\n",
    "    for j in range(1,i):\r\n",
    "        if i%j == 0:\r\n",
    "            sum +=j\r\n",
    "    if sum == i:\r\n",
    "        mukemmel.append(i)\r\n",
    "print(mukemmel)\r\n",
    "#[6, 28, 496]"
   ],
   "outputs": [],
   "metadata": {}
  },
  {
   "cell_type": "markdown",
   "source": [],
   "metadata": {}
  },
  {
   "cell_type": "markdown",
   "source": [
    "Pascal üçgeninin ilk n satırını yazdıran bir Python fonksiyonu yazın. \r\n",
    "Not : Pascal üçgeni, ilk olarak Blaise Pascal tarafından hayal edilen aritmetik ve geometrik bir şekildir.\r\n",
    "Örnek Pascal üçgeni:\r\n",
    "Her sayı üstte birbirine eklediği iki sayıdır\r\n",
    "Public link to this file\r\n",
    "https://slack-files.com/T022H615A9H-F029R0Q3ZT9-3fda8a3c6c\r\n",
    "\r\n",
    "<img src=\"images/image (1).png\">\r\n"
   ],
   "metadata": {}
  },
  {
   "cell_type": "code",
   "execution_count": null,
   "source": [
    "#Dustin çözüm\r\n",
    "kac = int(input('Kac satir? > '))\r\n",
    "baslangic = [1]\r\n",
    "result = [[1, 1]]\r\n",
    "say, n, s, k, b = 0, 0, 0, 1, 1\r\n",
    "while say <= kac - 3:\r\n",
    "    n, k = 0, 1\r\n",
    "    yeni = []\r\n",
    "    for i in range(b):\r\n",
    "        asama = result[s][n] + result[s][k]\r\n",
    "        yeni.append(asama)\r\n",
    "        n += 1\r\n",
    "        k += 1\r\n",
    "    yeni.append(1)\r\n",
    "    yeni.insert(0, 1)\r\n",
    "    result.append(yeni)\r\n",
    "    say += 1\r\n",
    "    b += 1\r\n",
    "    s += 1\r\n",
    "result.insert(0, baslangic)\r\n",
    "print(result)"
   ],
   "outputs": [],
   "metadata": {}
  },
  {
   "cell_type": "markdown",
   "source": [
    "A palindrome is a number that is the same when reversed, 2770772 for example. A palindrome can often be formed by adding a number to it's reverse: 641 + 146 = 787 (a palindrome). Using 78 as the seed, it takes 4 steps to produce a palindrome:\r\n",
    "78 + 87 = 165\r\n",
    "165 + 561 = 726\r\n",
    "726 + 627 = 1353\r\n",
    "1353 + 3531 = 4884 (a palindrome)\r\n",
    "About 97% of integers less than 10,000 produce palindromes in less than 25 steps. A few, like 196 and 879, may never form palindromes.\r\n",
    "Make a function that takes a palindrome as it's an argument and returns the smallest seed integer that will produce that palindrome, along with the number of steps required:\r\n",
    "pal_seq(palindrome) = (seed, steps)\r\n",
    "pal_seq(4884) ➞ (69, 4)\r\n",
    "pal_seq(1) ➞ (1, 0)\r\n",
    "pal_seq(11) ➞ (10, 1) --> 10 + 01 = 11\r\n",
    "pal_seq(3113) ➞ (199, 3)\r\n",
    "pal_seq(8836886388) ➞ (177, 15)\r\n",
    "Notes\r\n",
    "The sequence always terminates when the first palindrome is produced. If the seed is a palindrome, the sequence has 0 steps."
   ],
   "metadata": {}
  },
  {
   "cell_type": "code",
   "execution_count": null,
   "source": [
    "num = 4884\r\n",
    "seed = 1\r\n",
    "check = True\r\n",
    "while check:\r\n",
    "    count = seed\r\n",
    "    step = 0\r\n",
    "    while count < num:\r\n",
    "        count = count + int(str(count)[::-1])\r\n",
    "        step += 1\r\n",
    "        if count == num:\r\n",
    "            check = False\r\n",
    "            break\r\n",
    "    seed += 1\r\n",
    "\r\n",
    "print(f\"seed : {seed} in {step} steps\")"
   ],
   "outputs": [],
   "metadata": {}
  },
  {
   "cell_type": "markdown",
   "source": [
    "Verilen bir boş olmayan demetler listesinden her bir demetteki son elemana göre artan düzende sıralanmış bir liste elde etmek için bir Python programı yazın.\r\n",
    "Örnek Liste : [(2, 5), (1, 2), (4, 4), (2, 3), (2, 1)]\r\n",
    "Beklenen Sonuç : [(2, 1), (1 , 2), (2, 3), (4, 4), (2, 5)]"
   ],
   "metadata": {}
  },
  {
   "cell_type": "code",
   "execution_count": null,
   "source": [
    "#adsum çözüm\r\n",
    "liste = [(2, 5), (1, 2), (4, 4), (2, 3), (2, 1)]\r\n",
    "liste.sort(key=lambda x : x[1])\r\n",
    "print(liste)\r\n",
    "\r\n",
    "#Dustin çözüm\r\n",
    "liste = [(2, 5), (1, 2), (4, 4), (2, 3), (2, 1)]\r\n",
    "new = []\r\n",
    "newest = []\r\n",
    "for k, v in liste:\r\n",
    "    new.append((v, k))\r\n",
    "new.sort()\r\n",
    "for k, v in new:\r\n",
    "    newest.append((v, k))\r\n",
    "print(newest)"
   ],
   "outputs": [],
   "metadata": {}
  },
  {
   "cell_type": "markdown",
   "source": [
    "0., 4. ve 5. elemanları çıkardıktan sonra belirtilen listeyi yazdıracak bir Python programı yazın. \r\n",
    "Örnek Liste : ['Kırmızı', 'Yeşil', 'Beyaz', 'Siyah', 'Pembe', 'Sarı']\r\n",
    "Beklenen Çıktı : ['Yeşil', 'Beyaz', 'Siyah']"
   ],
   "metadata": {}
  },
  {
   "cell_type": "code",
   "execution_count": 6,
   "source": [
    "liste = ['Kırmızı', 'Yeşil', 'Beyaz', 'Siyah', 'Pembe', 'Sarı']\r\n",
    "\r\n",
    "del liste[4], liste[3], liste[0]\r\n",
    "print(liste)"
   ],
   "outputs": [
    {
     "output_type": "stream",
     "name": "stdout",
     "text": [
      "['Yeşil', 'Beyaz', 'Sarı']\n"
     ]
    }
   ],
   "metadata": {}
  },
  {
   "cell_type": "markdown",
   "source": [
    "Sayısal kök , bir sayıdaki tüm rakamların özyinelemeli toplamıdır.\r\n",
    "Verilen n, rakamlarının toplamını alın n. Bu değerin birden fazla hanesi varsa, tek haneli bir sayı üretilene kadar bu şekilde düşürmeye devam edin. Girdi, negatif olmayan bir tam sayı olacaktır.\r\n",
    "Örnekler\r\n",
    "    16  -->  1 + 6 = 7\r\n",
    "   942  -->  9 + 4 + 2 = 15  -->  1 + 5 = 6\r\n",
    "132189  -->  1 + 3 + 2 + 1 + 8 + 9 = 24  -->  2 + 4 = 6\r\n",
    "493193  -->  4 + 9 + 3 + 1 + 9 + 3 = 29  -->  2 + 9 = 11  -->  1 + 1 = 2"
   ],
   "metadata": {}
  },
  {
   "cell_type": "code",
   "execution_count": 2,
   "source": [
    "#Dustin çözümü\r\n",
    "def sayisal_kok(x):\r\n",
    "    x = str(x)\r\n",
    "    uzunluk = len(x)\r\n",
    "    while uzunluk > 1:\r\n",
    "        toplam = 0\r\n",
    "        for i in str(x):\r\n",
    "            toplam += int(i)\r\n",
    "            x = toplam\r\n",
    "        uzunluk = len(str(toplam))\r\n",
    "    return toplam\r\n",
    "\r\n",
    "sayisal_kok(493193)"
   ],
   "outputs": [
    {
     "output_type": "execute_result",
     "data": {
      "text/plain": [
       "2"
      ]
     },
     "metadata": {},
     "execution_count": 2
    }
   ],
   "metadata": {}
  },
  {
   "cell_type": "markdown",
   "source": [
    "Write a Python program to rearrange positive and negative numbers in a given array using Lambda. \r\n",
    "Sample Output:\r\n",
    "Original arrays:\r\n",
    "[-1, 2, -3, 5, 7, 8, 9, -10]\r\n",
    "Rearrange positive and negative numbers of the said array:\r\n",
    "[2, 5, 7, 8, 9, -10, -3, -1] (edited) "
   ],
   "metadata": {}
  },
  {
   "cell_type": "code",
   "execution_count": null,
   "source": [
    "#Dustin çözümü\r\n",
    "liste = [-1, 2, -3, 5, 7, 8, 9, -10]\r\n",
    "list1 = list(filter(lambda x : x > 0, liste))\r\n",
    "list2 = list(sorted(list(filter(lambda x : x < 0, liste))))\r\n",
    "list1.extend(list2)\r\n",
    "print(list1)"
   ],
   "outputs": [],
   "metadata": {}
  },
  {
   "cell_type": "markdown",
   "source": [
    "Problem :\r\n",
    "Given a collection of distinct integers, return all possible permutations.\r\n",
    "Example:\r\n",
    "Input:\r\n",
    "[1,2,3]\r\n",
    "Output:\r\n",
    "[\r\n",
    "  [1,2,3],\r\n",
    "  [1,3,2],\r\n",
    "  [2,1,3],\r\n",
    "  [2,3,1],\r\n",
    "  [3,1,2],\r\n",
    "  [3,2,1]\r\n",
    "]"
   ],
   "metadata": {}
  },
  {
   "cell_type": "code",
   "execution_count": null,
   "source": [
    "#Dustin'inin çözümü\r\n",
    "import random\r\n",
    "a = [1, 2, 3, 4]\r\n",
    "uzunluk = len(a)\r\n",
    "fact = 1\r\n",
    "liste = []\r\n",
    "son = []\r\n",
    "for i in range(1, uzunluk + 1):\r\n",
    "    fact *= i\r\n",
    "while True:\r\n",
    "    x = random.choice(a)\r\n",
    "    if x not in liste:\r\n",
    "        liste.append(x)\r\n",
    "    if len(liste) == uzunluk:\r\n",
    "        if liste not in son:\r\n",
    "            son.append(liste)\r\n",
    "            liste = []\r\n",
    "            if len(son) == fact:\r\n",
    "                break\r\n",
    "        else:\r\n",
    "            liste = []\r\n",
    "son.sort()\r\n",
    "for i in son:\r\n",
    "    print(i)"
   ],
   "outputs": [],
   "metadata": {}
  },
  {
   "cell_type": "code",
   "execution_count": 28,
   "source": [
    "from random import shuffle\r\n",
    "a = [1, 2, 3, 4]\r\n",
    "perm_a=1\r\n",
    "for i in range(1,len(a)+1):\r\n",
    "    perm_a *=i\r\n",
    "result=[]\r\n",
    "temp = a.copy()\r\n",
    "while len(result)<perm_a:\r\n",
    "    shuffle(a)  \r\n",
    "    if a not in result:\r\n",
    "        result.append(a)\r\n",
    "        a=temp.copy()\r\n",
    "result\r\n"
   ],
   "outputs": [
    {
     "output_type": "execute_result",
     "data": {
      "text/plain": [
       "[[3, 4, 2, 1],\n",
       " [4, 2, 1, 3],\n",
       " [2, 1, 4, 3],\n",
       " [4, 1, 2, 3],\n",
       " [2, 1, 3, 4],\n",
       " [1, 4, 2, 3],\n",
       " [1, 3, 4, 2],\n",
       " [2, 4, 1, 3],\n",
       " [3, 2, 4, 1],\n",
       " [1, 2, 4, 3],\n",
       " [3, 2, 1, 4],\n",
       " [1, 4, 3, 2],\n",
       " [3, 1, 4, 2],\n",
       " [4, 2, 3, 1],\n",
       " [2, 3, 1, 4],\n",
       " [4, 3, 2, 1],\n",
       " [1, 3, 2, 4],\n",
       " [3, 1, 2, 4],\n",
       " [4, 3, 1, 2],\n",
       " [2, 3, 4, 1],\n",
       " [4, 1, 3, 2],\n",
       " [1, 2, 3, 4],\n",
       " [3, 4, 1, 2],\n",
       " [2, 4, 3, 1]]"
      ]
     },
     "metadata": {},
     "execution_count": 28
    }
   ],
   "metadata": {}
  },
  {
   "cell_type": "code",
   "execution_count": 23,
   "source": [
    "a = [1, 2, 3]\r\n",
    "b=[]\r\n",
    "for i in range(20):\r\n",
    "    random.shuffle(a)\r\n",
    "    print(a)\r\n",
    "    if a not in b:\r\n",
    "        b.append(a)\r\n",
    "    else:\r\n",
    "        print(\"no\")\r\n",
    "b"
   ],
   "outputs": [
    {
     "output_type": "stream",
     "name": "stdout",
     "text": [
      "[1, 3, 2]\n",
      "[2, 3, 1]\n",
      "no\n",
      "[2, 3, 1]\n",
      "no\n",
      "[2, 3, 1]\n",
      "no\n",
      "[1, 2, 3]\n",
      "no\n",
      "[2, 3, 1]\n",
      "no\n",
      "[1, 2, 3]\n",
      "no\n",
      "[3, 2, 1]\n",
      "no\n",
      "[1, 3, 2]\n",
      "no\n",
      "[3, 2, 1]\n",
      "no\n",
      "[2, 3, 1]\n",
      "no\n",
      "[2, 1, 3]\n",
      "no\n",
      "[1, 3, 2]\n",
      "no\n",
      "[2, 3, 1]\n",
      "no\n",
      "[1, 2, 3]\n",
      "no\n",
      "[1, 3, 2]\n",
      "no\n",
      "[3, 2, 1]\n",
      "no\n",
      "[2, 1, 3]\n",
      "no\n",
      "[2, 3, 1]\n",
      "no\n",
      "[2, 3, 1]\n",
      "no\n"
     ]
    },
    {
     "output_type": "execute_result",
     "data": {
      "text/plain": [
       "[[2, 3, 1]]"
      ]
     },
     "metadata": {},
     "execution_count": 23
    }
   ],
   "metadata": {}
  },
  {
   "cell_type": "code",
   "execution_count": 12,
   "source": [
    "import random\r\n",
    "a = [1,2,3]\r\n",
    "b = []\r\n",
    "while len(b) < 6:\r\n",
    "  random.shuffle(a)\r\n",
    "  if a not in b:\r\n",
    "    b.append(a)\r\n",
    "    a = [1,2,3]\r\n",
    "b"
   ],
   "outputs": [
    {
     "output_type": "execute_result",
     "data": {
      "text/plain": [
       "[[1, 3, 2], [1, 2, 3], [2, 1, 3], [3, 1, 2], [2, 3, 1], [3, 2, 1]]"
      ]
     },
     "metadata": {},
     "execution_count": 12
    }
   ],
   "metadata": {}
  },
  {
   "cell_type": "markdown",
   "source": [
    "Given an N by N matrix, rotate it by 90 degrees clockwise. For example, given the following matrix:\r\n",
    "[[1, 2, 3],\r\n",
    "[4, 5, 6],\r\n",
    "[7, 8, 9]]\r\n",
    "You should return:\r\n",
    "[[7, 4, 1],\r\n",
    "[8, 5, 2],\r\n",
    "[9, 6, 3]]\r\n",
    "\r\n",
    "https://slack-files.com/T022H615A9H-F029R0Q3ZT9-9a4f597a5b"
   ],
   "metadata": {}
  },
  {
   "cell_type": "code",
   "execution_count": null,
   "source": [
    "# Function to rotate the matrix\r\n",
    "# 90 degree clockwise\r\n",
    "def rotate90Clockwise(A):\r\n",
    "    N = len(A[0])\r\n",
    "    for i in range(N // 2):\r\n",
    "        for j in range(i, N - i - 1):\r\n",
    "            temp = A[i][j]\r\n",
    "            A[i][j] = A[N - 1 - j][i]\r\n",
    "            A[N - 1 - j][i] = A[N - 1 - i][N - 1 - j]\r\n",
    "            A[N - 1 - i][N - 1 - j] = A[j][N - 1 - i]\r\n",
    "            A[j][N - 1 - i] = temp\r\n",
    " \r\n",
    "# Function to print the matrix\r\n",
    "def printMatrix(A):\r\n",
    "    N = len(A[0])\r\n",
    "    for i in range(N):\r\n",
    "        print(A[i])\r\n",
    " \r\n",
    "# Driver code\r\n",
    "A = [[1, 2, 3, 4],\r\n",
    "     [5, 6, 7, 8],\r\n",
    "     [9, 10, 11, 12],\r\n",
    "     [13, 14, 15, 16]]\r\n",
    "rotate90Clockwise(A)\r\n",
    "printMatrix(A)\r\n",
    " \r\n",
    "# This code was contributed\r\n",
    "# by pk_tautolo\r\n"
   ],
   "outputs": [],
   "metadata": {}
  },
  {
   "cell_type": "markdown",
   "source": [
    "Given a string containing just the characters '(', ')', '{', '}', '[' and ']',\r\n",
    "determine if the input string is valid.\r\n",
    "An input string is valid if:\r\n",
    "Open brackets must be closed by the same type of brackets.\r\n",
    "Open brackets must be closed in the correct order.\r\n",
    "Note that an empty string is also considered valid.\r\n",
    "Example 1:\r\n",
    "Input: \"()\"\r\n",
    "Output: True\r\n",
    "Example 2:\r\n",
    "Input: \"()[]{}\"\r\n",
    "Output: True\r\n",
    "Example 3:\r\n",
    "Input: \"(]\"\r\n",
    "Output: False\r\n",
    "Example 4:\r\n",
    "Input: \"([)]\"\r\n",
    "Output: False\r\n",
    "Example 5:\r\n",
    "Input: \"{[]}\"\r\n",
    "Output: True "
   ],
   "metadata": {}
  },
  {
   "cell_type": "code",
   "execution_count": null,
   "source": [
    "def find_valid(string_tocheck=\"{[]}()\"):\r\n",
    "    item_list = list(string_tocheck)\r\n",
    "    ends={\"{\":\"}\", \"(\":\")\", \"[\":\"]\"}\r\n",
    "    closed_list = []\r\n",
    "    for item in item_list:\r\n",
    "        if len(closed_list)==0 and ends.get(item):\r\n",
    "            closed_list.append(ends[item])\r\n",
    "            continue\r\n",
    "        \r\n",
    "        if len(closed_list)>0 and item == closed_list[-1] :\r\n",
    "            closed_list.pop()\r\n",
    "        elif ends.get(item):\r\n",
    "            closed_list.append(ends[item])\r\n",
    "        else:\r\n",
    "            return False\r\n",
    "    \r\n",
    "    if len(closed_list)>0:\r\n",
    "        return False\r\n",
    "    else:\r\n",
    "        return True\r\n",
    "\r\n",
    "print(find_valid(\"(){}[[()]]\"))\r\n"
   ],
   "outputs": [],
   "metadata": {}
  },
  {
   "cell_type": "markdown",
   "source": [
    "Joseph hocanın çözümü:"
   ],
   "metadata": {}
  },
  {
   "cell_type": "code",
   "execution_count": null,
   "source": [
    "def isValid(text_check):\r\n",
    "    while \"()\" in text_check or \"[]\" in text_check or \"{}\" in text_check:\r\n",
    "        text_check = text_check.replace(\"()\", \"\").replace(\"[]\", \"\").replace(\"{}\", \"\")\r\n",
    "    return text_check == \"\"\r\n",
    "\r\n",
    "x = \"([{({})}]({}))\"\r\n",
    "isValid(x)"
   ],
   "outputs": [],
   "metadata": {}
  },
  {
   "cell_type": "markdown",
   "source": [
    "Collatz dizisi uzunluğunu bulunuz.Collatz dizisinde bir sonraki sayıyı bulma kuralı şöyledir:\r\n",
    "ni çift sayıysa: ni+1=ni/2\r\n",
    "ni tek sayıysa: ni+1=3ni+1\r\n",
    "ni=1ise dur.\r\n",
    "Söz gelişi, 13 ile başlayan bir dizi aşağıdaki gibi olur.\r\n",
    "13, 40, 20, 10, 5, 16, 8, 4, 2, 1"
   ],
   "metadata": {}
  },
  {
   "cell_type": "code",
   "execution_count": 1,
   "source": [
    "num = int( input(\"please enter the number:\") )\r\n",
    "collatz_list = [num]\r\n",
    "\r\n",
    "while num != 1:\r\n",
    "    if num % 2:\r\n",
    "        num = 3*num + 1\r\n",
    "    else:\r\n",
    "        num = num // 2\r\n",
    "    collatz_list.append(num)\r\n",
    "\r\n",
    "print(*collatz_list)\r\n"
   ],
   "outputs": [
    {
     "output_type": "stream",
     "name": "stdout",
     "text": [
      "33 100 50 25 76 38 19 58 29 88 44 22 11 34 17 52 26 13 40 20 10 5 16 8 4 2 1\n"
     ]
    }
   ],
   "metadata": {}
  },
  {
   "cell_type": "markdown",
   "source": [
    "Imagine you took all the numbers between 0 and n and concatenated them together into a long string. How many digits are there between 0 and n? Write a function that can calculate this.\r\n",
    "There are 0 digits between 0 and 1, there are 9 digits between 0 and 10 and there are 189 digits between 0 and 100.\r\n",
    "Examples digits(1) ➞ 0\r\n",
    "digits(10) ➞ 9\r\n",
    "digits(100) ➞ 189\r\n",
    "digits(2020) ➞ 6969\r\n",
    "Notes The numbers are going to be rather big so creating that string won't be practical.\r\n",
    "(Eğer fonksiyonlar bitmediyse kullanıcadan input alarak da çözebilirsiniz)"
   ],
   "metadata": {}
  },
  {
   "cell_type": "code",
   "execution_count": null,
   "source": [
    "def digits(n):\r\n",
    "    lentgth_digits = 0\r\n",
    "    if n<=1:\r\n",
    "        lentgth_digits = 1\r\n",
    "    else:\r\n",
    "        for i in range(n):\r\n",
    "            lentgth_digits += len(str(i))        \r\n",
    "        \r\n",
    "    return lentgth_digits -1\r\n",
    "\r\n",
    "print(digits(100))\r\n"
   ],
   "outputs": [],
   "metadata": {}
  },
  {
   "cell_type": "markdown",
   "source": [
    "Python Functions ufak bi giriş yapalım\r\n",
    "Note: Built-in Functions kullanmayalım\r\n",
    "Write a Python function to find the Max of three numbers."
   ],
   "metadata": {}
  },
  {
   "cell_type": "code",
   "execution_count": null,
   "source": [
    "num_list = [2, 25, -96]\r\n",
    "\r\n",
    "max_num = num_list[0]\r\n",
    "for i in num_list:\r\n",
    "    if i > max_num:\r\n",
    "        max_num = i\r\n",
    "print(max_num)"
   ],
   "outputs": [],
   "metadata": {}
  },
  {
   "cell_type": "markdown",
   "source": [
    "Write a Python program which iterates the integers from 1 to 50. For multiples of three print \"Fizz\" instead of the number and for the multiples of five print \"Buzz\". For numbers which are multiples of both three and five print \"FizzBuzz\".\r\n",
    "Sample Output :\r\n",
    "fizzbuzz\r\n",
    "1\r\n",
    "2\r\n",
    "fizz\r\n",
    "4\r\n",
    "buzz (edited) "
   ],
   "metadata": {}
  },
  {
   "cell_type": "code",
   "execution_count": null,
   "source": [
    "n = 50\r\n",
    "for i in range(1,n+1):\r\n",
    "    if not i % 15:\r\n",
    "       print(\"FizzBuzz\")\r\n",
    "    elif not i % 5:\r\n",
    "        print(\"Buzz\")\r\n",
    "    elif not i % 3:\r\n",
    "        print(\"Fizz\")\r\n",
    "    else:\r\n",
    "        print(i)\r\n"
   ],
   "outputs": [],
   "metadata": {}
  },
  {
   "cell_type": "markdown",
   "source": [
    "Given a signed 32-bit integer x, return x with its digits reversed. If reversing x causes the value to go outside the signed 32-bit integer range [-2^31, 2^31 - 1], then return 0.\r\n",
    "Assume the environment does not allow you to store 64-bit integers (signed or unsigned).\r\n",
    "Example 1:\r\n",
    "Input: x = 123\r\n",
    "Output: 321\r\n",
    " \r\n",
    "Example 2:\r\n",
    "Input: x = -123\r\n",
    "Output: -321\r\n",
    " \r\n",
    "Example 3:\r\n",
    "Input: x = 120\r\n",
    "Output: 21\r\n",
    " \r\n",
    "Example 4:\r\n",
    "Input: x = 0\r\n",
    "Output: 0\r\n",
    "Constraints:\r\n",
    "-2^31 <= x <= 2^31 - 1"
   ],
   "metadata": {}
  },
  {
   "cell_type": "code",
   "execution_count": null,
   "source": [
    "num = int(input(\"please enter the number\"))\r\n",
    "\r\n",
    "sign_num = (num <= 0)*-2 + 1\r\n",
    "\r\n",
    "num_rev = int(str(abs(num))[::-1]) * sign_num\r\n",
    "\r\n",
    "if (num_rev < -2**31) or (num_rev > (2**31 + 1)):\r\n",
    "    num_rev = 0\r\n",
    "\r\n",
    "print(\"Original number :\", num)\r\n",
    "print(\"Reversed number :\", num_rev)"
   ],
   "outputs": [],
   "metadata": {}
  },
  {
   "cell_type": "markdown",
   "source": [
    "Write a Python program to construct the triangle pattern, using a nested for loop.\r\n"
   ],
   "metadata": {}
  },
  {
   "cell_type": "code",
   "execution_count": null,
   "source": [
    "n = 5\r\n",
    "triangle_list = list(range(1, n+1))\r\n",
    "triangle_list.extend(range(n-1, 0, -1))\r\n",
    "\r\n",
    "for i in triangle_list:\r\n",
    "    print(\"*\"*i)"
   ],
   "outputs": [],
   "metadata": {}
  },
  {
   "cell_type": "markdown",
   "source": [
    "Arkadaşlar Selam;\r\n",
    "Döngüler ve liste metotlarını kullanarak çözebileceğiniz bir soru geliyor. Her arkadaşın biraz gayretle çözebileceği nitelikte bir soru. Şimdiden hepinize kolay gelsin.\r\n",
    "num = [48, 10, 11, 21, 36, 5, 6, 52, 28, 29,\r\n",
    "       53, 54, 45, 19, 20, 47, 55, 39, 41, 7,\r\n",
    "       9, 17, 26, 27, 42, 22, 37, 51, 46, 18,\r\n",
    "       44, 30, 34, 13, 15, 35, 33, 16, 50, 24]\r\n",
    "Elemanları ardışık sayılardan oluşan karışık halde bir liste veriliyor. Listenin en küçük elemanı ile en büyük elemanı arasında yer alan, ancak listede gösterilmeyen eksik sayılardan çift olanları çıktı veren python kodu yazınız.\r\n",
    "Beklenen Çıktı:\r\n",
    "8\r\n",
    "12\r\n",
    "14\r\n",
    "32\r\n",
    "38\r\n",
    "40"
   ],
   "metadata": {}
  },
  {
   "cell_type": "code",
   "execution_count": null,
   "source": [
    "num = [48, 10, 11, 21, 36, 5, 6, 52, 28, 29, 53, 54, 45, 19, 20, 47, 55, 39, 41, 7, 9, 17, 26, 27, 42, 22, 37, 51, 46, 18, 44, 30, 34, 13, 15, 35, 33, 16, 50, 24]\r\n",
    "max_num = max(num)\r\n",
    "min_num = min(num)\r\n",
    "\r\n",
    "for i in range(min_num,max_num + 1):\r\n",
    "    if (not i%2) and (not (i in num)):\r\n",
    "        print(i)\r\n",
    "\r\n",
    "\r\n"
   ],
   "outputs": [],
   "metadata": {}
  },
  {
   "cell_type": "markdown",
   "source": [
    "Interview'larda Google, Facebook, Microsoft firmalarınca kullanılan bir soru. Biriken su birim miktarını bulmaca.\r\n",
    "--\r\n",
    "orjinal metin :\r\n",
    "Given an array of non-negative integers representing an elevation map as shown below where the width of each bar is 1, compute how much water will be trapped on terrain after raining. To clarify further, the black boxes represents terrain and its height, and the blue boxes represents the water that could be trapped on the terrain.\r\n",
    "Lütfen bir iki sonra thread olarak çözümleri paylaşalım. Mevcut müfredat dahilinde çözelim...\r\n",
    "\r\n",
    "https://itfundamentals009.slack.com/files/U023HR1QH35/F029C4E28BW/image.png\r\n",
    "\r\n",
    "<img src=\"images/image (2).png\" height=300>\r\n"
   ],
   "metadata": {}
  },
  {
   "cell_type": "code",
   "execution_count": null,
   "source": [
    "terrain = [0,1,0,2,1,0,1,3,2,1,2,1]\r\n",
    "\r\n",
    "total_water = 0\r\n",
    "for width in range(2,len(terrain) -1):\r\n",
    "    for i in range(len(terrain) - width):\r\n",
    "        chunk = terrain[i:i+width+1]\r\n",
    "        if all(element < chunk[0] for element in chunk[1:-1]) and all(element < chunk[-1] for element in chunk[1:-1]):\r\n",
    "            height = min(chunk[0],chunk[-1]) - max(chunk[1:-1])\r\n",
    "            total_water += (width-1)*height\r\n",
    "\r\n",
    "print(total_water)"
   ],
   "outputs": [],
   "metadata": {}
  },
  {
   "cell_type": "markdown",
   "source": [
    "Bir markete gittiniz. Markette her ürünün bir kod numarası var.\r\n",
    "1 : Domates 2 : Soğan 3 : Biber 4 : Yumurta 5 : Elma 6 : Armut ... vs. şeklinde.\r\n",
    "Kullanıcıya almak istediği ürünü sorunuz ve kod numarası ile seçim yaptırınız. Çıkış için \"q\" opsiyonunu sununuz. Kullanıcının her ürün seçimi sonrası \" .... domates sepete eklendi\" gibi bir dönüt veriniz. Kullanıcı ürün almaya devam ettikçe ürünleri bir listede toplayınız, almaktan vazgeçtiği durumda teşekkür edip, aldığı toplam ürünleri çıktı veren bir kod yazınız.\r\n",
    "Beklenen Çıktı:\r\n",
    "Teşekkür Ederiz...\r\n",
    "Sepetinizde Bulunan Ürünler: elma, armut, yumurta ... vs.\r\n",
    "Kolay Gelsin Arkadaşlar... (edited) "
   ],
   "metadata": {}
  },
  {
   "cell_type": "code",
   "execution_count": null,
   "source": [
    "print(\"Lütfen almak istediğiniz ürününün kodunu giriniz. Çıkmak için q giriniz.\")\r\n",
    "print(\"1 : Domates 2 : Soğan 3 : Biber 4 : Yumurta 5 : Elma 6 : Armut\")\r\n",
    "urunler = {1 : \"Domates\", 2 : \"Soğan\", 3 : \"Biber\", 4 : \"Yumurta\", 5 : \"Elma\", 6 : \"Armut\"}\r\n",
    "\r\n",
    "siparis = input().lower()\r\n",
    "sepet = []\r\n",
    "while siparis != \"q\":\r\n",
    "    siparis = int(siparis)\r\n",
    "    if siparis > 6 or siparis < 1 :\r\n",
    "        print(\"Yanlış giriş, tekrar giriniz.\")\r\n",
    "        continue\r\n",
    "    sepet.append(urunler[siparis])\r\n",
    "    print(f\"{urunler[siparis]} sepetinize eklendi.\")\r\n",
    "    siparis = input().lower()\r\n",
    "\r\n",
    "print(\"Teşekür ederiz.\")\r\n",
    "print(\"Sepetinizde bulunan ürünler:\", *set(sepet))\r\n",
    "\r\n",
    "\r\n",
    "    "
   ],
   "outputs": [],
   "metadata": {}
  },
  {
   "cell_type": "markdown",
   "source": [
    "ask : Create a program that will play the “cows and bulls” game with the user. The game works like this:\r\n",
    "Randomly generate a 4-digit number. Ask the user to guess a 4-digit number. For every digit that the user guessed correctly in the correct place, they have a “cow”. For every digit the user guessed correctly in the wrong place is a “bull.” Every time the user makes a guess, tell them how many “cows” and “bulls” they have. Once the user guesses the correct number, the game is over. Keep track of the number of guesses the user makes throughout teh game and tell the user at the end.\r\n",
    "Say the number generated by the computer is 1038. An example interaction could look like this:\r\n",
    "  Welcome to the Cows and Bulls Game! \r\n",
    "  Enter a number: \r\n",
    "  >>> 1234\r\n",
    "  2 cows, 0 bulls\r\n",
    "  >>> 1256\r\n",
    "  1 cow, 1 bull\r\n",
    "  ..."
   ],
   "metadata": {}
  },
  {
   "cell_type": "code",
   "execution_count": null,
   "source": [
    "number = list(\"1038\")\r\n",
    "cow, bull = 0, 0\r\n",
    "while cow < len(number) :\r\n",
    "    guess = list(input(\"Enter a 4 digit guess:\"))\r\n",
    "    cow, bull = 0, 0\r\n",
    "    for i, ind in zip(number,range(len(number))):\r\n",
    "        if i in guess:\r\n",
    "            if ind==guess.index(i):\r\n",
    "                cow += 1\r\n",
    "            else:\r\n",
    "                bull += 1\r\n",
    "    print(\"\".join(guess), \" has \", cow, \"cow\", bull, \"bull\")"
   ],
   "outputs": [],
   "metadata": {}
  },
  {
   "cell_type": "markdown",
   "source": [
    "Merhabalar arkadaşlar, maşallah diyeyim baya bi soru paylaşılıyor:smiley: Paylaşan, çözen herkesin emeğine sağlık:clap:Tüm arkadaşlara çözümlere katılmalarını tavsiye ederim:wink: Buyrunuz, kolay gelsin:woman-raising-hand:\r\n",
    "Given a string of words, you need to find the highest scoring word.\r\n",
    "Each letter of a word scores points according to its position in the alphabet: a = 1, b = 2, c = 3 etc.\r\n",
    "You need to return the highest scoring word as a string.\r\n",
    "If two words score the same, return the word that appears earliest in the original string.\r\n",
    "All letters will be lowercase and all inputs will be valid.\r\n",
    "Examples:\r\n",
    "'man i need a taxi up to ubud' ---> 'taxi'\r\n",
    "'what time are we climbing up the volcano' ----> 'volcano'\r\n",
    "'take me to semynak' ---> 'semynak'\r\n",
    "'aa b'  --->  'aa'\r\n",
    "'b aa'  --->  'b'\r\n",
    "'bb d'  --- > 'bb'\r\n",
    "'d bb'  ---> 'd'\r\n",
    "\"aaa b\"  -->  \"aaa\""
   ],
   "metadata": {}
  },
  {
   "cell_type": "code",
   "execution_count": null,
   "source": [
    "#Dustin çözüm\r\n",
    "alphabet = [chr(i) for i in range(97, 123)]\r\n",
    "dictt_1 = {}\r\n",
    "dictt_2 = {}\r\n",
    "for i in range(len(alphabet)):\r\n",
    "    dictt_1[alphabet[i]] = i + 1\r\n",
    "text = input('Please enter your text here > ')\r\n",
    "text_list = text.lower().split()\r\n",
    "for i in text_list:\r\n",
    "    total = 0\r\n",
    "    for x in i:\r\n",
    "        total += dictt_1[x]\r\n",
    "    dictt_2[i] = total\r\n",
    "listt = list(dictt_2.values())\r\n",
    "biggest = max(listt)\r\n",
    "for x, y in dictt_2.items():\r\n",
    "    if y == biggest:\r\n",
    "        print(x)\r\n",
    "        break"
   ],
   "outputs": [],
   "metadata": {}
  },
  {
   "cell_type": "markdown",
   "source": [
    "Numbers = [18,21,14,84,65,35,10,20,28,42,24,91,5,7,54,69]\r\n",
    "Numbers listesi içindeki sayılardan 7’ e bölünebilenleri küçükten büyüğe doğru olacak şeklide listeleyin. Ayrıca kaç tanesinin 7’ e bölünebildiğini yazdırın."
   ],
   "metadata": {}
  },
  {
   "cell_type": "code",
   "execution_count": 10,
   "source": [
    "numbers = [18,21,14,84,65,35,10,20,28,42,24,91,5,7,54,69]\r\n",
    "seven_list=[]\r\n",
    "for i in numbers:\r\n",
    "    if i%7==0:\r\n",
    "        seven_list.append(i)\r\n",
    "seven_list.sort()\r\n",
    "print(seven_list)\r\n",
    "print(len(seven_list), \"adet sayı 7'ye bölünüyor.\")\r\n"
   ],
   "outputs": [
    {
     "output_type": "stream",
     "name": "stdout",
     "text": [
      "[7, 14, 21, 28, 35, 42, 84, 91]\n",
      "8 adet syı 7'ye bölünüyor.\n"
     ]
    }
   ],
   "metadata": {}
  },
  {
   "cell_type": "markdown",
   "source": [
    "Write a Python code that find the students who have maximum and minimum average at below.\r\n",
    "grades={'Student-1': {'Lesson-1': 57, 'Lesson-2': 46, 'Lesson-3': 58, 'Lesson-4': 81, 'Lesson-5': 85}, 'Student-2': {'Lesson-1': 85, 'Lesson-2': 56, 'Lesson-3': 51, 'Lesson-4': 69, 'Lesson-5': 67}, 'Student-3': {'Lesson-1': 68, 'Lesson-2': 76, 'Lesson-3': 87, 'Lesson-4': 57, 'Lesson-5': 56}, 'Student-4': {'Lesson-1': 78, 'Lesson-2': 93, 'Lesson-3': 88, 'Lesson-4': 38, 'Lesson-5': 54}, 'Student-5': {'Lesson-1': 50, 'Lesson-2': 46, 'Lesson-3': 78, 'Lesson-4': 81, 'Lesson-5': 75}}"
   ],
   "metadata": {}
  },
  {
   "cell_type": "code",
   "execution_count": null,
   "source": [
    "#Dustin çözüm\r\n",
    "grades={\r\n",
    "    'Student-1': {'Lesson-1': 57, 'Lesson-2': 46, 'Lesson-3': 58, 'Lesson-4': 81, 'Lesson-5': 85}, \r\n",
    "    'Student-2': {'Lesson-1': 85, 'Lesson-2': 56, 'Lesson-3': 51, 'Lesson-4': 69, 'Lesson-5': 67}, \r\n",
    "    'Student-3': {'Lesson-1': 68, 'Lesson-2': 76, 'Lesson-3': 87, 'Lesson-4': 57, 'Lesson-5': 56}, \r\n",
    "    'Student-4': {'Lesson-1': 78, 'Lesson-2': 93, 'Lesson-3': 88, 'Lesson-4': 38, 'Lesson-5': 54}, \r\n",
    "    'Student-5': {'Lesson-1': 50, 'Lesson-2': 46, 'Lesson-3': 78, 'Lesson-4': 81, 'Lesson-5': 75}}\r\n",
    "student_dict = {}\r\n",
    "student_list = []\r\n",
    "students = list(grades.keys())\r\n",
    "for i in grades.values():\r\n",
    "    total = 0\r\n",
    "    for x, y in i.items():\r\n",
    "        total += y\r\n",
    "        if x == list(grades['Student-1'].keys())[-1]:\r\n",
    "            total = total / len(grades)\r\n",
    "            student_list.append(total)\r\n",
    "            continue\r\n",
    "for i in range(len(grades)):\r\n",
    "    student_dict[student_list[i]] = students[i]\r\n",
    "maximum = max(list(student_dict.keys()))\r\n",
    "minimum = min(list(student_dict.keys()))\r\n",
    "print(f'The student who has the maximum average is {student_dict[maximum]} and his/her score is {maximum}.')\r\n",
    "print(f'The student who has the minimum average is {student_dict[minimum]} and his/her score is {minimum}.')"
   ],
   "outputs": [],
   "metadata": {}
  },
  {
   "cell_type": "markdown",
   "source": [
    "Task: Time for some fake graphics! Let’s say we want to draw game boards that look like this:\r\n",
    "\r\n",
    "<img src=\"images/game board.png\"> \r\n",
    "\r\n",
    "This one is 3x3 (like in tic tac toe). Obviously, they come in many other sizes (8x8 for chess, 19x19 for Go, and many more).\r\n",
    "Ask the user what size game board they want to draw, and draw it for them to the screen using Python’s print statement."
   ],
   "metadata": {}
  },
  {
   "cell_type": "code",
   "execution_count": null,
   "source": [
    "#Ahmet çözüm\r\n",
    "print('Welcome to the Game!!!')\r\n",
    "size = input('What size of game board do you want me to draw? (e.g., 3X3) > ')\r\n",
    "row = int(size)\r\n",
    "column = int(size)\r\n",
    "row_print = \" ---\"\r\n",
    "column_print = \"|   \"\r\n",
    "for i in range(row):\r\n",
    "    print(row_print * column)\r\n",
    "    print(column_print * (column + 1))\r\n",
    "print(row_print * column)"
   ],
   "outputs": [],
   "metadata": {}
  },
  {
   "cell_type": "markdown",
   "source": [
    "Arkadaşlar Merhaba;\r\n",
    "Kullanıcıdan bir cümle alan ve cümle içerisinde geçen sesli harflerin her birinden kaçar tane olduğunu çıktı veren bir program yazınız.\r\n",
    "Girilen harflerin küçük/büyük olabileceği ihtimalini göz önünde bulundurunuz.\r\n",
    "Kolay Gelsin...\r\n",
    "Beklenen Çıktı:\r\n",
    "cümle: Sakla samanı gelir zamanı.\r\n",
    "a: 6\r\n",
    "ı: 2\r\n",
    "e: 1\r\n",
    "i: 1 (edited) "
   ],
   "metadata": {}
  },
  {
   "cell_type": "code",
   "execution_count": 9,
   "source": [
    "#Murat çözüm\r\n",
    "cumle = \"Sakla samani gelir zamani\"\r\n",
    "vowels = \"aeiouAEIOU\"\r\n",
    "a={}\r\n",
    "for i in cumle:\r\n",
    "    if i in vowels:\r\n",
    "        if i not in a:\r\n",
    "            a[i] = 1\r\n",
    "        else:\r\n",
    "            a[i] = cumle.count(i)  \r\n",
    "print(a)"
   ],
   "outputs": [
    {
     "output_type": "stream",
     "name": "stdout",
     "text": [
      "{'a': 6, 'i': 3, 'e': 1}\n"
     ]
    }
   ],
   "metadata": {}
  },
  {
   "cell_type": "markdown",
   "source": [
    "Write a Python code to sort the list at below without using .sort() method of list. elements of list = [999, 333, 2, 8982, 12, 45, 77, 99, 11] Expected output: [2, 11, 12, 45, 77, 99, 333, 999, 8982]"
   ],
   "metadata": {}
  },
  {
   "cell_type": "code",
   "execution_count": 8,
   "source": [
    "#Murat çözümü\r\n",
    "list_ = [999, 333, 2, 8982, 12, 45, 77, 99, 11]\r\n",
    "new_list = []\r\n",
    "\r\n",
    "while list_:\r\n",
    "    min_element = list_[0]\r\n",
    "    for i in list_:\r\n",
    "        if i < min_element:\r\n",
    "            min_element = i\r\n",
    "    new_list.append(min_element)\r\n",
    "    list_.remove(min_element)\r\n",
    "print(new_list)"
   ],
   "outputs": [
    {
     "output_type": "stream",
     "name": "stdout",
     "text": [
      "[2, 11, 12, 45, 77, 99, 333, 999, 8982]\n"
     ]
    }
   ],
   "metadata": {}
  },
  {
   "cell_type": "markdown",
   "source": [
    "Take a string with input() and returns the Morse code equivalent.\r\n",
    "Examples\r\n",
    "\"EDABBIT CHALLENGE\" ➞ \". -.. .- -... -... .. -   -.-. .... .- .-.. .-.. . -. --. .\"\r\n",
    "\"HELP ME !\" ➞ \".... . .-.. .--.   -- .   -.-.--\"\r\n",
    "This dictionary can be used for coding:\r\n",
    "char_to_dots = {\r\n",
    "  'A': '.-', 'B': '-...', 'C': '-.-.', 'D': '-..', 'E': '.', 'F': '..-.',\r\n",
    "  'G': '--.', 'H': '....', 'I': '..', 'J': '.---', 'K': '-.-', 'L': '.-..',\r\n",
    "  'M': '--', 'N': '-.', 'O': '---', 'P': '.--.', 'Q': '--.-', 'R': '.-.',\r\n",
    "  'S': '...', 'T': '-', 'U': '..-', 'V': '...-', 'W': '.--', 'X': '-..-',\r\n",
    "  'Y': '-.--', 'Z': '--..', ' ': ' ', '0': '-----',\r\n",
    "  '1': '.----', '2': '..---', '3': '...--', '4': '....-', '5': '.....',\r\n",
    "  '6': '-....', '7': '--...', '8': '---..', '9': '----.',\r\n",
    "  '&': '.-...', \"'\": '.----.', '@': '.--.-.', ')': '-.--.-', '(': '-.--.',\r\n",
    "  ':': '---...', ',': '--..--', '=': '-...-', '!': '-.-.--', '.': '.-.-.-',\r\n",
    "  '-': '-....-', '+': '.-.-.', '\"': '.-..-.', '?': '..--..', '/': '-..-.'\r\n",
    "}"
   ],
   "metadata": {}
  },
  {
   "cell_type": "code",
   "execution_count": 7,
   "source": [
    "char_to_dots = {\r\n",
    "  'A': '.-', 'B': '-...', 'C': '-.-.', 'D': '-..', 'E': '.', 'F': '..-.',\r\n",
    "  'G': '--.', 'H': '....', 'I': '..', 'J': '.---', 'K': '-.-', 'L': '.-..',\r\n",
    "  'M': '--', 'N': '-.', 'O': '---', 'P': '.--.', 'Q': '--.-', 'R': '.-.',\r\n",
    "  'S': '...', 'T': '-', 'U': '..-', 'V': '...-', 'W': '.--', 'X': '-..-',\r\n",
    "  'Y': '-.--', 'Z': '--..', ' ': ' ', '0': '-----',\r\n",
    "  '1': '.----', '2': '..---', '3': '...--', '4': '....-', '5': '.....',\r\n",
    "  '6': '-....', '7': '--...', '8': '---..', '9': '----.',\r\n",
    "  '&': '.-...', \"'\": '.----.', '@': '.--.-.', ')': '-.--.-', '(': '-.--.',\r\n",
    "  ':': '---...', ',': '--..--', '=': '-...-', '!': '-.-.--', '.': '.-.-.-',\r\n",
    "  '-': '-....-', '+': '.-.-.', '\"': '.-..-.', '?': '..--..', '/': '-..-.'\r\n",
    "}\r\n",
    "word = input(\"Enter a string:\").upper()\r\n",
    "coded_word=\"\"\r\n",
    "for ch in word:\r\n",
    "    coded_word += char_to_dots[ch] + \" \"\r\n",
    "print(coded_word)\r\n"
   ],
   "outputs": [
    {
     "output_type": "stream",
     "name": "stdout",
     "text": [
      ".... . .-.. .--.   -- .   -.-.-- \n"
     ]
    }
   ],
   "metadata": {}
  }
 ],
 "metadata": {
  "orig_nbformat": 4,
  "language_info": {
   "name": "python",
   "version": "3.9.5",
   "mimetype": "text/x-python",
   "codemirror_mode": {
    "name": "ipython",
    "version": 3
   },
   "pygments_lexer": "ipython3",
   "nbconvert_exporter": "python",
   "file_extension": ".py"
  },
  "kernelspec": {
   "name": "python3",
   "display_name": "Python 3.9.5 64-bit"
  },
  "interpreter": {
   "hash": "53a7fbe61d203d2dd91b6503d1477158e1dbff0453a610a9c429187bdf87bf58"
  }
 },
 "nbformat": 4,
 "nbformat_minor": 2
}